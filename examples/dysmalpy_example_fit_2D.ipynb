{
 "cells": [
  {
   "cell_type": "markdown",
   "metadata": {
    "collapsed": true
   },
   "source": [
    "# Example `Dysmalpy` 2D fitting #"
   ]
  },
  {
   "cell_type": "markdown",
   "metadata": {},
   "source": [
    "**Includes the following components:**\n",
    " - Disk + Bulge\n",
    " - NFW halo\n",
    " - Constant velocity dispersion"
   ]
  },
  {
   "cell_type": "markdown",
   "metadata": {},
   "source": [
    "##### Setup notebook #####"
   ]
  },
  {
   "cell_type": "code",
   "execution_count": 1,
   "metadata": {
    "collapsed": true
   },
   "outputs": [],
   "source": [
    "import matplotlib.pyplot as plt\n",
    "%matplotlib inline\n",
    "\n",
    "from IPython.display import IFrame"
   ]
  },
  {
   "cell_type": "markdown",
   "metadata": {},
   "source": [
    "#### First import modules ####"
   ]
  },
  {
   "cell_type": "code",
   "execution_count": 2,
   "metadata": {
    "collapsed": true
   },
   "outputs": [],
   "source": [
    "from __future__ import (absolute_import, division, print_function,\n",
    "                        unicode_literals)\n",
    "\n",
    "from dysmalpy import galaxy\n",
    "from dysmalpy import models\n",
    "from dysmalpy import fitting\n",
    "from dysmalpy import instrument\n",
    "from dysmalpy import data_classes\n",
    "from dysmalpy import parameters\n",
    "from dysmalpy import plotting\n",
    "\n",
    "import os\n",
    "import copy\n",
    "\n",
    "import numpy as np\n",
    "import astropy.units as u\n",
    "import astropy.io.fits as fits"
   ]
  },
  {
   "cell_type": "code",
   "execution_count": 3,
   "metadata": {
    "collapsed": true
   },
   "outputs": [],
   "source": [
    "import logging\n",
    "logger = logging.getLogger('DysmalPy')\n",
    "logger.setLevel(logging.INFO)"
   ]
  },
  {
   "cell_type": "markdown",
   "metadata": {},
   "source": [
    "#### Set data, output paths ####"
   ]
  },
  {
   "cell_type": "code",
   "execution_count": 4,
   "metadata": {
    "collapsed": true
   },
   "outputs": [],
   "source": [
    "# Data directory\n",
    "data_dir = '/Users/sedona/data/mpe_ir/gs4_43501_dysmalpy_fitting/GS4_43501_H250/'\n",
    "#'/YOUR/DATA/PATH/'\n",
    "\n",
    "# Where to save output files\n",
    "out_dir  = './output_2D/'"
   ]
  },
  {
   "cell_type": "markdown",
   "metadata": {},
   "source": [
    "-------------------"
   ]
  },
  {
   "cell_type": "markdown",
   "metadata": {},
   "source": [
    "##### Set function to tie scale height relative to effective radius #####"
   ]
  },
  {
   "cell_type": "code",
   "execution_count": 5,
   "metadata": {
    "collapsed": true
   },
   "outputs": [],
   "source": [
    "def tie_sigz_reff(model_set):\n",
    " \n",
    "    reff = model_set.components['disk+bulge'].r_eff_disk.value\n",
    "    invq = model_set.components['disk+bulge'].invq_disk\n",
    "    sigz = 2.0*reff/invq/2.35482\n",
    "\n",
    "    return sigz"
   ]
  },
  {
   "cell_type": "markdown",
   "metadata": {},
   "source": [
    "----------"
   ]
  },
  {
   "cell_type": "markdown",
   "metadata": {},
   "source": [
    "## Initialize galaxy, model set, instrument ##"
   ]
  },
  {
   "cell_type": "code",
   "execution_count": 6,
   "metadata": {
    "collapsed": false
   },
   "outputs": [],
   "source": [
    "gal = galaxy.Galaxy(z=1.613, name='GS4_43501')\n",
    "mod_set = models.ModelSet()\n",
    "inst = instrument.Instrument()"
   ]
  },
  {
   "cell_type": "markdown",
   "metadata": {
    "collapsed": true
   },
   "source": [
    "### Baryonic component: Combined Disk+Bulge ###"
   ]
  },
  {
   "cell_type": "code",
   "execution_count": 7,
   "metadata": {
    "collapsed": true
   },
   "outputs": [],
   "source": [
    "total_mass = 11.0    # M_sun\n",
    "bt = 0.3             # Bulge-Total ratio\n",
    "r_eff_disk = 5.0     # kpc\n",
    "n_disk = 1.0\n",
    "invq_disk = 5.0\n",
    "r_eff_bulge = 1.0    # kpc\n",
    "n_bulge = 4.0\n",
    "invq_bulge = 1.0\n",
    "noord_flat = True    # Switch for applying Noordermeer flattening\n",
    "\n",
    "# Fix components\n",
    "bary_fixed = {'total_mass': False,\n",
    "              'r_eff_disk': True,\n",
    "              'n_disk': True,\n",
    "              'r_eff_bulge': True,\n",
    "              'n_bulge': True,\n",
    "              'bt': True}\n",
    "\n",
    "# Set bounds\n",
    "bary_bounds = {'total_mass': (10, 13),\n",
    "               'r_eff_disk': (1.0, 30.0),\n",
    "               'n_disk': (1, 8),\n",
    "               'r_eff_bulge': (1, 5),\n",
    "               'n_bulge': (1, 8),\n",
    "               'bt': (0, 1)}\n",
    "\n",
    "bary = models.DiskBulge(total_mass=total_mass, bt=bt,\n",
    "                        r_eff_disk=r_eff_disk, n_disk=n_disk,\n",
    "                        invq_disk=invq_disk,\n",
    "                        r_eff_bulge=r_eff_bulge, n_bulge=n_bulge,\n",
    "                        invq_bulge=invq_bulge,\n",
    "                        noord_flat=noord_flat,\n",
    "                        name='disk+bulge',\n",
    "                        fixed=bary_fixed, bounds=bary_bounds)\n",
    "\n",
    "bary.r_eff_disk.prior = parameters.BoundedGaussianPrior(center=5.0, stddev=1.0)"
   ]
  },
  {
   "cell_type": "markdown",
   "metadata": {
    "collapsed": true
   },
   "source": [
    "### Halo component ###"
   ]
  },
  {
   "cell_type": "code",
   "execution_count": 8,
   "metadata": {
    "collapsed": true
   },
   "outputs": [],
   "source": [
    "mvirial = 12.0\n",
    "conc = 5.0\n",
    "\n",
    "halo_fixed = {'mvirial': False,\n",
    "              'conc': True}\n",
    "\n",
    "halo_bounds = {'mvirial': (10, 13),\n",
    "               'conc': (1, 20)}\n",
    "\n",
    "halo = models.NFW(mvirial=mvirial, conc=conc, z=gal.z,\n",
    "                  fixed=halo_fixed, bounds=halo_bounds, name='halo')\n",
    "halo.mvirial.prior = parameters.BoundedGaussianPrior(center=11.5, stddev=0.5)"
   ]
  },
  {
   "cell_type": "markdown",
   "metadata": {
    "collapsed": true
   },
   "source": [
    "### Dispersion profile ###"
   ]
  },
  {
   "cell_type": "code",
   "execution_count": 9,
   "metadata": {
    "collapsed": true
   },
   "outputs": [],
   "source": [
    "sigma0 = 39.   # km/s\n",
    "disp_fixed = {'sigma0': False}\n",
    "disp_bounds = {'sigma0': (10, 200)}\n",
    "\n",
    "disp_prof = models.DispersionConst(sigma0=sigma0, fixed=disp_fixed,\n",
    "                                          bounds=disp_bounds, name='dispprof')"
   ]
  },
  {
   "cell_type": "markdown",
   "metadata": {
    "collapsed": true
   },
   "source": [
    "### z-height profile ###"
   ]
  },
  {
   "cell_type": "code",
   "execution_count": 10,
   "metadata": {
    "collapsed": true
   },
   "outputs": [],
   "source": [
    "sigmaz = 0.9   # kpc\n",
    "zheight_fixed = {'sigmaz': False}\n",
    "\n",
    "zheight_prof = models.ZHeightGauss(sigmaz=sigmaz, name='zheightgaus',\n",
    "                                   fixed=zheight_fixed)\n",
    "zheight_prof.sigmaz.tied = tie_sigz_reff"
   ]
  },
  {
   "cell_type": "markdown",
   "metadata": {
    "collapsed": true
   },
   "source": [
    "### Geometry ###"
   ]
  },
  {
   "cell_type": "code",
   "execution_count": 11,
   "metadata": {
    "collapsed": true
   },
   "outputs": [],
   "source": [
    "inc = 62.     # degrees\n",
    "pa = 142.     # degrees, blue-shifted side CCW from north\n",
    "xshift = 2    # pixels from center\n",
    "yshift = -6    # pixels from center\n",
    "\n",
    "geom_fixed = {'inc': False,\n",
    "              'pa': True,\n",
    "              'xshift': False,\n",
    "              'yshift': False}\n",
    "\n",
    "geom_bounds = {'inc': (0, 90),\n",
    "               'pa': (90, 180),\n",
    "               'xshift': (0, 4),\n",
    "               'yshift': (-10, -4)}\n",
    "\n",
    "geom = models.Geometry(inc=inc, pa=pa, xshift=xshift, yshift=yshift,\n",
    "                       fixed=geom_fixed, bounds=geom_bounds, name='geom')"
   ]
  },
  {
   "cell_type": "markdown",
   "metadata": {
    "collapsed": true
   },
   "source": [
    "## Add all model components to ModelSet ##"
   ]
  },
  {
   "cell_type": "code",
   "execution_count": 12,
   "metadata": {
    "collapsed": false
   },
   "outputs": [],
   "source": [
    "# Add all of the model components to the ModelSet\n",
    "mod_set.add_component(bary, light=True)\n",
    "mod_set.add_component(halo)\n",
    "mod_set.add_component(disp_prof)\n",
    "mod_set.add_component(zheight_prof)\n",
    "mod_set.add_component(geom)"
   ]
  },
  {
   "cell_type": "markdown",
   "metadata": {
    "collapsed": true
   },
   "source": [
    "### Set kinematic options for calculating velocity profile ###"
   ]
  },
  {
   "cell_type": "code",
   "execution_count": 13,
   "metadata": {
    "collapsed": true
   },
   "outputs": [],
   "source": [
    "mod_set.kinematic_options.adiabatic_contract = False\n",
    "mod_set.kinematic_options.pressure_support = True"
   ]
  },
  {
   "cell_type": "markdown",
   "metadata": {
    "collapsed": true
   },
   "source": [
    "### Set up the instrument ###"
   ]
  },
  {
   "cell_type": "code",
   "execution_count": 14,
   "metadata": {
    "collapsed": true
   },
   "outputs": [],
   "source": [
    "beamsize = 0.55*u.arcsec                 # FWHM of beam\n",
    "sig_inst = 45*u.km/u.s                   # Instrumental spectral resolution\n",
    "\n",
    "beam = instrument.Beam(major=beamsize)\n",
    "lsf = instrument.LSF(sig_inst)\n",
    "\n",
    "inst.beam = beam\n",
    "inst.lsf = lsf\n",
    "inst.pixscale = 0.125*u.arcsec           # arcsec/pixel\n",
    "inst.fov = [33, 33]                      # (nx, ny) pixels\n",
    "inst.spec_type = 'velocity'              # 'velocity' or 'wavelength'\n",
    "inst.spec_step = 10*u.km/u.s             # Spectral step\n",
    "inst.spec_start = -1000*u.km/u.s         # Starting value of spectrum\n",
    "inst.nspec = 201                         # Number of spectral pixels\n",
    "\n",
    "# Set the beam kernel so it doesn't have to be calculated every step\n",
    "inst.set_beam_kernel()\n",
    "inst.set_lsf_kernel()"
   ]
  },
  {
   "cell_type": "markdown",
   "metadata": {},
   "source": [
    "## Add the model set, instrument to the Galaxy ##"
   ]
  },
  {
   "cell_type": "code",
   "execution_count": 15,
   "metadata": {
    "collapsed": true
   },
   "outputs": [],
   "source": [
    "gal.model = mod_set\n",
    "gal.instrument = inst"
   ]
  },
  {
   "cell_type": "markdown",
   "metadata": {},
   "source": [
    "## Load data ##"
   ]
  },
  {
   "cell_type": "markdown",
   "metadata": {},
   "source": [
    "* Load the data from file:\n",
    "  - *1D velocity, dispersion profiles and error*\n",
    "  - *A mask can be loaded / created as well*\n",
    "  \n",
    "* Put data in `Data2D` class\n",
    "\n",
    "* Add data to Galaxy object"
   ]
  },
  {
   "cell_type": "code",
   "execution_count": 16,
   "metadata": {
    "collapsed": true
   },
   "outputs": [],
   "source": [
    "gs4_vel = fits.getdata(data_dir+'GS4_43501-vel.fits')\n",
    "gs4_disp = fits.getdata(data_dir+'GS4_43501-disp.fits')\n",
    "gs4_disp[(gs4_disp > 1000.) | (~np.isfinite(gs4_disp))] = -1e6\n",
    "mask = np.ones(gs4_vel.shape)\n",
    "mask[(gs4_disp < 0)] = 0\n",
    "err_vel = np.ones(gs4_vel.shape)*15.\n",
    "err_disp = np.ones(gs4_vel.shape)*15.\n",
    "\n",
    "\n",
    "# Put data in Data2D data class: \n",
    "#    ** specifies data pixscale as well **\n",
    "data2d = data_classes.Data2D(pixscale=inst.pixscale.value, velocity=gs4_vel,\n",
    "                                  vel_disp=gs4_disp, vel_err=err_vel,\n",
    "                                  vel_disp_err=err_disp, mask=mask)\n",
    "\n",
    "# Add data to Galaxy object:\n",
    "gal.data = data2d"
   ]
  },
  {
   "cell_type": "markdown",
   "metadata": {},
   "source": [
    "### MCMC fitting parameters ###"
   ]
  },
  {
   "cell_type": "markdown",
   "metadata": {},
   "source": [
    "Set parameters for fitting: \n",
    "   - Passing options to `emcee`\n",
    "   - Other calculation options"
   ]
  },
  {
   "cell_type": "code",
   "execution_count": 17,
   "metadata": {
    "collapsed": true
   },
   "outputs": [],
   "source": [
    "# Options passed to emcee\n",
    "nwalkers = 500\n",
    "ncpus = 4\n",
    "scale_param_a = 2\n",
    "nburn = 50\n",
    "nsteps = 50\n",
    "minaf = None\n",
    "maxaf = None\n",
    "neff = 10\n",
    "\n",
    "# Other options\n",
    "do_plotting = True       # Plot bestfit, corner, trace or not\n",
    "oversample = 1           # Factor by which to oversample model (eg, subpixels)\n",
    "fitdispersion = True     # Fit dispersion profile in addition to velocity\n",
    "red_chisq = True         # Use reduced chisq as loglikelihood, instead of chisq"
   ]
  },
  {
   "cell_type": "markdown",
   "metadata": {},
   "source": [
    "-------"
   ]
  },
  {
   "cell_type": "markdown",
   "metadata": {},
   "source": [
    "## Run `Dysmalpy` fitting ##"
   ]
  },
  {
   "cell_type": "code",
   "execution_count": 18,
   "metadata": {
    "collapsed": false
   },
   "outputs": [
    {
     "name": "stderr",
     "output_type": "stream",
     "text": [
      "INFO:DysmalPy:*************************************\n",
      "INFO:DysmalPy: Fitting: GS4_43501\n",
      "INFO:DysmalPy:\n",
      "  nCPUs: 4\n",
      "INFO:DysmalPy:\n",
      "Burn-in:\n",
      "Start: 2018-10-02 14:28:55.737320\n",
      "\n",
      "INFO:DysmalPy: k=0, time.time=2018-10-02 14:28:55.737922, a_frac=nan\n",
      "INFO:DysmalPy: k=1, time.time=2018-10-02 14:32:52.153906, a_frac=0.358\n",
      "INFO:DysmalPy: k=2, time.time=2018-10-02 14:35:50.482043, a_frac=0.34\n",
      "INFO:DysmalPy: k=3, time.time=2018-10-02 14:37:33.867327, a_frac=0.347333333333\n",
      "INFO:DysmalPy: k=4, time.time=2018-10-02 14:40:00.930679, a_frac=0.36\n",
      "INFO:DysmalPy: k=5, time.time=2018-10-02 14:41:38.881862, a_frac=0.3588\n",
      "INFO:DysmalPy: k=6, time.time=2018-10-02 14:42:53.009055, a_frac=0.366333333333\n",
      "INFO:DysmalPy: k=7, time.time=2018-10-02 14:44:08.518193, a_frac=0.371714285714\n",
      "INFO:DysmalPy: k=8, time.time=2018-10-02 14:45:51.302901, a_frac=0.37775\n",
      "INFO:DysmalPy: k=9, time.time=2018-10-02 14:47:30.597242, a_frac=0.379333333333\n",
      "INFO:DysmalPy: k=10, time.time=2018-10-02 14:49:34.587171, a_frac=0.3806\n",
      "INFO:DysmalPy: k=11, time.time=2018-10-02 14:51:09.286157, a_frac=0.381818181818\n",
      "INFO:DysmalPy: k=12, time.time=2018-10-02 14:53:03.293646, a_frac=0.383166666667\n",
      "INFO:DysmalPy: k=13, time.time=2018-10-02 14:55:00.981598, a_frac=0.386923076923\n",
      "INFO:DysmalPy: k=14, time.time=2018-10-02 14:57:32.287598, a_frac=0.391285714286\n",
      "INFO:DysmalPy: k=15, time.time=2018-10-02 14:59:36.415631, a_frac=0.392533333333\n",
      "INFO:DysmalPy: k=16, time.time=2018-10-02 15:01:41.677872, a_frac=0.395\n",
      "INFO:DysmalPy: k=17, time.time=2018-10-02 15:04:25.919669, a_frac=0.397647058824\n",
      "INFO:DysmalPy: k=18, time.time=2018-10-02 15:07:12.511927, a_frac=0.399555555556\n",
      "INFO:DysmalPy: k=19, time.time=2018-10-02 15:09:34.452111, a_frac=0.402210526316\n",
      "INFO:DysmalPy: k=20, time.time=2018-10-02 15:11:59.861950, a_frac=0.4029\n",
      "INFO:DysmalPy: k=21, time.time=2018-10-02 15:13:53.495360, a_frac=0.40419047619\n",
      "INFO:DysmalPy: k=22, time.time=2018-10-02 15:15:20.436536, a_frac=0.407181818182\n",
      "INFO:DysmalPy: k=23, time.time=2018-10-02 15:16:48.316437, a_frac=0.408869565217\n",
      "INFO:DysmalPy: k=24, time.time=2018-10-02 15:18:14.056765, a_frac=0.409333333333\n",
      "INFO:DysmalPy: k=25, time.time=2018-10-02 15:19:41.547345, a_frac=0.40984\n",
      "INFO:DysmalPy: k=26, time.time=2018-10-02 15:21:06.361587, a_frac=0.409384615385\n",
      "INFO:DysmalPy: k=27, time.time=2018-10-02 15:22:25.122275, a_frac=0.411185185185\n",
      "INFO:DysmalPy: k=28, time.time=2018-10-02 15:23:37.762357, a_frac=0.412\n",
      "INFO:DysmalPy: k=29, time.time=2018-10-02 15:24:54.127966, a_frac=0.412689655172\n",
      "INFO:DysmalPy: k=30, time.time=2018-10-02 15:26:08.778554, a_frac=0.412133333333\n",
      "INFO:DysmalPy: k=31, time.time=2018-10-02 15:27:22.525760, a_frac=0.411935483871\n",
      "INFO:DysmalPy: k=32, time.time=2018-10-02 15:28:39.632098, a_frac=0.4124375\n",
      "INFO:DysmalPy: k=33, time.time=2018-10-02 15:29:55.886665, a_frac=0.411939393939\n",
      "INFO:DysmalPy: k=34, time.time=2018-10-02 15:31:09.333013, a_frac=0.412\n",
      "INFO:DysmalPy: k=35, time.time=2018-10-02 15:32:24.579560, a_frac=0.412457142857\n",
      "INFO:DysmalPy: k=36, time.time=2018-10-02 15:33:37.275731, a_frac=0.411611111111\n",
      "INFO:DysmalPy: k=37, time.time=2018-10-02 15:34:53.580118, a_frac=0.41227027027\n",
      "INFO:DysmalPy: k=38, time.time=2018-10-02 15:36:05.936918, a_frac=0.412526315789\n",
      "INFO:DysmalPy: k=39, time.time=2018-10-02 15:37:20.865349, a_frac=0.412307692308\n",
      "INFO:DysmalPy: k=40, time.time=2018-10-02 15:38:34.496162, a_frac=0.4123\n",
      "INFO:DysmalPy: k=41, time.time=2018-10-02 15:39:46.116268, a_frac=0.412292682927\n",
      "INFO:DysmalPy: k=42, time.time=2018-10-02 15:41:02.608666, a_frac=0.412857142857\n",
      "INFO:DysmalPy: k=43, time.time=2018-10-02 15:42:17.084319, a_frac=0.413627906977\n",
      "INFO:DysmalPy: k=44, time.time=2018-10-02 15:43:30.862076, a_frac=0.412909090909\n",
      "INFO:DysmalPy: k=45, time.time=2018-10-02 15:44:41.413002, a_frac=0.412577777778\n",
      "INFO:DysmalPy: k=46, time.time=2018-10-02 15:45:58.248634, a_frac=0.413173913043\n",
      "INFO:DysmalPy: k=47, time.time=2018-10-02 15:47:10.773466, a_frac=0.412680851064\n",
      "INFO:DysmalPy: k=48, time.time=2018-10-02 15:48:22.446296, a_frac=0.412\n",
      "INFO:DysmalPy: k=49, time.time=2018-10-02 15:49:31.687066, a_frac=0.411755102041\n",
      "INFO:DysmalPy:\n",
      "End: 2018-10-02 15:50:39.030447\n",
      "\n",
      "******************\n",
      "nCPU, nParam, nWalker, nBurn = 4, 6, 500, 50\n",
      "Scale param a= 2\n",
      "Time= 4903.29 (sec),  81:43.29 (m:s)\n",
      "Mean acceptance fraction: 0.411\n",
      "Ideal acceptance frac: 0.2 - 0.5\n",
      "Autocorr est: [3.7008324422812895, 4.109987448638083, 3.946749558825368, 3.851393176335867, 3.6842426097511667, 2.4868672132840652]\n",
      "******************\n",
      "INFO:DysmalPy:\n",
      "Ensemble sampling:\n",
      "Start: 2018-10-02 15:50:47.577193\n",
      "\n",
      "INFO:DysmalPy:ii=0, a_frac=0.41 time.time()=2018-10-02 15:51:58.793210\n",
      "INFO:DysmalPy: 0: Chain too short for acor to run\n",
      "INFO:DysmalPy:ii=1, a_frac=0.409 time.time()=2018-10-02 15:53:11.359763\n",
      "INFO:DysmalPy: 1: Chain too short for acor to run\n",
      "INFO:DysmalPy:ii=2, a_frac=0.392666666667 time.time()=2018-10-02 15:54:17.253437\n",
      "INFO:DysmalPy: 2: Chain too short for acor to run\n",
      "INFO:DysmalPy:ii=3, a_frac=0.386 time.time()=2018-10-02 15:55:26.307805\n",
      "INFO:DysmalPy: 3: Chain too short for acor to run\n",
      "INFO:DysmalPy:ii=4, a_frac=0.3844 time.time()=2018-10-02 15:56:35.599929\n",
      "INFO:DysmalPy: 4: Chain too short for acor to run\n",
      "INFO:DysmalPy:ii=5, a_frac=0.382333333333 time.time()=2018-10-02 15:57:47.500547\n",
      "INFO:DysmalPy: 5: Chain too short for acor to run\n",
      "INFO:DysmalPy:ii=6, a_frac=0.379142857143 time.time()=2018-10-02 15:58:57.791813\n",
      "INFO:DysmalPy: 6: Chain too short for acor to run\n",
      "INFO:DysmalPy:ii=7, a_frac=0.379 time.time()=2018-10-02 16:00:12.023877\n",
      "INFO:DysmalPy: 7: Chain too short for acor to run\n",
      "INFO:DysmalPy:ii=8, a_frac=0.377777777778 time.time()=2018-10-02 16:01:22.547906\n",
      "INFO:DysmalPy: 8: Chain too short for acor to run\n",
      "INFO:DysmalPy:ii=9, a_frac=0.3776 time.time()=2018-10-02 16:02:34.700154\n",
      "INFO:DysmalPy: 9: Chain too short for acor to run\n",
      "INFO:DysmalPy:ii=10, a_frac=0.378 time.time()=2018-10-02 16:03:44.850356\n",
      "INFO:DysmalPy: 10: Chain too short for acor to run\n",
      "INFO:DysmalPy:ii=11, a_frac=0.378166666667 time.time()=2018-10-02 16:04:53.836598\n",
      "INFO:DysmalPy: 11: Chain too short for acor to run\n",
      "INFO:DysmalPy:ii=12, a_frac=0.38 time.time()=2018-10-02 16:06:01.626795\n",
      "INFO:DysmalPy: 12: Chain too short for acor to run\n",
      "INFO:DysmalPy:ii=13, a_frac=0.378857142857 time.time()=2018-10-02 16:07:13.163976\n",
      "INFO:DysmalPy: 13: Chain too short for acor to run\n",
      "INFO:DysmalPy:ii=14, a_frac=0.379333333333 time.time()=2018-10-02 16:08:21.925742\n",
      "INFO:DysmalPy: 14: Chain too short for acor to run\n",
      "INFO:DysmalPy:ii=15, a_frac=0.378875 time.time()=2018-10-02 16:09:26.059709\n",
      "INFO:DysmalPy: 15: Chain too short for acor to run\n",
      "INFO:DysmalPy:ii=16, a_frac=0.380352941176 time.time()=2018-10-02 16:10:39.082219\n",
      "INFO:DysmalPy: 16: Chain too short for acor to run\n",
      "INFO:DysmalPy:ii=17, a_frac=0.381333333333 time.time()=2018-10-02 16:11:49.829778\n",
      "INFO:DysmalPy: 17: Chain too short for acor to run\n",
      "INFO:DysmalPy:ii=18, a_frac=0.379789473684 time.time()=2018-10-02 16:12:58.638493\n",
      "INFO:DysmalPy: 18: Chain too short for acor to run\n",
      "INFO:DysmalPy:ii=19, a_frac=0.3784 time.time()=2018-10-02 16:14:05.082356\n",
      "INFO:DysmalPy: 19: Chain too short for acor to run\n",
      "INFO:DysmalPy:ii=20, a_frac=0.378095238095 time.time()=2018-10-02 16:15:13.952688\n",
      "INFO:DysmalPy: 20: Chain too short for acor to run\n",
      "INFO:DysmalPy:ii=21, a_frac=0.376181818182 time.time()=2018-10-02 16:16:21.550710\n",
      "INFO:DysmalPy: 21: Chain too short for acor to run\n",
      "INFO:DysmalPy:ii=22, a_frac=0.375130434783 time.time()=2018-10-02 16:17:28.903472\n",
      "INFO:DysmalPy: 22: Chain too short for acor to run\n",
      "INFO:DysmalPy:ii=23, a_frac=0.374833333333 time.time()=2018-10-02 16:18:38.985741\n",
      "INFO:DysmalPy: 23: Chain too short for acor to run\n",
      "INFO:DysmalPy:ii=24, a_frac=0.37544 time.time()=2018-10-02 16:19:49.045388\n",
      "INFO:DysmalPy: 24: Chain too short for acor to run\n",
      "INFO:DysmalPy:ii=25, a_frac=0.375384615385 time.time()=2018-10-02 16:20:57.203594\n",
      "INFO:DysmalPy: 25: Chain too short for acor to run\n",
      "INFO:DysmalPy:ii=26, a_frac=0.375037037037 time.time()=2018-10-02 16:22:02.570978\n",
      "INFO:DysmalPy: 26: Chain too short for acor to run\n",
      "INFO:DysmalPy:ii=27, a_frac=0.375928571429 time.time()=2018-10-02 16:23:11.314067\n",
      "INFO:DysmalPy: 27: Chain too short for acor to run\n",
      "INFO:DysmalPy:ii=28, a_frac=0.376413793103 time.time()=2018-10-02 16:24:21.403114\n",
      "INFO:DysmalPy: 28: Chain too short for acor to run\n",
      "INFO:DysmalPy:ii=29, a_frac=0.3758 time.time()=2018-10-02 16:25:27.564998\n",
      "INFO:DysmalPy: 29: Chain too short for acor to run\n",
      "INFO:DysmalPy:ii=30, a_frac=0.376 time.time()=2018-10-02 16:26:38.628663\n",
      "INFO:DysmalPy: 30: Chain too short for acor to run\n",
      "INFO:DysmalPy:ii=31, a_frac=0.376625 time.time()=2018-10-02 16:27:46.979457\n",
      "INFO:DysmalPy: 31: Chain too short for acor to run\n",
      "INFO:DysmalPy:ii=32, a_frac=0.376424242424 time.time()=2018-10-02 16:28:55.554352\n",
      "INFO:DysmalPy: 32: Chain too short for acor to run\n",
      "INFO:DysmalPy:ii=33, a_frac=0.376117647059 time.time()=2018-10-02 16:30:05.666673\n",
      "INFO:DysmalPy: 33: Chain too short for acor to run\n",
      "INFO:DysmalPy:ii=34, a_frac=0.376057142857 time.time()=2018-10-02 16:31:15.144232\n",
      "INFO:DysmalPy: 34: Chain too short for acor to run\n",
      "INFO:DysmalPy:ii=35, a_frac=0.376166666667 time.time()=2018-10-02 16:32:31.850333\n",
      "INFO:DysmalPy: 35: Chain too short for acor to run\n",
      "INFO:DysmalPy:ii=36, a_frac=0.376540540541 time.time()=2018-10-02 16:33:42.797540\n",
      "INFO:DysmalPy: 36: Chain too short for acor to run\n",
      "INFO:DysmalPy:ii=37, a_frac=0.375631578947 time.time()=2018-10-02 16:34:51.170709\n",
      "INFO:DysmalPy: 37: Chain too short for acor to run\n",
      "INFO:DysmalPy:ii=38, a_frac=0.375692307692 time.time()=2018-10-02 16:35:58.390673\n",
      "INFO:DysmalPy: 38: Chain too short for acor to run\n",
      "INFO:DysmalPy:ii=39, a_frac=0.37525 time.time()=2018-10-02 16:37:07.264027\n",
      "INFO:DysmalPy: 39: Chain too short for acor to run\n",
      "INFO:DysmalPy:ii=40, a_frac=0.374585365854 time.time()=2018-10-02 16:38:12.037870\n",
      "INFO:DysmalPy: 40: Chain too short for acor to run\n",
      "INFO:DysmalPy:ii=41, a_frac=0.37380952381 time.time()=2018-10-02 16:39:16.986871\n",
      "INFO:DysmalPy: 41: Chain too short for acor to run\n",
      "INFO:DysmalPy:ii=42, a_frac=0.373906976744 time.time()=2018-10-02 16:40:27.112334\n",
      "INFO:DysmalPy: 42: Chain too short for acor to run\n",
      "INFO:DysmalPy:ii=43, a_frac=0.373636363636 time.time()=2018-10-02 16:41:35.849629\n",
      "INFO:DysmalPy: 43: Chain too short for acor to run\n",
      "INFO:DysmalPy:ii=44, a_frac=0.374311111111 time.time()=2018-10-02 16:42:43.634461\n",
      "INFO:DysmalPy: 44: Chain too short for acor to run\n",
      "INFO:DysmalPy:ii=45, a_frac=0.375 time.time()=2018-10-02 16:43:53.872011\n",
      "INFO:DysmalPy: 45: Chain too short for acor to run\n",
      "INFO:DysmalPy:ii=46, a_frac=0.374893617021 time.time()=2018-10-02 16:45:00.852721\n",
      "INFO:DysmalPy: 46: Chain too short for acor to run\n",
      "INFO:DysmalPy:ii=47, a_frac=0.375208333333 time.time()=2018-10-02 16:46:09.753745\n",
      "INFO:DysmalPy: 47: Chain too short for acor to run\n",
      "INFO:DysmalPy:ii=48, a_frac=0.375102040816 time.time()=2018-10-02 16:47:21.518756\n",
      "INFO:DysmalPy: 48: Chain too short for acor to run\n",
      "INFO:DysmalPy:ii=49, a_frac=0.37564 time.time()=2018-10-02 16:48:31.212547\n",
      "INFO:DysmalPy:49: acor_time =[ 3.41500891  4.29870786  2.73593032  2.35378622  4.74333146  3.33783607]\n",
      "INFO:DysmalPy:Finished 50 steps\n",
      "\n",
      "INFO:DysmalPy:\n",
      "End: 2018-10-02 16:48:31.218122\n",
      "\n",
      "******************\n",
      "nCPU, nParam, nWalker, nSteps = 4, 6, 500, 50\n",
      "Scale param a= 2\n",
      "Time= 3463.64 (sec),  57:43.64 (m:s)\n",
      "Mean acceptance fraction: 0.376\n",
      "Ideal acceptance frac: 0.2 - 0.5\n",
      "Autocorr est: [3.4150089119991804, 4.29870785621637, 2.7359303188616226, 2.353786224717288, 4.74333146025481, 3.3378360665738023]\n",
      "******************\n"
     ]
    }
   ],
   "source": [
    "mcmc_results = fitting.fit(gal, nWalkers=nwalkers, nCPUs=ncpus,\n",
    "                               scale_param_a=scale_param_a, nBurn=nburn,\n",
    "                               nSteps=nsteps, minAF=minaf, maxAF=maxaf,\n",
    "                               nEff=neff, do_plotting=do_plotting,\n",
    "                               oversample=oversample, out_dir=out_dir,\n",
    "                               fitdispersion=fitdispersion, \n",
    "                               red_chisq=red_chisq)"
   ]
  },
  {
   "cell_type": "markdown",
   "metadata": {},
   "source": [
    "------"
   ]
  },
  {
   "cell_type": "markdown",
   "metadata": {},
   "source": [
    "## Examine MCMC results ##"
   ]
  },
  {
   "cell_type": "code",
   "execution_count": 19,
   "metadata": {
    "collapsed": false
   },
   "outputs": [
    {
     "data": {
      "text/html": [
       "\n",
       "        <iframe\n",
       "            width=\"600\"\n",
       "            height=\"400\"\n",
       "            src=\"./output_2D/mcmc_trace.pdf\"\n",
       "            frameborder=\"0\"\n",
       "            allowfullscreen\n",
       "        ></iframe>\n",
       "        "
      ],
      "text/plain": [
       "<IPython.lib.display.IFrame at 0x115695ed0>"
      ]
     },
     "execution_count": 19,
     "metadata": {},
     "output_type": "execute_result"
    }
   ],
   "source": [
    "# Look at trace:\n",
    "filepath = out_dir+\"mcmc_trace.pdf\"\n",
    "IFrame(filepath, width=600, height=400)"
   ]
  },
  {
   "cell_type": "code",
   "execution_count": 20,
   "metadata": {
    "collapsed": false
   },
   "outputs": [
    {
     "data": {
      "text/html": [
       "\n",
       "        <iframe\n",
       "            width=\"600\"\n",
       "            height=\"430\"\n",
       "            src=\"./output_2D/mcmc_best_fit.pdf\"\n",
       "            frameborder=\"0\"\n",
       "            allowfullscreen\n",
       "        ></iframe>\n",
       "        "
      ],
      "text/plain": [
       "<IPython.lib.display.IFrame at 0x115695950>"
      ]
     },
     "execution_count": 20,
     "metadata": {},
     "output_type": "execute_result"
    }
   ],
   "source": [
    "# Look at best-fit:\n",
    "filepath = out_dir+\"mcmc_best_fit.pdf\"\n",
    "IFrame(filepath, width=600, height=430)"
   ]
  },
  {
   "cell_type": "code",
   "execution_count": 21,
   "metadata": {
    "collapsed": false
   },
   "outputs": [
    {
     "data": {
      "text/html": [
       "\n",
       "        <iframe\n",
       "            width=\"570\"\n",
       "            height=\"620\"\n",
       "            src=\"./output_2D/mcmc_param_corner.pdf\"\n",
       "            frameborder=\"0\"\n",
       "            allowfullscreen\n",
       "        ></iframe>\n",
       "        "
      ],
      "text/plain": [
       "<IPython.lib.display.IFrame at 0x11c052250>"
      ]
     },
     "execution_count": 21,
     "metadata": {},
     "output_type": "execute_result"
    }
   ],
   "source": [
    "# Look at corner:\n",
    "filepath = out_dir+\"mcmc_param_corner.pdf\"\n",
    "IFrame(filepath, width=570, height=620)"
   ]
  },
  {
   "cell_type": "markdown",
   "metadata": {},
   "source": [
    "---------"
   ]
  },
  {
   "cell_type": "markdown",
   "metadata": {},
   "source": [
    "## Reload data ##"
   ]
  },
  {
   "cell_type": "markdown",
   "metadata": {},
   "source": [
    "Helpful for:\n",
    "  - replotting\n",
    "  - reanalyzing chain (eg, jointly constraining some posteriors)\n",
    "  - ..."
   ]
  },
  {
   "cell_type": "code",
   "execution_count": 22,
   "metadata": {
    "collapsed": true
   },
   "outputs": [],
   "source": [
    "# For compatibility with Python 2.7:\n",
    "mod_in = copy.deepcopy(gal.model)\n",
    "gal.model = mod_in\n",
    "    \n",
    "# Initialize a basic dummy results class\n",
    "mcmc_results = fitting.MCMCResults(model=gal.model)\n",
    "\n",
    "# Set what the names are for reloading: using default names\n",
    "fsampler = out_dir+'mcmc_sampler.pickle'\n",
    "fresults = out_dir+'mcmc_results.pickle'\n",
    "\n",
    "mcmc_results.reload_mcmc_results(filename=fresults)\n",
    "mcmc_results.reload_sampler(filename=fsampler)"
   ]
  },
  {
   "cell_type": "markdown",
   "metadata": {},
   "source": [
    "----------"
   ]
  }
 ],
 "metadata": {
  "kernelspec": {
   "display_name": "Python 2",
   "language": "python",
   "name": "python2"
  },
  "language_info": {
   "codemirror_mode": {
    "name": "ipython",
    "version": 2
   },
   "file_extension": ".py",
   "mimetype": "text/x-python",
   "name": "python",
   "nbconvert_exporter": "python",
   "pygments_lexer": "ipython2",
   "version": "2.7.11"
  }
 },
 "nbformat": 4,
 "nbformat_minor": 0
}
