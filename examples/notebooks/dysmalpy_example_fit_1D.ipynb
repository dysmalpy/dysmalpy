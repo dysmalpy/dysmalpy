{
 "cells": [
  {
   "cell_type": "markdown",
   "metadata": {
    "collapsed": true
   },
   "source": [
    "# Example `Dysmalpy` 1D fitting #"
   ]
  },
  {
   "cell_type": "markdown",
   "metadata": {},
   "source": [
    "**Includes the following components:**\n",
    " - Disk + Bulge\n",
    " - NFW halo\n",
    " - Constant velocity dispersion"
   ]
  },
  {
   "cell_type": "markdown",
   "metadata": {},
   "source": [
    "#### First import modules ####"
   ]
  },
  {
   "cell_type": "code",
   "execution_count": 1,
   "metadata": {},
   "outputs": [],
   "source": [
    "from __future__ import (absolute_import, division, print_function,\n",
    "                        unicode_literals)\n",
    "\n",
    "from dysmalpy import galaxy\n",
    "from dysmalpy import models\n",
    "from dysmalpy import fitting\n",
    "from dysmalpy import instrument\n",
    "from dysmalpy import data_classes\n",
    "from dysmalpy import parameters\n",
    "from dysmalpy import plotting\n",
    "from dysmalpy import aperture_classes\n",
    "\n",
    "import os\n",
    "import copy\n",
    "\n",
    "import numpy as np\n",
    "import astropy.units as u\n",
    "import astropy.io.fits as fits"
   ]
  },
  {
   "cell_type": "markdown",
   "metadata": {},
   "source": [
    "##### Setup notebook #####"
   ]
  },
  {
   "cell_type": "code",
   "execution_count": 2,
   "metadata": {},
   "outputs": [],
   "source": [
    "import matplotlib.pyplot as plt\n",
    "%matplotlib inline\n",
    "\n",
    "from IPython.display import IFrame"
   ]
  },
  {
   "cell_type": "code",
   "execution_count": 3,
   "metadata": {},
   "outputs": [],
   "source": [
    "import logging\n",
    "logger = logging.getLogger('DysmalPy')\n",
    "logger.setLevel(logging.INFO)"
   ]
  },
  {
   "cell_type": "markdown",
   "metadata": {},
   "source": [
    "#### Set data, output paths ####"
   ]
  },
  {
   "cell_type": "code",
   "execution_count": 4,
   "metadata": {},
   "outputs": [],
   "source": [
    "# Data directory\n",
    "data_dir = '/Users/sedona/data/dysmalpy_example_data/'\n",
    "#'/YOUR/DATA/PATH/'\n",
    "\n",
    "# Where to save output files\n",
    "#out_dir  = './output_1D/'\n",
    "out_dir = '/Users/sedona/data/dysmalpy_test_examples/JUPYTER_OUTPUT_1D/'"
   ]
  },
  {
   "cell_type": "markdown",
   "metadata": {},
   "source": [
    "-------------------"
   ]
  },
  {
   "cell_type": "markdown",
   "metadata": {},
   "source": [
    "##### Set function to tie scale height relative to effective radius #####"
   ]
  },
  {
   "cell_type": "code",
   "execution_count": 5,
   "metadata": {},
   "outputs": [],
   "source": [
    "def tie_sigz_reff(model_set):\n",
    " \n",
    "    reff = model_set.components['disk+bulge'].r_eff_disk.value\n",
    "    invq = model_set.components['disk+bulge'].invq_disk\n",
    "    sigz = 2.0*reff/invq/2.35482\n",
    "\n",
    "    return sigz"
   ]
  },
  {
   "cell_type": "markdown",
   "metadata": {},
   "source": [
    "----------"
   ]
  },
  {
   "cell_type": "markdown",
   "metadata": {},
   "source": [
    "## Initialize galaxy, model set, instrument ##"
   ]
  },
  {
   "cell_type": "code",
   "execution_count": 6,
   "metadata": {},
   "outputs": [],
   "source": [
    "gal = galaxy.Galaxy(z=1.613, name='GS4_43501')\n",
    "mod_set = models.ModelSet()\n",
    "inst = instrument.Instrument()"
   ]
  },
  {
   "cell_type": "markdown",
   "metadata": {
    "collapsed": true
   },
   "source": [
    "### Baryonic component: Combined Disk+Bulge ###"
   ]
  },
  {
   "cell_type": "code",
   "execution_count": 7,
   "metadata": {},
   "outputs": [],
   "source": [
    "total_mass = 11.0    # M_sun\n",
    "bt = 0.3             # Bulge-Total ratio\n",
    "r_eff_disk = 5.0     # kpc\n",
    "n_disk = 1.0\n",
    "invq_disk = 5.0\n",
    "r_eff_bulge = 1.0    # kpc\n",
    "n_bulge = 4.0\n",
    "invq_bulge = 1.0\n",
    "noord_flat = True    # Switch for applying Noordermeer flattening\n",
    "\n",
    "# Fix components\n",
    "bary_fixed = {'total_mass': False,\n",
    "              'r_eff_disk': True,\n",
    "              'n_disk': True,\n",
    "              'r_eff_bulge': True,\n",
    "              'n_bulge': True,\n",
    "              'bt': True}\n",
    "\n",
    "# Set bounds\n",
    "bary_bounds = {'total_mass': (10, 13),\n",
    "               'r_eff_disk': (1.0, 30.0),\n",
    "               'n_disk': (1, 8),\n",
    "               'r_eff_bulge': (1, 5),\n",
    "               'n_bulge': (1, 8),\n",
    "               'bt': (0, 1)}\n",
    "\n",
    "bary = models.DiskBulge(total_mass=total_mass, bt=bt,\n",
    "                        r_eff_disk=r_eff_disk, n_disk=n_disk,\n",
    "                        invq_disk=invq_disk,\n",
    "                        r_eff_bulge=r_eff_bulge, n_bulge=n_bulge,\n",
    "                        invq_bulge=invq_bulge,\n",
    "                        noord_flat=noord_flat,\n",
    "                        name='disk+bulge',\n",
    "                        fixed=bary_fixed, bounds=bary_bounds)\n",
    "\n",
    "bary.r_eff_disk.prior = parameters.BoundedGaussianPrior(center=5.0, stddev=1.0)"
   ]
  },
  {
   "cell_type": "markdown",
   "metadata": {
    "collapsed": true
   },
   "source": [
    "### Halo component ###"
   ]
  },
  {
   "cell_type": "code",
   "execution_count": 8,
   "metadata": {},
   "outputs": [],
   "source": [
    "mvirial = 12.0\n",
    "conc = 5.0\n",
    "\n",
    "halo_fixed = {'mvirial': False,\n",
    "              'conc': True}\n",
    "\n",
    "halo_bounds = {'mvirial': (10, 13),\n",
    "               'conc': (1, 20)}\n",
    "\n",
    "halo = models.NFW(mvirial=mvirial, conc=conc, z=gal.z,\n",
    "                  fixed=halo_fixed, bounds=halo_bounds, name='halo')\n",
    "halo.mvirial.prior = parameters.BoundedGaussianPrior(center=11.5, stddev=0.5)"
   ]
  },
  {
   "cell_type": "markdown",
   "metadata": {
    "collapsed": true
   },
   "source": [
    "### Dispersion profile ###"
   ]
  },
  {
   "cell_type": "code",
   "execution_count": 9,
   "metadata": {},
   "outputs": [],
   "source": [
    "sigma0 = 39.   # km/s\n",
    "disp_fixed = {'sigma0': False}\n",
    "disp_bounds = {'sigma0': (10, 200)}\n",
    "\n",
    "disp_prof = models.DispersionConst(sigma0=sigma0, fixed=disp_fixed,\n",
    "                                          bounds=disp_bounds, name='dispprof')"
   ]
  },
  {
   "cell_type": "markdown",
   "metadata": {
    "collapsed": true
   },
   "source": [
    "### z-height profile ###"
   ]
  },
  {
   "cell_type": "code",
   "execution_count": 10,
   "metadata": {},
   "outputs": [],
   "source": [
    "sigmaz = 0.9   # kpc\n",
    "zheight_fixed = {'sigmaz': False}\n",
    "\n",
    "zheight_prof = models.ZHeightGauss(sigmaz=sigmaz, name='zheightgaus',\n",
    "                                   fixed=zheight_fixed)\n",
    "zheight_prof.sigmaz.tied = tie_sigz_reff"
   ]
  },
  {
   "cell_type": "markdown",
   "metadata": {
    "collapsed": true
   },
   "source": [
    "### Geometry ###"
   ]
  },
  {
   "cell_type": "code",
   "execution_count": 11,
   "metadata": {},
   "outputs": [],
   "source": [
    "inc = 62.     # degrees\n",
    "pa = 142.     # degrees, blue-shifted side CCW from north\n",
    "xshift = 0    # pixels from center\n",
    "yshift = 0    # pixels from center\n",
    "\n",
    "geom_fixed = {'inc': True,\n",
    "              'pa': True,\n",
    "              'xshift': True,\n",
    "              'yshift': True}\n",
    "\n",
    "geom_bounds = {'inc': (0, 90),\n",
    "               'pa': (90, 180),\n",
    "               'xshift': (0, 4),\n",
    "               'yshift': (-10, -4)}\n",
    "\n",
    "geom = models.Geometry(inc=inc, pa=pa, xshift=xshift, yshift=yshift,\n",
    "                       fixed=geom_fixed, bounds=geom_bounds, name='geom')"
   ]
  },
  {
   "cell_type": "markdown",
   "metadata": {
    "collapsed": true
   },
   "source": [
    "## Add all model components to ModelSet ##"
   ]
  },
  {
   "cell_type": "code",
   "execution_count": 12,
   "metadata": {},
   "outputs": [],
   "source": [
    "# Add all of the model components to the ModelSet\n",
    "mod_set.add_component(bary, light=True)\n",
    "mod_set.add_component(halo)\n",
    "mod_set.add_component(disp_prof)\n",
    "mod_set.add_component(zheight_prof)\n",
    "mod_set.add_component(geom)"
   ]
  },
  {
   "cell_type": "markdown",
   "metadata": {
    "collapsed": true
   },
   "source": [
    "### Set kinematic options for calculating velocity profile ###"
   ]
  },
  {
   "cell_type": "code",
   "execution_count": 13,
   "metadata": {},
   "outputs": [],
   "source": [
    "mod_set.kinematic_options.adiabatic_contract = False\n",
    "mod_set.kinematic_options.pressure_support = True"
   ]
  },
  {
   "cell_type": "markdown",
   "metadata": {
    "collapsed": true
   },
   "source": [
    "### Set up the instrument ###"
   ]
  },
  {
   "cell_type": "code",
   "execution_count": 14,
   "metadata": {},
   "outputs": [],
   "source": [
    "beamsize = 0.55*u.arcsec                 # FWHM of beam\n",
    "sig_inst = 45*u.km/u.s                   # Instrumental spectral resolution\n",
    "\n",
    "beam = instrument.GaussianBeam(major=beamsize)\n",
    "lsf = instrument.LSF(sig_inst)\n",
    "\n",
    "inst.beam = beam\n",
    "inst.lsf = lsf\n",
    "inst.pixscale = 0.125*u.arcsec           # arcsec/pixel\n",
    "inst.fov = [33, 33]                      # (nx, ny) pixels\n",
    "inst.spec_type = 'velocity'              # 'velocity' or 'wavelength'\n",
    "inst.spec_step = 10*u.km/u.s             # Spectral step\n",
    "inst.spec_start = -1000*u.km/u.s         # Starting value of spectrum\n",
    "inst.nspec = 201                         # Number of spectral pixels\n",
    "\n",
    "# Set the beam kernel so it doesn't have to be calculated every step\n",
    "inst.set_beam_kernel()\n",
    "inst.set_lsf_kernel()"
   ]
  },
  {
   "cell_type": "markdown",
   "metadata": {},
   "source": [
    "## Add the model set, instrument to the Galaxy ##"
   ]
  },
  {
   "cell_type": "code",
   "execution_count": 15,
   "metadata": {},
   "outputs": [],
   "source": [
    "gal.model = mod_set\n",
    "gal.instrument = inst"
   ]
  },
  {
   "cell_type": "markdown",
   "metadata": {},
   "source": [
    "## Load data ##"
   ]
  },
  {
   "cell_type": "markdown",
   "metadata": {},
   "source": [
    "* Load the data from file:\n",
    "  - *1D velocity, dispersion profiles and error*\n",
    "  - *A mask can be loaded / created as well*\n",
    "  \n",
    "* Put data in `Data1D` class\n",
    "\n",
    "* Add data to Galaxy object"
   ]
  },
  {
   "cell_type": "code",
   "execution_count": 17,
   "metadata": {},
   "outputs": [],
   "source": [
    "dat_arr = np.loadtxt(data_dir+'GS4_43501.obs_prof.txt')\n",
    "gs4_r = dat_arr[:,0]\n",
    "gs4_vel = dat_arr[:,1]\n",
    "gs4_disp = dat_arr[:,3]\n",
    "err_vel = dat_arr[:,2]\n",
    "err_disp = dat_arr[:,4]\n",
    "inst_corr = True                  # Flag for if the measured dispersion has been\n",
    "                                  # corrected for instrumental resolution\n",
    "    \n",
    "# Put data in Data1D data class: \n",
    "#    ** specifies slit width, slit PA as well **\n",
    "data1d = data_classes.Data1D(r=gs4_r, velocity=gs4_vel,\n",
    "                                  vel_disp=gs4_disp, vel_err=err_vel,\n",
    "                                  vel_disp_err=err_disp, slit_width=0.22,\n",
    "                                  slit_pa=pa, inst_corr=inst_corr)\n",
    "\n",
    "# Add data to Galaxy object:\n",
    "gal.data = data1d\n"
   ]
  },
  {
   "cell_type": "code",
   "execution_count": null,
   "metadata": {},
   "outputs": [],
   "source": []
  },
  {
   "cell_type": "code",
   "execution_count": null,
   "metadata": {},
   "outputs": [],
   "source": [
    "gal.instrument.beam.major.value"
   ]
  },
  {
   "cell_type": "code",
   "execution_count": null,
   "metadata": {},
   "outputs": [],
   "source": [
    "# Setup apertures: circular apertures placed on the cube for GS4_43501.\n",
    "\n",
    "aperture_radius = 0.5 * gal.instrument.beam.major.value\n",
    "\n",
    "profile1d_type = 'circ_ap_cube'\n",
    "moment_calc  = False    # 1D data was extracted using Gaussian fits\n",
    "\n",
    "gal.data.apertures = aperture_classes.setup_aperture_types(gal=gal, \n",
    "                profile1d_type=profile1d_type, \n",
    "                aperture_radius=aperture_radius, \n",
    "                from_data=True, \n",
    "                partial_weight=True,\n",
    "                moment=moment_calc)"
   ]
  },
  {
   "cell_type": "markdown",
   "metadata": {},
   "source": [
    "-----------------"
   ]
  },
  {
   "cell_type": "markdown",
   "metadata": {},
   "source": [
    "# MPFIT Fitting #"
   ]
  },
  {
   "cell_type": "code",
   "execution_count": null,
   "metadata": {},
   "outputs": [],
   "source": []
  },
  {
   "cell_type": "code",
   "execution_count": null,
   "metadata": {},
   "outputs": [],
   "source": []
  },
  {
   "cell_type": "code",
   "execution_count": null,
   "metadata": {},
   "outputs": [],
   "source": []
  },
  {
   "cell_type": "markdown",
   "metadata": {},
   "source": [
    "-----------------"
   ]
  },
  {
   "cell_type": "markdown",
   "metadata": {},
   "source": [
    "# MCMC Fitting #"
   ]
  },
  {
   "cell_type": "markdown",
   "metadata": {},
   "source": [
    "### MCMC fitting parameters ###"
   ]
  },
  {
   "cell_type": "markdown",
   "metadata": {},
   "source": [
    "Set parameters for fitting: \n",
    "   - Passing options to `emcee`\n",
    "   - Other calculation options"
   ]
  },
  {
   "cell_type": "code",
   "execution_count": 17,
   "metadata": {},
   "outputs": [],
   "source": [
    "# Options passed to emcee\n",
    "nwalkers = 500\n",
    "ncpus = 4\n",
    "scale_param_a = 2\n",
    "nburn = 50\n",
    "nsteps = 50\n",
    "minaf = None\n",
    "maxaf = None\n",
    "neff = 10\n",
    "\n",
    "# Other options\n",
    "do_plotting = True       # Plot bestfit, corner, trace or not\n",
    "oversample = 1           # Factor by which to oversample model (eg, subpixels)\n",
    "fitdispersion = True     # Fit dispersion profile in addition to velocity"
   ]
  },
  {
   "cell_type": "markdown",
   "metadata": {},
   "source": [
    "-------"
   ]
  },
  {
   "cell_type": "markdown",
   "metadata": {},
   "source": [
    "## Run `Dysmalpy` fitting: MCMC ##"
   ]
  },
  {
   "cell_type": "code",
   "execution_count": 19,
   "metadata": {},
   "outputs": [
    {
     "name": "stderr",
     "output_type": "stream",
     "text": [
      "INFO:DysmalPy:*************************************\n",
      "INFO:DysmalPy: Fitting: GS4_43501 with MCMC\n",
      "INFO:DysmalPy:\n",
      "nCPUs: 4\n",
      "INFO:DysmalPy:nWalkers: 500\n",
      "INFO:DysmalPy:lnlike: red_chisq=False\n",
      "INFO:DysmalPy:lnlike: oversampled_chisq=True\n",
      "INFO:DysmalPy:\n",
      "blobs: None\n",
      "INFO:DysmalPy:\n",
      "mvirial_tied: False\n",
      "INFO:DysmalPy:nSubpixels: 1\n",
      "INFO:DysmalPy:\n",
      "Burn-in:\n",
      "Start: 2020-10-14 16:37:03.462950\n",
      "\n",
      "INFO:DysmalPy: k=0, time.time=2020-10-14 16:37:03.465097, a_frac=nan\n"
     ]
    },
    {
     "name": "stdout",
     "output_type": "stream",
     "text": [
      "emcee: Exception while calling your likelihood function:\n",
      "  params: [ 11.02862281  11.58413651 138.53033694]\n",
      "  args: [<dysmalpy.galaxy.Galaxy object at 0x1a20fee6a0>]\n",
      "  kwargs: {'oversample': 1, 'oversize': 1, 'fitdispersion': True, 'fitflux': False, 'blob_name': None, 'model_key_re': ['disk+bulge', 'r_eff_disk'], 'model_key_halo': ['halo'], 'red_chisq': False, 'oversampled_chisq': True, 'profile1d_type': 'circ_ap_cube'}\n",
      "  exception:\n"
     ]
    },
    {
     "name": "stderr",
     "output_type": "stream",
     "text": [
      "Traceback (most recent call last):\n",
      "  File \"/Applications/anaconda/envs/py36_apy_v401/lib/python3.6/site-packages/emcee/ensemble.py\", line 519, in __call__\n",
      "    return self.f(x, *self.args, **self.kwargs)\n",
      "  File \"/Users/sedona/software_public/dysmalpy/dysmalpy/fitting.py\", line 1515, in log_prob\n",
      "    line_center=gal.model.line_center, profile1d_type=profile1d_type)\n",
      "  File \"/Users/sedona/software_public/dysmalpy/dysmalpy/galaxy.py\", line 547, in create_model_data\n",
      "    aper_centers, flux1d, vel1d, disp1d = self.data.apertures.extract_1d_kinematics(spec_arr=vel_arr,\n",
      "AttributeError: 'NoneType' object has no attribute 'extract_1d_kinematics'\n"
     ]
    },
    {
     "name": "stdout",
     "output_type": "stream",
     "text": [
      "emcee: Exception while calling your likelihood function:\n",
      "  params: [ 10.64240771  11.50128801 103.12354404]\n",
      "  args: [<dysmalpy.galaxy.Galaxy object at 0x1a20fee8d0>]\n",
      "  kwargs: {'oversample': 1, 'oversize': 1, 'fitdispersion': True, 'fitflux': False, 'blob_name': None, 'model_key_re': ['disk+bulge', 'r_eff_disk'], 'model_key_halo': ['halo'], 'red_chisq': False, 'oversampled_chisq': True, 'profile1d_type': 'circ_ap_cube'}\n",
      "  exception:\n"
     ]
    },
    {
     "name": "stderr",
     "output_type": "stream",
     "text": [
      "Traceback (most recent call last):\n",
      "  File \"/Applications/anaconda/envs/py36_apy_v401/lib/python3.6/site-packages/emcee/ensemble.py\", line 519, in __call__\n",
      "    return self.f(x, *self.args, **self.kwargs)\n",
      "  File \"/Users/sedona/software_public/dysmalpy/dysmalpy/fitting.py\", line 1515, in log_prob\n",
      "    line_center=gal.model.line_center, profile1d_type=profile1d_type)\n",
      "  File \"/Users/sedona/software_public/dysmalpy/dysmalpy/galaxy.py\", line 547, in create_model_data\n",
      "    aper_centers, flux1d, vel1d, disp1d = self.data.apertures.extract_1d_kinematics(spec_arr=vel_arr,\n"
     ]
    },
    {
     "name": "stdout",
     "output_type": "stream",
     "text": [
      "emcee: Exception while calling your likelihood function:\n",
      "  params: [ 12.31559656  11.36585283 194.81644935]\n",
      "  args: [<dysmalpy.galaxy.Galaxy object at 0x1a20fee588>]\n",
      "  kwargs: {'oversample': 1, 'oversize': 1, 'fitdispersion': True, 'fitflux': False, 'blob_name': None, 'model_key_re': ['disk+bulge', 'r_eff_disk'], 'model_key_halo': ['halo'], 'red_chisq': False, 'oversampled_chisq': True, 'profile1d_type': 'circ_ap_cube'}\n",
      "  exception:\n"
     ]
    },
    {
     "name": "stderr",
     "output_type": "stream",
     "text": [
      "Traceback (most recent call last):\n",
      "  File \"/Applications/anaconda/envs/py36_apy_v401/lib/python3.6/site-packages/emcee/ensemble.py\", line 519, in __call__\n",
      "    return self.f(x, *self.args, **self.kwargs)\n",
      "  File \"/Users/sedona/software_public/dysmalpy/dysmalpy/fitting.py\", line 1515, in log_prob\n",
      "    line_center=gal.model.line_center, profile1d_type=profile1d_type)\n",
      "  File \"/Users/sedona/software_public/dysmalpy/dysmalpy/galaxy.py\", line 547, in create_model_data\n",
      "    aper_centers, flux1d, vel1d, disp1d = self.data.apertures.extract_1d_kinematics(spec_arr=vel_arr,\n",
      "AttributeError: 'NoneType' object has no attribute 'extract_1d_kinematics'\n",
      "AttributeError: 'NoneType' object has no attribute 'extract_1d_kinematics'\n"
     ]
    },
    {
     "name": "stdout",
     "output_type": "stream",
     "text": [
      "emcee: Exception while calling your likelihood function:\n",
      "  params: [10.83448201 10.52088277 23.13230664]\n",
      "  args: [<dysmalpy.galaxy.Galaxy object at 0x1a20fee7b8>]\n",
      "  kwargs: {'oversample': 1, 'oversize': 1, 'fitdispersion': True, 'fitflux': False, 'blob_name': None, 'model_key_re': ['disk+bulge', 'r_eff_disk'], 'model_key_halo': ['halo'], 'red_chisq': False, 'oversampled_chisq': True, 'profile1d_type': 'circ_ap_cube'}\n",
      "  exception:\n"
     ]
    },
    {
     "name": "stderr",
     "output_type": "stream",
     "text": [
      "Traceback (most recent call last):\n",
      "  File \"/Applications/anaconda/envs/py36_apy_v401/lib/python3.6/site-packages/emcee/ensemble.py\", line 519, in __call__\n",
      "    return self.f(x, *self.args, **self.kwargs)\n",
      "  File \"/Users/sedona/software_public/dysmalpy/dysmalpy/fitting.py\", line 1515, in log_prob\n",
      "    line_center=gal.model.line_center, profile1d_type=profile1d_type)\n",
      "  File \"/Users/sedona/software_public/dysmalpy/dysmalpy/galaxy.py\", line 547, in create_model_data\n",
      "    aper_centers, flux1d, vel1d, disp1d = self.data.apertures.extract_1d_kinematics(spec_arr=vel_arr,\n",
      "AttributeError: 'NoneType' object has no attribute 'extract_1d_kinematics'\n"
     ]
    },
    {
     "name": "stdout",
     "output_type": "stream",
     "text": [
      "emcee: Exception while calling your likelihood function:\n",
      "  params: [12.58687481 10.44878297 96.84872425]\n",
      "  args: [<dysmalpy.galaxy.Galaxy object at 0x1a2154c860>]\n",
      "  kwargs: {'oversample': 1, 'oversize': 1, 'fitdispersion': True, 'fitflux': False, 'blob_name': None, 'model_key_re': ['disk+bulge', 'r_eff_disk'], 'model_key_halo': ['halo'], 'red_chisq': False, 'oversampled_chisq': True, 'profile1d_type': 'circ_ap_cube'}\n",
      "  exception:\n"
     ]
    },
    {
     "name": "stderr",
     "output_type": "stream",
     "text": [
      "Traceback (most recent call last):\n",
      "  File \"/Applications/anaconda/envs/py36_apy_v401/lib/python3.6/site-packages/emcee/ensemble.py\", line 519, in __call__\n",
      "    return self.f(x, *self.args, **self.kwargs)\n",
      "  File \"/Users/sedona/software_public/dysmalpy/dysmalpy/fitting.py\", line 1515, in log_prob\n",
      "    line_center=gal.model.line_center, profile1d_type=profile1d_type)\n",
      "  File \"/Users/sedona/software_public/dysmalpy/dysmalpy/galaxy.py\", line 547, in create_model_data\n",
      "    aper_centers, flux1d, vel1d, disp1d = self.data.apertures.extract_1d_kinematics(spec_arr=vel_arr,\n",
      "AttributeError: 'NoneType' object has no attribute 'extract_1d_kinematics'\n"
     ]
    },
    {
     "name": "stdout",
     "output_type": "stream",
     "text": [
      "emcee: Exception while calling your likelihood function:\n",
      "  params: [ 10.60317943  11.63931834 121.89060579]\n",
      "  args: [<dysmalpy.galaxy.Galaxy object at 0x11c402d30>]\n",
      "  kwargs: {'oversample': 1, 'oversize': 1, 'fitdispersion': True, 'fitflux': False, 'blob_name': None, 'model_key_re': ['disk+bulge', 'r_eff_disk'], 'model_key_halo': ['halo'], 'red_chisq': False, 'oversampled_chisq': True, 'profile1d_type': 'circ_ap_cube'}\n",
      "  exception:\n"
     ]
    },
    {
     "name": "stderr",
     "output_type": "stream",
     "text": [
      "Traceback (most recent call last):\n",
      "  File \"/Applications/anaconda/envs/py36_apy_v401/lib/python3.6/site-packages/emcee/ensemble.py\", line 519, in __call__\n",
      "    return self.f(x, *self.args, **self.kwargs)\n",
      "  File \"/Users/sedona/software_public/dysmalpy/dysmalpy/fitting.py\", line 1515, in log_prob\n",
      "    line_center=gal.model.line_center, profile1d_type=profile1d_type)\n"
     ]
    },
    {
     "name": "stdout",
     "output_type": "stream",
     "text": [
      "emcee: Exception while calling your likelihood function:\n"
     ]
    },
    {
     "name": "stderr",
     "output_type": "stream",
     "text": [
      "  File \"/Users/sedona/software_public/dysmalpy/dysmalpy/galaxy.py\", line 547, in create_model_data\n",
      "    aper_centers, flux1d, vel1d, disp1d = self.data.apertures.extract_1d_kinematics(spec_arr=vel_arr,\n"
     ]
    },
    {
     "name": "stdout",
     "output_type": "stream",
     "text": [
      "  params: [ 10.50616122  11.55140737 163.38963749]\n",
      "  args: [<dysmalpy.galaxy.Galaxy object at 0x10c060b00>]\n",
      "  kwargs: {'oversample': 1, 'oversize': 1, 'fitdispersion': True, 'fitflux': False, 'blob_name': None, 'model_key_re': ['disk+bulge', 'r_eff_disk'], 'model_key_halo': ['halo'], 'red_chisq': False, 'oversampled_chisq': True, 'profile1d_type': 'circ_ap_cube'}\n",
      "  exception:\n"
     ]
    },
    {
     "name": "stderr",
     "output_type": "stream",
     "text": [
      "Traceback (most recent call last):\n",
      "  File \"/Applications/anaconda/envs/py36_apy_v401/lib/python3.6/site-packages/emcee/ensemble.py\", line 519, in __call__\n",
      "    return self.f(x, *self.args, **self.kwargs)\n",
      "  File \"/Users/sedona/software_public/dysmalpy/dysmalpy/fitting.py\", line 1515, in log_prob\n",
      "    line_center=gal.model.line_center, profile1d_type=profile1d_type)\n",
      "  File \"/Users/sedona/software_public/dysmalpy/dysmalpy/galaxy.py\", line 547, in create_model_data\n",
      "    aper_centers, flux1d, vel1d, disp1d = self.data.apertures.extract_1d_kinematics(spec_arr=vel_arr,\n",
      "AttributeError: 'NoneType' object has no attribute 'extract_1d_kinematics'\n"
     ]
    },
    {
     "name": "stdout",
     "output_type": "stream",
     "text": [
      "emcee: Exception while calling your likelihood function:\n"
     ]
    },
    {
     "name": "stderr",
     "output_type": "stream",
     "text": [
      "AttributeError: 'NoneType' object has no attribute 'extract_1d_kinematics'\n"
     ]
    },
    {
     "name": "stdout",
     "output_type": "stream",
     "text": [
      "  params: [ 10.64408931  12.18914286 148.91983028]\n",
      "  args: [<dysmalpy.galaxy.Galaxy object at 0x1a2154c940>]\n",
      "  kwargs: {'oversample': 1, 'oversize': 1, 'fitdispersion': True, 'fitflux': False, 'blob_name': None, 'model_key_re': ['disk+bulge', 'r_eff_disk'], 'model_key_halo': ['halo'], 'red_chisq': False, 'oversampled_chisq': True, 'profile1d_type': 'circ_ap_cube'}\n",
      "  exception:\n"
     ]
    },
    {
     "name": "stderr",
     "output_type": "stream",
     "text": [
      "Traceback (most recent call last):\n",
      "  File \"/Applications/anaconda/envs/py36_apy_v401/lib/python3.6/site-packages/emcee/ensemble.py\", line 519, in __call__\n",
      "    return self.f(x, *self.args, **self.kwargs)\n",
      "  File \"/Users/sedona/software_public/dysmalpy/dysmalpy/fitting.py\", line 1515, in log_prob\n",
      "    line_center=gal.model.line_center, profile1d_type=profile1d_type)\n",
      "  File \"/Users/sedona/software_public/dysmalpy/dysmalpy/galaxy.py\", line 547, in create_model_data\n",
      "    aper_centers, flux1d, vel1d, disp1d = self.data.apertures.extract_1d_kinematics(spec_arr=vel_arr,\n",
      "AttributeError: 'NoneType' object has no attribute 'extract_1d_kinematics'\n"
     ]
    },
    {
     "name": "stdout",
     "output_type": "stream",
     "text": [
      "emcee: Exception while calling your likelihood function:\n",
      "  params: [11.01593333 10.61315562 23.27888538]\n",
      "  args: [<dysmalpy.galaxy.Galaxy object at 0x1a2155a048>]\n",
      "  kwargs: {'oversample': 1, 'oversize': 1, 'fitdispersion': True, 'fitflux': False, 'blob_name': None, 'model_key_re': ['disk+bulge', 'r_eff_disk'], 'model_key_halo': ['halo'], 'red_chisq': False, 'oversampled_chisq': True, 'profile1d_type': 'circ_ap_cube'}\n",
      "emcee: Exception while calling your likelihood function:\n",
      "  params: [ 10.86219432  11.62146069 188.71356604]\n",
      "  args: [<dysmalpy.galaxy.Galaxy object at 0x10b905ba8>]\n",
      "  kwargs: {'oversample': 1, 'oversize': 1, 'fitdispersion': True, 'fitflux': False, 'blob_name': None, 'model_key_re': ['disk+bulge', 'r_eff_disk'], 'model_key_halo': ['halo'], 'red_chisq': False, 'oversampled_chisq': True, 'profile1d_type': 'circ_ap_cube'}\n",
      "  exception:\n"
     ]
    },
    {
     "name": "stderr",
     "output_type": "stream",
     "text": [
      "Traceback (most recent call last):\n",
      "  File \"/Applications/anaconda/envs/py36_apy_v401/lib/python3.6/site-packages/emcee/ensemble.py\", line 519, in __call__\n",
      "    return self.f(x, *self.args, **self.kwargs)\n"
     ]
    },
    {
     "name": "stdout",
     "output_type": "stream",
     "text": [
      "  exception:\n"
     ]
    },
    {
     "name": "stderr",
     "output_type": "stream",
     "text": [
      "  File \"/Users/sedona/software_public/dysmalpy/dysmalpy/fitting.py\", line 1515, in log_prob\n",
      "    line_center=gal.model.line_center, profile1d_type=profile1d_type)\n",
      "  File \"/Users/sedona/software_public/dysmalpy/dysmalpy/galaxy.py\", line 547, in create_model_data\n",
      "    aper_centers, flux1d, vel1d, disp1d = self.data.apertures.extract_1d_kinematics(spec_arr=vel_arr,\n",
      "AttributeError: 'NoneType' object has no attribute 'extract_1d_kinematics'\n",
      "Traceback (most recent call last):\n",
      "  File \"/Applications/anaconda/envs/py36_apy_v401/lib/python3.6/site-packages/emcee/ensemble.py\", line 519, in __call__\n",
      "    return self.f(x, *self.args, **self.kwargs)\n",
      "  File \"/Users/sedona/software_public/dysmalpy/dysmalpy/fitting.py\", line 1515, in log_prob\n",
      "    line_center=gal.model.line_center, profile1d_type=profile1d_type)\n",
      "  File \"/Users/sedona/software_public/dysmalpy/dysmalpy/galaxy.py\", line 547, in create_model_data\n",
      "    aper_centers, flux1d, vel1d, disp1d = self.data.apertures.extract_1d_kinematics(spec_arr=vel_arr,\n"
     ]
    },
    {
     "name": "stdout",
     "output_type": "stream",
     "text": [
      "emcee: Exception while calling your likelihood function:\n"
     ]
    },
    {
     "name": "stderr",
     "output_type": "stream",
     "text": [
      "AttributeError: 'NoneType' object has no attribute 'extract_1d_kinematics'\n"
     ]
    },
    {
     "name": "stdout",
     "output_type": "stream",
     "text": [
      "  params: [ 11.75227232  11.12598743 124.28106411]\n",
      "  args: [<dysmalpy.galaxy.Galaxy object at 0x1a1fae0550>]\n",
      "emcee: Exception while calling your likelihood function:\n",
      "  params: [10.72451226 11.27654154 95.71624582]\n",
      "  args: [<dysmalpy.galaxy.Galaxy object at 0x1a1fae0550>]\n",
      "  kwargs: {'oversample': 1, 'oversize': 1, 'fitdispersion': True, 'fitflux': False, 'blob_name': None, 'model_key_re': ['disk+bulge', 'r_eff_disk'], 'model_key_halo': ['halo'], 'red_chisq': False, 'oversampled_chisq': True, 'profile1d_type': 'circ_ap_cube'}\n",
      "  exception:\n",
      "  kwargs: {'oversample': 1, 'oversize': 1, 'fitdispersion': True, 'fitflux': False, 'blob_name': None, 'model_key_re': ['disk+bulge', 'r_eff_disk'], 'model_key_halo': ['halo'], 'red_chisq': False, 'oversampled_chisq': True, 'profile1d_type': 'circ_ap_cube'}\n",
      "  exception:\n"
     ]
    },
    {
     "name": "stderr",
     "output_type": "stream",
     "text": [
      "Traceback (most recent call last):\n",
      "Traceback (most recent call last):\n",
      "  File \"/Applications/anaconda/envs/py36_apy_v401/lib/python3.6/site-packages/emcee/ensemble.py\", line 519, in __call__\n",
      "    return self.f(x, *self.args, **self.kwargs)\n",
      "  File \"/Users/sedona/software_public/dysmalpy/dysmalpy/fitting.py\", line 1515, in log_prob\n",
      "    line_center=gal.model.line_center, profile1d_type=profile1d_type)\n",
      "  File \"/Users/sedona/software_public/dysmalpy/dysmalpy/galaxy.py\", line 547, in create_model_data\n",
      "    aper_centers, flux1d, vel1d, disp1d = self.data.apertures.extract_1d_kinematics(spec_arr=vel_arr,\n",
      "  File \"/Applications/anaconda/envs/py36_apy_v401/lib/python3.6/site-packages/emcee/ensemble.py\", line 519, in __call__\n",
      "    return self.f(x, *self.args, **self.kwargs)\n",
      "AttributeError: 'NoneType' object has no attribute 'extract_1d_kinematics'\n",
      "  File \"/Users/sedona/software_public/dysmalpy/dysmalpy/fitting.py\", line 1515, in log_prob\n",
      "    line_center=gal.model.line_center, profile1d_type=profile1d_type)\n",
      "  File \"/Users/sedona/software_public/dysmalpy/dysmalpy/galaxy.py\", line 547, in create_model_data\n",
      "    aper_centers, flux1d, vel1d, disp1d = self.data.apertures.extract_1d_kinematics(spec_arr=vel_arr,\n",
      "AttributeError: 'NoneType' object has no attribute 'extract_1d_kinematics'\n"
     ]
    },
    {
     "name": "stdout",
     "output_type": "stream",
     "text": [
      "emcee: Exception while calling your likelihood function:\n",
      "  params: [11.88979906 12.75988237 69.51709318]\n",
      "  args: [<dysmalpy.galaxy.Galaxy object at 0x10b905ba8>]\n",
      "  kwargs: {'oversample': 1, 'oversize': 1, 'fitdispersion': True, 'fitflux': False, 'blob_name': None, 'model_key_re': ['disk+bulge', 'r_eff_disk'], 'model_key_halo': ['halo'], 'red_chisq': False, 'oversampled_chisq': True, 'profile1d_type': 'circ_ap_cube'}\n",
      "  exception:\n"
     ]
    },
    {
     "name": "stderr",
     "output_type": "stream",
     "text": [
      "Traceback (most recent call last):\n",
      "  File \"/Applications/anaconda/envs/py36_apy_v401/lib/python3.6/site-packages/emcee/ensemble.py\", line 519, in __call__\n",
      "    return self.f(x, *self.args, **self.kwargs)\n",
      "  File \"/Users/sedona/software_public/dysmalpy/dysmalpy/fitting.py\", line 1515, in log_prob\n",
      "    line_center=gal.model.line_center, profile1d_type=profile1d_type)\n",
      "  File \"/Users/sedona/software_public/dysmalpy/dysmalpy/galaxy.py\", line 547, in create_model_data\n",
      "    aper_centers, flux1d, vel1d, disp1d = self.data.apertures.extract_1d_kinematics(spec_arr=vel_arr,\n"
     ]
    },
    {
     "name": "stdout",
     "output_type": "stream",
     "text": [
      "emcee: Exception while calling your likelihood function:\n",
      "  params: [ 12.83512384  11.15889963 198.07920713]\n"
     ]
    },
    {
     "name": "stderr",
     "output_type": "stream",
     "text": [
      "AttributeError: 'NoneType' object has no attribute 'extract_1d_kinematics'\n"
     ]
    },
    {
     "name": "stdout",
     "output_type": "stream",
     "text": [
      "  args: [<dysmalpy.galaxy.Galaxy object at 0x10c060b00>]\n",
      "  kwargs: {'oversample': 1, 'oversize': 1, 'fitdispersion': True, 'fitflux': False, 'blob_name': None, 'model_key_re': ['disk+bulge', 'r_eff_disk'], 'model_key_halo': ['halo'], 'red_chisq': False, 'oversampled_chisq': True, 'profile1d_type': 'circ_ap_cube'}\n",
      "  exception:\n"
     ]
    },
    {
     "name": "stderr",
     "output_type": "stream",
     "text": [
      "Traceback (most recent call last):\n",
      "  File \"/Applications/anaconda/envs/py36_apy_v401/lib/python3.6/site-packages/emcee/ensemble.py\", line 519, in __call__\n",
      "    return self.f(x, *self.args, **self.kwargs)\n",
      "  File \"/Users/sedona/software_public/dysmalpy/dysmalpy/fitting.py\", line 1515, in log_prob\n",
      "    line_center=gal.model.line_center, profile1d_type=profile1d_type)\n",
      "  File \"/Users/sedona/software_public/dysmalpy/dysmalpy/galaxy.py\", line 547, in create_model_data\n",
      "    aper_centers, flux1d, vel1d, disp1d = self.data.apertures.extract_1d_kinematics(spec_arr=vel_arr,\n",
      "AttributeError: 'NoneType' object has no attribute 'extract_1d_kinematics'\n"
     ]
    },
    {
     "name": "stdout",
     "output_type": "stream",
     "text": [
      "emcee: Exception while calling your likelihood function:\n",
      "  params: [ 10.26241158  12.12648337 126.6981624 ]\n",
      "emcee: Exception while calling your likelihood function:\n",
      "  args: [<dysmalpy.galaxy.Galaxy object at 0x1a21011f60>]\n",
      "  params: [10.18695801 11.25450123 17.81132435]\n",
      "  kwargs: {'oversample': 1, 'oversize': 1, 'fitdispersion': True, 'fitflux': False, 'blob_name': None, 'model_key_re': ['disk+bulge', 'r_eff_disk'], 'model_key_halo': ['halo'], 'red_chisq': False, 'oversampled_chisq': True, 'profile1d_type': 'circ_ap_cube'}\n",
      "  exception:\n"
     ]
    },
    {
     "name": "stderr",
     "output_type": "stream",
     "text": [
      "Traceback (most recent call last):\n",
      "  File \"/Applications/anaconda/envs/py36_apy_v401/lib/python3.6/site-packages/emcee/ensemble.py\", line 519, in __call__\n",
      "    return self.f(x, *self.args, **self.kwargs)\n",
      "  File \"/Users/sedona/software_public/dysmalpy/dysmalpy/fitting.py\", line 1515, in log_prob\n",
      "    line_center=gal.model.line_center, profile1d_type=profile1d_type)\n",
      "  File \"/Users/sedona/software_public/dysmalpy/dysmalpy/galaxy.py\", line 547, in create_model_data\n",
      "    aper_centers, flux1d, vel1d, disp1d = self.data.apertures.extract_1d_kinematics(spec_arr=vel_arr,\n"
     ]
    },
    {
     "name": "stdout",
     "output_type": "stream",
     "text": [
      "  args: [<dysmalpy.galaxy.Galaxy object at 0x1a210252b0>]\n"
     ]
    },
    {
     "name": "stderr",
     "output_type": "stream",
     "text": [
      "AttributeError: 'NoneType' object has no attribute 'extract_1d_kinematics'\n"
     ]
    },
    {
     "name": "stdout",
     "output_type": "stream",
     "text": [
      "  kwargs: {'oversample': 1, 'oversize': 1, 'fitdispersion': True, 'fitflux': False, 'blob_name': None, 'model_key_re': ['disk+bulge', 'r_eff_disk'], 'model_key_halo': ['halo'], 'red_chisq': False, 'oversampled_chisq': True, 'profile1d_type': 'circ_ap_cube'}\n",
      "  exception:\n"
     ]
    },
    {
     "name": "stderr",
     "output_type": "stream",
     "text": [
      "Traceback (most recent call last):\n",
      "  File \"/Applications/anaconda/envs/py36_apy_v401/lib/python3.6/site-packages/emcee/ensemble.py\", line 519, in __call__\n",
      "    return self.f(x, *self.args, **self.kwargs)\n",
      "  File \"/Users/sedona/software_public/dysmalpy/dysmalpy/fitting.py\", line 1515, in log_prob\n",
      "    line_center=gal.model.line_center, profile1d_type=profile1d_type)\n",
      "  File \"/Users/sedona/software_public/dysmalpy/dysmalpy/galaxy.py\", line 547, in create_model_data\n",
      "    aper_centers, flux1d, vel1d, disp1d = self.data.apertures.extract_1d_kinematics(spec_arr=vel_arr,\n",
      "AttributeError: 'NoneType' object has no attribute 'extract_1d_kinematics'\n"
     ]
    },
    {
     "ename": "AttributeError",
     "evalue": "'NoneType' object has no attribute 'extract_1d_kinematics'",
     "output_type": "error",
     "traceback": [
      "\u001b[0;31m---------------------------------------------------------------------------\u001b[0m",
      "\u001b[0;31mRemoteTraceback\u001b[0m                           Traceback (most recent call last)",
      "\u001b[0;31mRemoteTraceback\u001b[0m: \n\"\"\"\nTraceback (most recent call last):\n  File \"/Applications/anaconda/envs/py36_apy_v401/lib/python3.6/multiprocessing/pool.py\", line 119, in worker\n    result = (True, func(*args, **kwds))\n  File \"/Applications/anaconda/envs/py36_apy_v401/lib/python3.6/multiprocessing/pool.py\", line 44, in mapstar\n    return list(map(*args))\n  File \"/Applications/anaconda/envs/py36_apy_v401/lib/python3.6/site-packages/emcee/ensemble.py\", line 519, in __call__\n    return self.f(x, *self.args, **self.kwargs)\n  File \"/Users/sedona/software_public/dysmalpy/dysmalpy/fitting.py\", line 1515, in log_prob\n    line_center=gal.model.line_center, profile1d_type=profile1d_type)\n  File \"/Users/sedona/software_public/dysmalpy/dysmalpy/galaxy.py\", line 547, in create_model_data\n    aper_centers, flux1d, vel1d, disp1d = self.data.apertures.extract_1d_kinematics(spec_arr=vel_arr,\nAttributeError: 'NoneType' object has no attribute 'extract_1d_kinematics'\n\"\"\"",
      "\nThe above exception was the direct cause of the following exception:\n",
      "\u001b[0;31mAttributeError\u001b[0m                            Traceback (most recent call last)",
      "\u001b[0;32m<ipython-input-19-1b8c88319580>\u001b[0m in \u001b[0;36m<module>\u001b[0;34m\u001b[0m\n\u001b[1;32m      5\u001b[0m                                \u001b[0moversample\u001b[0m\u001b[0;34m=\u001b[0m\u001b[0moversample\u001b[0m\u001b[0;34m,\u001b[0m \u001b[0mout_dir\u001b[0m\u001b[0;34m=\u001b[0m\u001b[0mout_dir\u001b[0m\u001b[0;34m,\u001b[0m\u001b[0;34m\u001b[0m\u001b[0;34m\u001b[0m\u001b[0m\n\u001b[1;32m      6\u001b[0m                                \u001b[0mfitdispersion\u001b[0m\u001b[0;34m=\u001b[0m\u001b[0mfitdispersion\u001b[0m\u001b[0;34m,\u001b[0m\u001b[0;34m\u001b[0m\u001b[0;34m\u001b[0m\u001b[0m\n\u001b[0;32m----> 7\u001b[0;31m                           profile1d_type=gal.data.profile1d_type)\n\u001b[0m",
      "\u001b[0;32m~/software_public/dysmalpy/dysmalpy/fitting.py\u001b[0m in \u001b[0;36mfit\u001b[0;34m(gal, nWalkers, cpuFrac, nCPUs, scale_param_a, nBurn, nSteps, minAF, maxAF, nEff, oversample, oversize, oversampled_chisq, red_chisq, profile1d_type, fitdispersion, fitflux, blob_name, model_key_re, model_key_halo, do_plotting, save_burn, save_model, save_bestfit_cube, save_data, outdir, linked_posterior_names, nPostBins, continue_steps, save_intermediate_sampler_chain, nStep_intermediate_save, input_sampler, f_plot_trace_burnin, f_plot_trace, f_model, f_cube, f_sampler, f_sampler_tmp, f_burn_sampler, f_plot_param_corner, f_plot_bestfit, f_mcmc_results, f_chain_ascii, f_vel_ascii, f_log, **kwargs)\u001b[0m\n\u001b[1;32m    355\u001b[0m             \u001b[0;32melse\u001b[0m\u001b[0;34m:\u001b[0m\u001b[0;34m\u001b[0m\u001b[0;34m\u001b[0m\u001b[0m\n\u001b[1;32m    356\u001b[0m                 pos, prob, state = sampler.run_mcmc(pos, 1, lnprob0=prob,\n\u001b[0;32m--> 357\u001b[0;31m                                                     rstate0=state)\n\u001b[0m\u001b[1;32m    358\u001b[0m \u001b[0;34m\u001b[0m\u001b[0m\n\u001b[1;32m    359\u001b[0m \u001b[0;34m\u001b[0m\u001b[0m\n",
      "\u001b[0;32m/Applications/anaconda/envs/py36_apy_v401/lib/python3.6/site-packages/emcee/sampler.py\u001b[0m in \u001b[0;36mrun_mcmc\u001b[0;34m(self, pos0, N, rstate0, lnprob0, **kwargs)\u001b[0m\n\u001b[1;32m    170\u001b[0m \u001b[0;34m\u001b[0m\u001b[0m\n\u001b[1;32m    171\u001b[0m         for results in self.sample(pos0, lnprob0, rstate0, iterations=N,\n\u001b[0;32m--> 172\u001b[0;31m                                    **kwargs):\n\u001b[0m\u001b[1;32m    173\u001b[0m             \u001b[0;32mpass\u001b[0m\u001b[0;34m\u001b[0m\u001b[0;34m\u001b[0m\u001b[0m\n\u001b[1;32m    174\u001b[0m \u001b[0;34m\u001b[0m\u001b[0m\n",
      "\u001b[0;32m/Applications/anaconda/envs/py36_apy_v401/lib/python3.6/site-packages/emcee/ensemble.py\u001b[0m in \u001b[0;36msample\u001b[0;34m(self, p0, lnprob0, rstate0, blobs0, iterations, thin, storechain, mh_proposal)\u001b[0m\n\u001b[1;32m    196\u001b[0m         \u001b[0mblobs\u001b[0m \u001b[0;34m=\u001b[0m \u001b[0mblobs0\u001b[0m\u001b[0;34m\u001b[0m\u001b[0;34m\u001b[0m\u001b[0m\n\u001b[1;32m    197\u001b[0m         \u001b[0;32mif\u001b[0m \u001b[0mlnprob\u001b[0m \u001b[0;32mis\u001b[0m \u001b[0;32mNone\u001b[0m\u001b[0;34m:\u001b[0m\u001b[0;34m\u001b[0m\u001b[0;34m\u001b[0m\u001b[0m\n\u001b[0;32m--> 198\u001b[0;31m             \u001b[0mlnprob\u001b[0m\u001b[0;34m,\u001b[0m \u001b[0mblobs\u001b[0m \u001b[0;34m=\u001b[0m \u001b[0mself\u001b[0m\u001b[0;34m.\u001b[0m\u001b[0m_get_lnprob\u001b[0m\u001b[0;34m(\u001b[0m\u001b[0mp\u001b[0m\u001b[0;34m)\u001b[0m\u001b[0;34m\u001b[0m\u001b[0;34m\u001b[0m\u001b[0m\n\u001b[0m\u001b[1;32m    199\u001b[0m \u001b[0;34m\u001b[0m\u001b[0m\n\u001b[1;32m    200\u001b[0m         \u001b[0;31m# Check to make sure that the probability function didn't return\u001b[0m\u001b[0;34m\u001b[0m\u001b[0;34m\u001b[0m\u001b[0;34m\u001b[0m\u001b[0m\n",
      "\u001b[0;32m/Applications/anaconda/envs/py36_apy_v401/lib/python3.6/site-packages/emcee/ensemble.py\u001b[0m in \u001b[0;36m_get_lnprob\u001b[0;34m(self, pos)\u001b[0m\n\u001b[1;32m    380\u001b[0m \u001b[0;34m\u001b[0m\u001b[0m\n\u001b[1;32m    381\u001b[0m         \u001b[0;31m# Run the log-probability calculations (optionally in parallel).\u001b[0m\u001b[0;34m\u001b[0m\u001b[0;34m\u001b[0m\u001b[0;34m\u001b[0m\u001b[0m\n\u001b[0;32m--> 382\u001b[0;31m         \u001b[0mresults\u001b[0m \u001b[0;34m=\u001b[0m \u001b[0mlist\u001b[0m\u001b[0;34m(\u001b[0m\u001b[0mM\u001b[0m\u001b[0;34m(\u001b[0m\u001b[0mself\u001b[0m\u001b[0;34m.\u001b[0m\u001b[0mlnprobfn\u001b[0m\u001b[0;34m,\u001b[0m \u001b[0;34m[\u001b[0m\u001b[0mp\u001b[0m\u001b[0;34m[\u001b[0m\u001b[0mi\u001b[0m\u001b[0;34m]\u001b[0m \u001b[0;32mfor\u001b[0m \u001b[0mi\u001b[0m \u001b[0;32min\u001b[0m \u001b[0mrange\u001b[0m\u001b[0;34m(\u001b[0m\u001b[0mlen\u001b[0m\u001b[0;34m(\u001b[0m\u001b[0mp\u001b[0m\u001b[0;34m)\u001b[0m\u001b[0;34m)\u001b[0m\u001b[0;34m]\u001b[0m\u001b[0;34m)\u001b[0m\u001b[0;34m)\u001b[0m\u001b[0;34m\u001b[0m\u001b[0;34m\u001b[0m\u001b[0m\n\u001b[0m\u001b[1;32m    383\u001b[0m \u001b[0;34m\u001b[0m\u001b[0m\n\u001b[1;32m    384\u001b[0m         \u001b[0;32mtry\u001b[0m\u001b[0;34m:\u001b[0m\u001b[0;34m\u001b[0m\u001b[0;34m\u001b[0m\u001b[0m\n",
      "\u001b[0;32m/Applications/anaconda/envs/py36_apy_v401/lib/python3.6/site-packages/emcee/interruptible_pool.py\u001b[0m in \u001b[0;36mmap\u001b[0;34m(self, func, iterable, chunksize)\u001b[0m\n\u001b[1;32m     92\u001b[0m         \u001b[0;32mwhile\u001b[0m \u001b[0;32mTrue\u001b[0m\u001b[0;34m:\u001b[0m\u001b[0;34m\u001b[0m\u001b[0;34m\u001b[0m\u001b[0m\n\u001b[1;32m     93\u001b[0m             \u001b[0;32mtry\u001b[0m\u001b[0;34m:\u001b[0m\u001b[0;34m\u001b[0m\u001b[0;34m\u001b[0m\u001b[0m\n\u001b[0;32m---> 94\u001b[0;31m                 \u001b[0;32mreturn\u001b[0m \u001b[0mr\u001b[0m\u001b[0;34m.\u001b[0m\u001b[0mget\u001b[0m\u001b[0;34m(\u001b[0m\u001b[0mself\u001b[0m\u001b[0;34m.\u001b[0m\u001b[0mwait_timeout\u001b[0m\u001b[0;34m)\u001b[0m\u001b[0;34m\u001b[0m\u001b[0;34m\u001b[0m\u001b[0m\n\u001b[0m\u001b[1;32m     95\u001b[0m             \u001b[0;32mexcept\u001b[0m \u001b[0mTimeoutError\u001b[0m\u001b[0;34m:\u001b[0m\u001b[0;34m\u001b[0m\u001b[0;34m\u001b[0m\u001b[0m\n\u001b[1;32m     96\u001b[0m                 \u001b[0;32mpass\u001b[0m\u001b[0;34m\u001b[0m\u001b[0;34m\u001b[0m\u001b[0m\n",
      "\u001b[0;32m/Applications/anaconda/envs/py36_apy_v401/lib/python3.6/multiprocessing/pool.py\u001b[0m in \u001b[0;36mget\u001b[0;34m(self, timeout)\u001b[0m\n\u001b[1;32m    642\u001b[0m             \u001b[0;32mreturn\u001b[0m \u001b[0mself\u001b[0m\u001b[0;34m.\u001b[0m\u001b[0m_value\u001b[0m\u001b[0;34m\u001b[0m\u001b[0;34m\u001b[0m\u001b[0m\n\u001b[1;32m    643\u001b[0m         \u001b[0;32melse\u001b[0m\u001b[0;34m:\u001b[0m\u001b[0;34m\u001b[0m\u001b[0;34m\u001b[0m\u001b[0m\n\u001b[0;32m--> 644\u001b[0;31m             \u001b[0;32mraise\u001b[0m \u001b[0mself\u001b[0m\u001b[0;34m.\u001b[0m\u001b[0m_value\u001b[0m\u001b[0;34m\u001b[0m\u001b[0;34m\u001b[0m\u001b[0m\n\u001b[0m\u001b[1;32m    645\u001b[0m \u001b[0;34m\u001b[0m\u001b[0m\n\u001b[1;32m    646\u001b[0m     \u001b[0;32mdef\u001b[0m \u001b[0m_set\u001b[0m\u001b[0;34m(\u001b[0m\u001b[0mself\u001b[0m\u001b[0;34m,\u001b[0m \u001b[0mi\u001b[0m\u001b[0;34m,\u001b[0m \u001b[0mobj\u001b[0m\u001b[0;34m)\u001b[0m\u001b[0;34m:\u001b[0m\u001b[0;34m\u001b[0m\u001b[0;34m\u001b[0m\u001b[0m\n",
      "\u001b[0;31mAttributeError\u001b[0m: 'NoneType' object has no attribute 'extract_1d_kinematics'"
     ]
    }
   ],
   "source": [
    "mcmc_results = fitting.fit(gal, nWalkers=nwalkers, nCPUs=ncpus,\n",
    "                               scale_param_a=scale_param_a, nBurn=nburn,\n",
    "                               nSteps=nsteps, minAF=minaf, maxAF=maxaf,\n",
    "                               nEff=neff, do_plotting=do_plotting,\n",
    "                               oversample=oversample, out_dir=out_dir,\n",
    "                               fitdispersion=fitdispersion,\n",
    "                          profile1d_type=gal.data.profile1d_type)"
   ]
  },
  {
   "cell_type": "markdown",
   "metadata": {},
   "source": [
    "## Examine MCMC results ##"
   ]
  },
  {
   "cell_type": "code",
   "execution_count": 19,
   "metadata": {},
   "outputs": [
    {
     "data": {
      "text/html": [
       "\n",
       "        <iframe\n",
       "            width=\"600\"\n",
       "            height=\"400\"\n",
       "            src=\"./output_1D/mcmc_trace.pdf\"\n",
       "            frameborder=\"0\"\n",
       "            allowfullscreen\n",
       "        ></iframe>\n",
       "        "
      ],
      "text/plain": [
       "<IPython.lib.display.IFrame at 0x1156a8690>"
      ]
     },
     "execution_count": 19,
     "metadata": {},
     "output_type": "execute_result"
    }
   ],
   "source": [
    "# Look at trace:\n",
    "filepath = out_dir+\"mcmc_trace.pdf\"\n",
    "IFrame(filepath, width=600, height=400)"
   ]
  },
  {
   "cell_type": "code",
   "execution_count": 20,
   "metadata": {},
   "outputs": [
    {
     "data": {
      "text/html": [
       "\n",
       "        <iframe\n",
       "            width=\"600\"\n",
       "            height=\"570\"\n",
       "            src=\"./output_1D/mcmc_best_fit.pdf\"\n",
       "            frameborder=\"0\"\n",
       "            allowfullscreen\n",
       "        ></iframe>\n",
       "        "
      ],
      "text/plain": [
       "<IPython.lib.display.IFrame at 0x1156f1ed0>"
      ]
     },
     "execution_count": 20,
     "metadata": {},
     "output_type": "execute_result"
    }
   ],
   "source": [
    "# Look at best-fit:\n",
    "filepath = out_dir+\"mcmc_best_fit.pdf\"\n",
    "IFrame(filepath, width=600, height=570)"
   ]
  },
  {
   "cell_type": "code",
   "execution_count": 21,
   "metadata": {},
   "outputs": [
    {
     "data": {
      "text/html": [
       "\n",
       "        <iframe\n",
       "            width=\"570\"\n",
       "            height=\"620\"\n",
       "            src=\"./output_1D/mcmc_param_corner.pdf\"\n",
       "            frameborder=\"0\"\n",
       "            allowfullscreen\n",
       "        ></iframe>\n",
       "        "
      ],
      "text/plain": [
       "<IPython.lib.display.IFrame at 0x1156a8790>"
      ]
     },
     "execution_count": 21,
     "metadata": {},
     "output_type": "execute_result"
    }
   ],
   "source": [
    "# Look at corner:\n",
    "filepath = out_dir+\"mcmc_param_corner.pdf\"\n",
    "IFrame(filepath, width=570, height=620)"
   ]
  },
  {
   "cell_type": "markdown",
   "metadata": {},
   "source": [
    "---------"
   ]
  },
  {
   "cell_type": "markdown",
   "metadata": {},
   "source": [
    "## Reload data ##"
   ]
  },
  {
   "cell_type": "markdown",
   "metadata": {},
   "source": [
    "Helpful for:\n",
    "  - replotting\n",
    "  - reanalyzing chain (eg, jointly constraining some posteriors)\n",
    "  - ..."
   ]
  },
  {
   "cell_type": "code",
   "execution_count": 22,
   "metadata": {
    "collapsed": true
   },
   "outputs": [],
   "source": [
    "# For compatibility with Python 2.7:\n",
    "mod_in = copy.deepcopy(gal.model)\n",
    "gal.model = mod_in\n",
    "    \n",
    "# Initialize a basic dummy results class\n",
    "mcmc_results = fitting.MCMCResults(model=gal.model)\n",
    "\n",
    "# Set what the names are for reloading: using default names\n",
    "fsampler = out_dir+'mcmc_sampler.pickle'\n",
    "fresults = out_dir+'mcmc_results.pickle'\n",
    "\n",
    "mcmc_results.reload_mcmc_results(filename=fresults)\n",
    "mcmc_results.reload_sampler(filename=fsampler)"
   ]
  },
  {
   "cell_type": "markdown",
   "metadata": {},
   "source": [
    "------"
   ]
  },
  {
   "cell_type": "markdown",
   "metadata": {},
   "source": [
    "----------"
   ]
  }
 ],
 "metadata": {
  "kernelspec": {
   "display_name": "Python 3",
   "language": "python",
   "name": "python3"
  },
  "language_info": {
   "codemirror_mode": {
    "name": "ipython",
    "version": 3
   },
   "file_extension": ".py",
   "mimetype": "text/x-python",
   "name": "python",
   "nbconvert_exporter": "python",
   "pygments_lexer": "ipython3",
   "version": "3.6.8"
  }
 },
 "nbformat": 4,
 "nbformat_minor": 1
}
