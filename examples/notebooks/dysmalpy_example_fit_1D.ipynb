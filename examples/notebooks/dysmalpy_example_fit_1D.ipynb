{
 "cells": [
  {
   "cell_type": "markdown",
   "metadata": {
    "collapsed": true
   },
   "source": [
    "# Example `Dysmalpy` 1D fitting #"
   ]
  },
  {
   "cell_type": "markdown",
   "metadata": {},
   "source": [
    "**Includes the following components:**\n",
    " - Disk + Bulge\n",
    " - NFW halo\n",
    " - Constant velocity dispersion"
   ]
  },
  {
   "cell_type": "markdown",
   "metadata": {},
   "source": [
    "##### Setup notebook #####"
   ]
  },
  {
   "cell_type": "code",
   "execution_count": 1,
   "metadata": {
    "collapsed": true
   },
   "outputs": [],
   "source": [
    "import matplotlib.pyplot as plt\n",
    "%matplotlib inline\n",
    "\n",
    "from IPython.display import IFrame"
   ]
  },
  {
   "cell_type": "markdown",
   "metadata": {},
   "source": [
    "#### First import modules ####"
   ]
  },
  {
   "cell_type": "code",
   "execution_count": 2,
   "metadata": {
    "collapsed": true
   },
   "outputs": [],
   "source": [
    "from __future__ import (absolute_import, division, print_function,\n",
    "                        unicode_literals)\n",
    "\n",
    "from dysmalpy import galaxy\n",
    "from dysmalpy import models\n",
    "from dysmalpy import fitting\n",
    "from dysmalpy import instrument\n",
    "from dysmalpy import data_classes\n",
    "from dysmalpy import parameters\n",
    "from dysmalpy import plotting\n",
    "\n",
    "import os\n",
    "import copy\n",
    "\n",
    "import numpy as np\n",
    "import astropy.units as u\n",
    "import astropy.io.fits as fits"
   ]
  },
  {
   "cell_type": "code",
   "execution_count": 3,
   "metadata": {
    "collapsed": true
   },
   "outputs": [],
   "source": [
    "import logging\n",
    "logger = logging.getLogger('DysmalPy')\n",
    "logger.setLevel(logging.INFO)"
   ]
  },
  {
   "cell_type": "markdown",
   "metadata": {},
   "source": [
    "#### Set data, output paths ####"
   ]
  },
  {
   "cell_type": "code",
   "execution_count": 4,
   "metadata": {
    "collapsed": true
   },
   "outputs": [],
   "source": [
    "# Data directory\n",
    "data_dir = '/Users/sedona/data/mpe_ir/gs4_43501_dysmalpy_fitting/GS4_43501_H250/'\n",
    "#'/YOUR/DATA/PATH/'\n",
    "\n",
    "# Where to save output files\n",
    "out_dir  = './output_1D/'"
   ]
  },
  {
   "cell_type": "markdown",
   "metadata": {},
   "source": [
    "-------------------"
   ]
  },
  {
   "cell_type": "markdown",
   "metadata": {},
   "source": [
    "##### Set function to tie scale height relative to effective radius #####"
   ]
  },
  {
   "cell_type": "code",
   "execution_count": 5,
   "metadata": {
    "collapsed": true
   },
   "outputs": [],
   "source": [
    "def tie_sigz_reff(model_set):\n",
    " \n",
    "    reff = model_set.components['disk+bulge'].r_eff_disk.value\n",
    "    invq = model_set.components['disk+bulge'].invq_disk\n",
    "    sigz = 2.0*reff/invq/2.35482\n",
    "\n",
    "    return sigz"
   ]
  },
  {
   "cell_type": "markdown",
   "metadata": {},
   "source": [
    "----------"
   ]
  },
  {
   "cell_type": "markdown",
   "metadata": {},
   "source": [
    "## Initialize galaxy, model set, instrument ##"
   ]
  },
  {
   "cell_type": "code",
   "execution_count": 6,
   "metadata": {
    "collapsed": false
   },
   "outputs": [],
   "source": [
    "gal = galaxy.Galaxy(z=1.613, name='GS4_43501')\n",
    "mod_set = models.ModelSet()\n",
    "inst = instrument.Instrument()"
   ]
  },
  {
   "cell_type": "markdown",
   "metadata": {
    "collapsed": true
   },
   "source": [
    "### Baryonic component: Combined Disk+Bulge ###"
   ]
  },
  {
   "cell_type": "code",
   "execution_count": 7,
   "metadata": {
    "collapsed": true
   },
   "outputs": [],
   "source": [
    "total_mass = 11.0    # M_sun\n",
    "bt = 0.3             # Bulge-Total ratio\n",
    "r_eff_disk = 5.0     # kpc\n",
    "n_disk = 1.0\n",
    "invq_disk = 5.0\n",
    "r_eff_bulge = 1.0    # kpc\n",
    "n_bulge = 4.0\n",
    "invq_bulge = 1.0\n",
    "noord_flat = True    # Switch for applying Noordermeer flattening\n",
    "\n",
    "# Fix components\n",
    "bary_fixed = {'total_mass': False,\n",
    "              'r_eff_disk': True,\n",
    "              'n_disk': True,\n",
    "              'r_eff_bulge': True,\n",
    "              'n_bulge': True,\n",
    "              'bt': True}\n",
    "\n",
    "# Set bounds\n",
    "bary_bounds = {'total_mass': (10, 13),\n",
    "               'r_eff_disk': (1.0, 30.0),\n",
    "               'n_disk': (1, 8),\n",
    "               'r_eff_bulge': (1, 5),\n",
    "               'n_bulge': (1, 8),\n",
    "               'bt': (0, 1)}\n",
    "\n",
    "bary = models.DiskBulge(total_mass=total_mass, bt=bt,\n",
    "                        r_eff_disk=r_eff_disk, n_disk=n_disk,\n",
    "                        invq_disk=invq_disk,\n",
    "                        r_eff_bulge=r_eff_bulge, n_bulge=n_bulge,\n",
    "                        invq_bulge=invq_bulge,\n",
    "                        noord_flat=noord_flat,\n",
    "                        name='disk+bulge',\n",
    "                        fixed=bary_fixed, bounds=bary_bounds)\n",
    "\n",
    "bary.r_eff_disk.prior = parameters.BoundedGaussianPrior(center=5.0, stddev=1.0)"
   ]
  },
  {
   "cell_type": "markdown",
   "metadata": {
    "collapsed": true
   },
   "source": [
    "### Halo component ###"
   ]
  },
  {
   "cell_type": "code",
   "execution_count": 8,
   "metadata": {
    "collapsed": true
   },
   "outputs": [],
   "source": [
    "mvirial = 12.0\n",
    "conc = 5.0\n",
    "\n",
    "halo_fixed = {'mvirial': False,\n",
    "              'conc': True}\n",
    "\n",
    "halo_bounds = {'mvirial': (10, 13),\n",
    "               'conc': (1, 20)}\n",
    "\n",
    "halo = models.NFW(mvirial=mvirial, conc=conc, z=gal.z,\n",
    "                  fixed=halo_fixed, bounds=halo_bounds, name='halo')\n",
    "halo.mvirial.prior = parameters.BoundedGaussianPrior(center=11.5, stddev=0.5)"
   ]
  },
  {
   "cell_type": "markdown",
   "metadata": {
    "collapsed": true
   },
   "source": [
    "### Dispersion profile ###"
   ]
  },
  {
   "cell_type": "code",
   "execution_count": 9,
   "metadata": {
    "collapsed": true
   },
   "outputs": [],
   "source": [
    "sigma0 = 39.   # km/s\n",
    "disp_fixed = {'sigma0': False}\n",
    "disp_bounds = {'sigma0': (10, 200)}\n",
    "\n",
    "disp_prof = models.DispersionConst(sigma0=sigma0, fixed=disp_fixed,\n",
    "                                          bounds=disp_bounds, name='dispprof')"
   ]
  },
  {
   "cell_type": "markdown",
   "metadata": {
    "collapsed": true
   },
   "source": [
    "### z-height profile ###"
   ]
  },
  {
   "cell_type": "code",
   "execution_count": 10,
   "metadata": {
    "collapsed": true
   },
   "outputs": [],
   "source": [
    "sigmaz = 0.9   # kpc\n",
    "zheight_fixed = {'sigmaz': False}\n",
    "\n",
    "zheight_prof = models.ZHeightGauss(sigmaz=sigmaz, name='zheightgaus',\n",
    "                                   fixed=zheight_fixed)\n",
    "zheight_prof.sigmaz.tied = tie_sigz_reff"
   ]
  },
  {
   "cell_type": "markdown",
   "metadata": {
    "collapsed": true
   },
   "source": [
    "### Geometry ###"
   ]
  },
  {
   "cell_type": "code",
   "execution_count": 11,
   "metadata": {
    "collapsed": true
   },
   "outputs": [],
   "source": [
    "inc = 62.     # degrees\n",
    "pa = 142.     # degrees, blue-shifted side CCW from north\n",
    "xshift = 0    # pixels from center\n",
    "yshift = 0    # pixels from center\n",
    "\n",
    "geom_fixed = {'inc': True,\n",
    "              'pa': True,\n",
    "              'xshift': True,\n",
    "              'yshift': True}\n",
    "\n",
    "geom_bounds = {'inc': (0, 90),\n",
    "               'pa': (90, 180),\n",
    "               'xshift': (0, 4),\n",
    "               'yshift': (-10, -4)}\n",
    "\n",
    "geom = models.Geometry(inc=inc, pa=pa, xshift=xshift, yshift=yshift,\n",
    "                       fixed=geom_fixed, bounds=geom_bounds, name='geom')"
   ]
  },
  {
   "cell_type": "markdown",
   "metadata": {
    "collapsed": true
   },
   "source": [
    "## Add all model components to ModelSet ##"
   ]
  },
  {
   "cell_type": "code",
   "execution_count": 12,
   "metadata": {
    "collapsed": false
   },
   "outputs": [],
   "source": [
    "# Add all of the model components to the ModelSet\n",
    "mod_set.add_component(bary, light=True)\n",
    "mod_set.add_component(halo)\n",
    "mod_set.add_component(disp_prof)\n",
    "mod_set.add_component(zheight_prof)\n",
    "mod_set.add_component(geom)"
   ]
  },
  {
   "cell_type": "markdown",
   "metadata": {
    "collapsed": true
   },
   "source": [
    "### Set kinematic options for calculating velocity profile ###"
   ]
  },
  {
   "cell_type": "code",
   "execution_count": 13,
   "metadata": {
    "collapsed": true
   },
   "outputs": [],
   "source": [
    "mod_set.kinematic_options.adiabatic_contract = False\n",
    "mod_set.kinematic_options.pressure_support = True"
   ]
  },
  {
   "cell_type": "markdown",
   "metadata": {
    "collapsed": true
   },
   "source": [
    "### Set up the instrument ###"
   ]
  },
  {
   "cell_type": "code",
   "execution_count": 14,
   "metadata": {
    "collapsed": true
   },
   "outputs": [],
   "source": [
    "beamsize = 0.55*u.arcsec                 # FWHM of beam\n",
    "sig_inst = 45*u.km/u.s                   # Instrumental spectral resolution\n",
    "\n",
    "beam = instrument.Beam(major=beamsize)\n",
    "lsf = instrument.LSF(sig_inst)\n",
    "\n",
    "inst.beam = beam\n",
    "inst.lsf = lsf\n",
    "inst.pixscale = 0.125*u.arcsec           # arcsec/pixel\n",
    "inst.fov = [33, 33]                      # (nx, ny) pixels\n",
    "inst.spec_type = 'velocity'              # 'velocity' or 'wavelength'\n",
    "inst.spec_step = 10*u.km/u.s             # Spectral step\n",
    "inst.spec_start = -1000*u.km/u.s         # Starting value of spectrum\n",
    "inst.nspec = 201                         # Number of spectral pixels\n",
    "\n",
    "# Set the beam kernel so it doesn't have to be calculated every step\n",
    "inst.set_beam_kernel()\n",
    "inst.set_lsf_kernel()"
   ]
  },
  {
   "cell_type": "markdown",
   "metadata": {},
   "source": [
    "## Add the model set, instrument to the Galaxy ##"
   ]
  },
  {
   "cell_type": "code",
   "execution_count": 15,
   "metadata": {
    "collapsed": true
   },
   "outputs": [],
   "source": [
    "gal.model = mod_set\n",
    "gal.instrument = inst"
   ]
  },
  {
   "cell_type": "markdown",
   "metadata": {},
   "source": [
    "## Load data ##"
   ]
  },
  {
   "cell_type": "markdown",
   "metadata": {},
   "source": [
    "* Load the data from file:\n",
    "  - *1D velocity, dispersion profiles and error*\n",
    "  - *A mask can be loaded / created as well*\n",
    "  \n",
    "* Put data in `Data1D` class\n",
    "\n",
    "* Add data to Galaxy object"
   ]
  },
  {
   "cell_type": "code",
   "execution_count": 16,
   "metadata": {
    "collapsed": true
   },
   "outputs": [],
   "source": [
    "dat_arr = np.loadtxt(data_dir+'GS4_43501.obs_prof.txt')\n",
    "gs4_r = dat_arr[:,0]\n",
    "gs4_vel = dat_arr[:,1]\n",
    "gs4_disp = dat_arr[:,3]\n",
    "err_vel = dat_arr[:,2]\n",
    "err_disp = dat_arr[:,4]\n",
    "inst_corr = True                  # Flag for if the measured dispersion has been\n",
    "                                  # corrected for instrumental resolution\n",
    "    \n",
    "# Put data in Data1D data class: \n",
    "#    ** specifies slit width, slit PA as well **\n",
    "data1d = data_classes.Data1D(r=gs4_r, velocity=gs4_vel,\n",
    "                                  vel_disp=gs4_disp, vel_err=err_vel,\n",
    "                                  vel_disp_err=err_disp, slit_width=0.22,\n",
    "                                  slit_pa=pa, inst_corr=inst_corr)\n",
    "\n",
    "# Add data to Galaxy object:\n",
    "gal.data = data1d"
   ]
  },
  {
   "cell_type": "markdown",
   "metadata": {},
   "source": [
    "### MCMC fitting parameters ###"
   ]
  },
  {
   "cell_type": "markdown",
   "metadata": {},
   "source": [
    "Set parameters for fitting: \n",
    "   - Passing options to `emcee`\n",
    "   - Other calculation options"
   ]
  },
  {
   "cell_type": "code",
   "execution_count": 17,
   "metadata": {
    "collapsed": true
   },
   "outputs": [],
   "source": [
    "# Options passed to emcee\n",
    "nwalkers = 500\n",
    "ncpus = 4\n",
    "scale_param_a = 2\n",
    "nburn = 50\n",
    "nsteps = 50\n",
    "minaf = None\n",
    "maxaf = None\n",
    "neff = 10\n",
    "\n",
    "# Other options\n",
    "do_plotting = True       # Plot bestfit, corner, trace or not\n",
    "oversample = 1           # Factor by which to oversample model (eg, subpixels)\n",
    "fitdispersion = True     # Fit dispersion profile in addition to velocity\n",
    "red_chisq = True         # Use reduced chisq as loglikelihood, instead of chisq"
   ]
  },
  {
   "cell_type": "markdown",
   "metadata": {},
   "source": [
    "-------"
   ]
  },
  {
   "cell_type": "markdown",
   "metadata": {},
   "source": [
    "## Run `Dysmalpy` fitting ##"
   ]
  },
  {
   "cell_type": "code",
   "execution_count": 18,
   "metadata": {
    "collapsed": false
   },
   "outputs": [
    {
     "name": "stderr",
     "output_type": "stream",
     "text": [
      "INFO:DysmalPy:*************************************\n",
      "INFO:DysmalPy: Fitting: GS4_43501\n",
      "INFO:DysmalPy:\n",
      "  nCPUs: 4\n",
      "INFO:DysmalPy:\n",
      "Burn-in:\n",
      "Start: 2018-10-02 10:35:07.695382\n",
      "\n",
      "INFO:DysmalPy: k=0, time.time=2018-10-02 10:35:07.696012, a_frac=nan\n",
      "INFO:DysmalPy: k=1, time.time=2018-10-02 10:37:43.723845, a_frac=0.412\n",
      "INFO:DysmalPy: k=2, time.time=2018-10-02 10:38:51.989548, a_frac=0.413\n",
      "INFO:DysmalPy: k=3, time.time=2018-10-02 10:40:03.564985, a_frac=0.401333333333\n",
      "INFO:DysmalPy: k=4, time.time=2018-10-02 10:41:15.550635, a_frac=0.401\n",
      "INFO:DysmalPy: k=5, time.time=2018-10-02 10:42:27.386590, a_frac=0.4008\n",
      "INFO:DysmalPy: k=6, time.time=2018-10-02 10:43:43.822531, a_frac=0.405333333333\n",
      "INFO:DysmalPy: k=7, time.time=2018-10-02 10:44:58.942953, a_frac=0.404285714286\n",
      "INFO:DysmalPy: k=8, time.time=2018-10-02 10:46:17.506819, a_frac=0.406\n",
      "INFO:DysmalPy: k=9, time.time=2018-10-02 10:47:46.017210, a_frac=0.407333333333\n",
      "INFO:DysmalPy: k=10, time.time=2018-10-02 10:49:16.813875, a_frac=0.4094\n",
      "INFO:DysmalPy: k=11, time.time=2018-10-02 10:50:46.620191, a_frac=0.413818181818\n",
      "INFO:DysmalPy: k=12, time.time=2018-10-02 10:52:06.013485, a_frac=0.413\n",
      "INFO:DysmalPy: k=13, time.time=2018-10-02 10:53:37.660396, a_frac=0.413846153846\n",
      "INFO:DysmalPy: k=14, time.time=2018-10-02 10:55:16.926756, a_frac=0.415857142857\n",
      "INFO:DysmalPy: k=15, time.time=2018-10-02 10:56:44.057475, a_frac=0.420266666667\n",
      "INFO:DysmalPy: k=16, time.time=2018-10-02 10:58:14.040209, a_frac=0.42575\n",
      "INFO:DysmalPy: k=17, time.time=2018-10-02 10:59:49.138300, a_frac=0.430235294118\n",
      "INFO:DysmalPy: k=18, time.time=2018-10-02 11:01:13.513978, a_frac=0.433555555556\n",
      "INFO:DysmalPy: k=19, time.time=2018-10-02 11:02:38.633821, a_frac=0.438947368421\n",
      "INFO:DysmalPy: k=20, time.time=2018-10-02 11:04:09.024121, a_frac=0.4416\n",
      "INFO:DysmalPy: k=21, time.time=2018-10-02 11:05:36.923277, a_frac=0.444857142857\n",
      "INFO:DysmalPy: k=22, time.time=2018-10-02 11:07:03.637427, a_frac=0.449272727273\n",
      "INFO:DysmalPy: k=23, time.time=2018-10-02 11:08:34.316475, a_frac=0.453304347826\n",
      "INFO:DysmalPy: k=24, time.time=2018-10-02 11:10:05.600503, a_frac=0.456833333333\n",
      "INFO:DysmalPy: k=25, time.time=2018-10-02 11:12:06.181704, a_frac=0.46032\n",
      "INFO:DysmalPy: k=26, time.time=2018-10-02 11:13:30.712530, a_frac=0.463846153846\n",
      "INFO:DysmalPy: k=27, time.time=2018-10-02 11:14:59.434373, a_frac=0.467185185185\n",
      "INFO:DysmalPy: k=28, time.time=2018-10-02 11:16:16.968019, a_frac=0.469214285714\n",
      "INFO:DysmalPy: k=29, time.time=2018-10-02 11:17:43.998539, a_frac=0.472275862069\n",
      "INFO:DysmalPy: k=30, time.time=2018-10-02 11:19:05.201021, a_frac=0.474733333333\n",
      "INFO:DysmalPy: k=31, time.time=2018-10-02 11:20:25.535584, a_frac=0.477935483871\n",
      "INFO:DysmalPy: k=32, time.time=2018-10-02 11:21:44.348061, a_frac=0.48075\n",
      "INFO:DysmalPy: k=33, time.time=2018-10-02 11:23:08.214319, a_frac=0.484363636364\n",
      "INFO:DysmalPy: k=34, time.time=2018-10-02 11:24:23.491007, a_frac=0.487823529412\n",
      "INFO:DysmalPy: k=35, time.time=2018-10-02 11:25:33.110689, a_frac=0.490857142857\n",
      "INFO:DysmalPy: k=36, time.time=2018-10-02 11:26:45.384523, a_frac=0.493722222222\n",
      "INFO:DysmalPy: k=37, time.time=2018-10-02 11:27:57.720972, a_frac=0.495513513514\n",
      "INFO:DysmalPy: k=38, time.time=2018-10-02 11:29:14.792440, a_frac=0.496631578947\n",
      "INFO:DysmalPy: k=39, time.time=2018-10-02 11:30:27.835078, a_frac=0.499025641026\n",
      "INFO:DysmalPy: k=40, time.time=2018-10-02 11:31:40.867211, a_frac=0.50165\n",
      "INFO:DysmalPy: k=41, time.time=2018-10-02 11:32:54.122562, a_frac=0.503512195122\n",
      "INFO:DysmalPy: k=42, time.time=2018-10-02 11:34:05.644917, a_frac=0.506619047619\n",
      "INFO:DysmalPy: k=43, time.time=2018-10-02 11:35:16.842866, a_frac=0.508093023256\n",
      "INFO:DysmalPy: k=44, time.time=2018-10-02 11:36:29.560812, a_frac=0.509863636364\n",
      "INFO:DysmalPy: k=45, time.time=2018-10-02 11:37:41.106672, a_frac=0.511688888889\n",
      "INFO:DysmalPy: k=46, time.time=2018-10-02 11:38:50.499698, a_frac=0.51347826087\n",
      "INFO:DysmalPy: k=47, time.time=2018-10-02 11:40:08.928260, a_frac=0.514638297872\n",
      "INFO:DysmalPy: k=48, time.time=2018-10-02 11:41:19.065480, a_frac=0.516166666667\n",
      "INFO:DysmalPy: k=49, time.time=2018-10-02 11:42:27.654950, a_frac=0.518204081633\n",
      "INFO:DysmalPy:\n",
      "End: 2018-10-02 11:43:36.097133\n",
      "\n",
      "******************\n",
      "nCPU, nParam, nWalker, nBurn = 4, 3, 500, 50\n",
      "Scale param a= 2\n",
      "Time= 4108.40 (sec),  68:28.40 (m:s)\n",
      "Mean acceptance fraction: 0.519\n",
      "Ideal acceptance frac: 0.2 - 0.5\n",
      "Autocorr est: [3.3583928673078973, 4.2767699339172776, 3.8189568811847825]\n",
      "******************\n",
      "INFO:DysmalPy:\n",
      "Ensemble sampling:\n",
      "Start: 2018-10-02 11:43:40.920065\n",
      "\n",
      "INFO:DysmalPy:ii=0, a_frac=0.596 time.time()=2018-10-02 11:45:01.235265\n",
      "INFO:DysmalPy: 0: Chain too short for acor to run\n",
      "INFO:DysmalPy:ii=1, a_frac=0.593 time.time()=2018-10-02 11:46:20.947097\n",
      "INFO:DysmalPy: 1: Chain too short for acor to run\n",
      "INFO:DysmalPy:ii=2, a_frac=0.590666666667 time.time()=2018-10-02 11:47:26.100793\n",
      "INFO:DysmalPy: 2: Chain too short for acor to run\n",
      "INFO:DysmalPy:ii=3, a_frac=0.586 time.time()=2018-10-02 11:48:34.845083\n",
      "INFO:DysmalPy: 3: Chain too short for acor to run\n",
      "INFO:DysmalPy:ii=4, a_frac=0.592 time.time()=2018-10-02 11:49:48.700943\n",
      "INFO:DysmalPy: 4: Chain too short for acor to run\n",
      "INFO:DysmalPy:ii=5, a_frac=0.592 time.time()=2018-10-02 11:50:59.900707\n",
      "INFO:DysmalPy: 5: Chain too short for acor to run\n",
      "INFO:DysmalPy:ii=6, a_frac=0.597142857143 time.time()=2018-10-02 11:52:13.779568\n",
      "INFO:DysmalPy: 6: Chain too short for acor to run\n",
      "INFO:DysmalPy:ii=7, a_frac=0.595 time.time()=2018-10-02 11:53:39.438100\n",
      "INFO:DysmalPy: 7: Chain too short for acor to run\n",
      "INFO:DysmalPy:ii=8, a_frac=0.593333333333 time.time()=2018-10-02 11:55:06.852923\n",
      "INFO:DysmalPy: 8: Chain too short for acor to run\n",
      "INFO:DysmalPy:ii=9, a_frac=0.5932 time.time()=2018-10-02 11:56:20.037452\n",
      "INFO:DysmalPy: 9: Chain too short for acor to run\n",
      "INFO:DysmalPy:ii=10, a_frac=0.594545454545 time.time()=2018-10-02 11:57:57.348657\n",
      "INFO:DysmalPy: 10: Chain too short for acor to run\n",
      "INFO:DysmalPy:ii=11, a_frac=0.592833333333 time.time()=2018-10-02 11:59:16.149445\n",
      "INFO:DysmalPy: 11: Chain too short for acor to run\n",
      "INFO:DysmalPy:ii=12, a_frac=0.588615384615 time.time()=2018-10-02 12:00:28.114047\n",
      "INFO:DysmalPy: 12: Chain too short for acor to run\n",
      "INFO:DysmalPy:ii=13, a_frac=0.587857142857 time.time()=2018-10-02 12:02:01.052309\n",
      "INFO:DysmalPy: 13: Chain too short for acor to run\n",
      "INFO:DysmalPy:ii=14, a_frac=0.589066666667 time.time()=2018-10-02 12:03:39.291198\n",
      "INFO:DysmalPy: 14: Chain too short for acor to run\n",
      "INFO:DysmalPy:ii=15, a_frac=0.59075 time.time()=2018-10-02 12:04:54.699660\n",
      "INFO:DysmalPy: 15: Chain too short for acor to run\n",
      "INFO:DysmalPy:ii=16, a_frac=0.590823529412 time.time()=2018-10-02 12:06:10.623712\n",
      "INFO:DysmalPy: 16: Chain too short for acor to run\n",
      "INFO:DysmalPy:ii=17, a_frac=0.588222222222 time.time()=2018-10-02 12:07:40.587710\n",
      "INFO:DysmalPy: 17: Chain too short for acor to run\n",
      "INFO:DysmalPy:ii=18, a_frac=0.587578947368 time.time()=2018-10-02 12:09:05.557929\n",
      "INFO:DysmalPy: 18: Chain too short for acor to run\n",
      "INFO:DysmalPy:ii=19, a_frac=0.5859 time.time()=2018-10-02 12:10:19.278338\n",
      "INFO:DysmalPy: 19: Chain too short for acor to run\n",
      "INFO:DysmalPy:ii=20, a_frac=0.585428571429 time.time()=2018-10-02 12:11:33.645571\n",
      "INFO:DysmalPy: 20: Chain too short for acor to run\n",
      "INFO:DysmalPy:ii=21, a_frac=0.584090909091 time.time()=2018-10-02 12:12:53.195926\n",
      "INFO:DysmalPy: 21: Chain too short for acor to run\n",
      "INFO:DysmalPy:ii=22, a_frac=0.583043478261 time.time()=2018-10-02 12:14:01.074835\n",
      "INFO:DysmalPy: 22: Chain too short for acor to run\n",
      "INFO:DysmalPy:ii=23, a_frac=0.582166666667 time.time()=2018-10-02 12:15:13.231696\n",
      "INFO:DysmalPy: 23: Chain too short for acor to run\n",
      "INFO:DysmalPy:ii=24, a_frac=0.58328 time.time()=2018-10-02 12:17:12.238124\n",
      "INFO:DysmalPy: 24: Chain too short for acor to run\n",
      "INFO:DysmalPy:ii=25, a_frac=0.583153846154 time.time()=2018-10-02 12:19:32.197629\n",
      "INFO:DysmalPy: 25: Chain too short for acor to run\n",
      "INFO:DysmalPy:ii=26, a_frac=0.582518518519 time.time()=2018-10-02 12:20:53.995950\n",
      "INFO:DysmalPy: 26: Chain too short for acor to run\n",
      "INFO:DysmalPy:ii=27, a_frac=0.582071428571 time.time()=2018-10-02 12:22:33.043740\n",
      "INFO:DysmalPy: 27: Chain too short for acor to run\n",
      "INFO:DysmalPy:ii=28, a_frac=0.580965517241 time.time()=2018-10-02 12:24:15.872041\n",
      "INFO:DysmalPy: 28: Chain too short for acor to run\n",
      "INFO:DysmalPy:ii=29, a_frac=0.580133333333 time.time()=2018-10-02 12:25:58.211752\n",
      "INFO:DysmalPy: 29: Chain too short for acor to run\n",
      "INFO:DysmalPy:ii=30, a_frac=0.580580645161 time.time()=2018-10-02 12:27:37.978438\n",
      "INFO:DysmalPy: 30: Chain too short for acor to run\n",
      "INFO:DysmalPy:ii=31, a_frac=0.5806875 time.time()=2018-10-02 12:29:20.923815\n",
      "INFO:DysmalPy: 31: Chain too short for acor to run\n",
      "INFO:DysmalPy:ii=32, a_frac=0.580666666667 time.time()=2018-10-02 12:30:51.739259\n",
      "INFO:DysmalPy: 32: Chain too short for acor to run\n",
      "INFO:DysmalPy:ii=33, a_frac=0.580411764706 time.time()=2018-10-02 12:32:09.752445\n",
      "INFO:DysmalPy: 33: Chain too short for acor to run\n",
      "INFO:DysmalPy:ii=34, a_frac=0.581714285714 time.time()=2018-10-02 12:33:28.580892\n",
      "INFO:DysmalPy: 34: Chain too short for acor to run\n",
      "INFO:DysmalPy:ii=35, a_frac=0.581833333333 time.time()=2018-10-02 12:34:35.282045\n",
      "INFO:DysmalPy: 35: Chain too short for acor to run\n",
      "INFO:DysmalPy:ii=36, a_frac=0.582216216216 time.time()=2018-10-02 12:35:41.777554\n",
      "INFO:DysmalPy: 36: Chain too short for acor to run\n",
      "INFO:DysmalPy:ii=37, a_frac=0.582315789474 time.time()=2018-10-02 12:36:47.593160\n",
      "INFO:DysmalPy: 37: Chain too short for acor to run\n",
      "INFO:DysmalPy:ii=38, a_frac=0.582717948718 time.time()=2018-10-02 12:37:53.063076\n",
      "INFO:DysmalPy: 38: Chain too short for acor to run\n",
      "INFO:DysmalPy:ii=39, a_frac=0.5831 time.time()=2018-10-02 12:39:01.215720\n",
      "INFO:DysmalPy: 39: Chain too short for acor to run\n",
      "INFO:DysmalPy:ii=40, a_frac=0.582975609756 time.time()=2018-10-02 12:40:05.136303\n",
      "INFO:DysmalPy: 40: Chain too short for acor to run\n",
      "INFO:DysmalPy:ii=41, a_frac=0.582047619048 time.time()=2018-10-02 12:41:07.845989\n",
      "INFO:DysmalPy: 41: Chain too short for acor to run\n",
      "INFO:DysmalPy:ii=42, a_frac=0.582279069767 time.time()=2018-10-02 12:42:14.239935\n",
      "INFO:DysmalPy: 42: Chain too short for acor to run\n",
      "INFO:DysmalPy:ii=43, a_frac=0.582727272727 time.time()=2018-10-02 12:43:23.568680\n",
      "INFO:DysmalPy: 43: Chain too short for acor to run\n",
      "INFO:DysmalPy:ii=44, a_frac=0.582222222222 time.time()=2018-10-02 12:44:27.839807\n",
      "INFO:DysmalPy: 44: Chain too short for acor to run\n",
      "INFO:DysmalPy:ii=45, a_frac=0.582 time.time()=2018-10-02 12:45:33.063210\n",
      "INFO:DysmalPy: 45: Chain too short for acor to run\n",
      "INFO:DysmalPy:ii=46, a_frac=0.581872340426 time.time()=2018-10-02 12:46:40.266869\n",
      "INFO:DysmalPy: 46: Chain too short for acor to run\n",
      "INFO:DysmalPy:ii=47, a_frac=0.581125 time.time()=2018-10-02 12:47:44.920588\n",
      "INFO:DysmalPy: 47: Chain too short for acor to run\n",
      "INFO:DysmalPy:ii=48, a_frac=0.580204081633 time.time()=2018-10-02 12:48:51.001508\n",
      "INFO:DysmalPy: 48: Chain too short for acor to run\n",
      "INFO:DysmalPy:ii=49, a_frac=0.58076 time.time()=2018-10-02 12:49:57.928959\n",
      "INFO:DysmalPy:49: acor_time =[ 3.98418797  3.81522508  2.85683094]\n",
      "INFO:DysmalPy:Finished 50 steps\n",
      "\n",
      "INFO:DysmalPy:\n",
      "End: 2018-10-02 12:49:57.947384\n",
      "\n",
      "******************\n",
      "nCPU, nParam, nWalker, nSteps = 4, 3, 500, 50\n",
      "Scale param a= 2\n",
      "Time= 3977.02 (sec),  66:17.02 (m:s)\n",
      "Mean acceptance fraction: 0.581\n",
      "Ideal acceptance frac: 0.2 - 0.5\n",
      "Autocorr est: [3.98418796736833, 3.8152250779200383, 2.856830941900356]\n",
      "******************\n"
     ]
    }
   ],
   "source": [
    "mcmc_results = fitting.fit(gal, nWalkers=nwalkers, nCPUs=ncpus,\n",
    "                               scale_param_a=scale_param_a, nBurn=nburn,\n",
    "                               nSteps=nsteps, minAF=minaf, maxAF=maxaf,\n",
    "                               nEff=neff, do_plotting=do_plotting,\n",
    "                               oversample=oversample, out_dir=out_dir,\n",
    "                               fitdispersion=fitdispersion,\n",
    "                               red_chisq=red_chisq)"
   ]
  },
  {
   "cell_type": "markdown",
   "metadata": {},
   "source": [
    "------"
   ]
  },
  {
   "cell_type": "markdown",
   "metadata": {},
   "source": [
    "## Examine MCMC results ##"
   ]
  },
  {
   "cell_type": "code",
   "execution_count": 19,
   "metadata": {
    "collapsed": false
   },
   "outputs": [
    {
     "data": {
      "text/html": [
       "\n",
       "        <iframe\n",
       "            width=\"600\"\n",
       "            height=\"400\"\n",
       "            src=\"./output_1D/mcmc_trace.pdf\"\n",
       "            frameborder=\"0\"\n",
       "            allowfullscreen\n",
       "        ></iframe>\n",
       "        "
      ],
      "text/plain": [
       "<IPython.lib.display.IFrame at 0x1156a8690>"
      ]
     },
     "execution_count": 19,
     "metadata": {},
     "output_type": "execute_result"
    }
   ],
   "source": [
    "# Look at trace:\n",
    "filepath = out_dir+\"mcmc_trace.pdf\"\n",
    "IFrame(filepath, width=600, height=400)"
   ]
  },
  {
   "cell_type": "code",
   "execution_count": 20,
   "metadata": {
    "collapsed": false
   },
   "outputs": [
    {
     "data": {
      "text/html": [
       "\n",
       "        <iframe\n",
       "            width=\"600\"\n",
       "            height=\"570\"\n",
       "            src=\"./output_1D/mcmc_best_fit.pdf\"\n",
       "            frameborder=\"0\"\n",
       "            allowfullscreen\n",
       "        ></iframe>\n",
       "        "
      ],
      "text/plain": [
       "<IPython.lib.display.IFrame at 0x1156f1ed0>"
      ]
     },
     "execution_count": 20,
     "metadata": {},
     "output_type": "execute_result"
    }
   ],
   "source": [
    "# Look at best-fit:\n",
    "filepath = out_dir+\"mcmc_best_fit.pdf\"\n",
    "IFrame(filepath, width=600, height=570)"
   ]
  },
  {
   "cell_type": "code",
   "execution_count": 21,
   "metadata": {
    "collapsed": false
   },
   "outputs": [
    {
     "data": {
      "text/html": [
       "\n",
       "        <iframe\n",
       "            width=\"570\"\n",
       "            height=\"620\"\n",
       "            src=\"./output_1D/mcmc_param_corner.pdf\"\n",
       "            frameborder=\"0\"\n",
       "            allowfullscreen\n",
       "        ></iframe>\n",
       "        "
      ],
      "text/plain": [
       "<IPython.lib.display.IFrame at 0x1156a8790>"
      ]
     },
     "execution_count": 21,
     "metadata": {},
     "output_type": "execute_result"
    }
   ],
   "source": [
    "# Look at corner:\n",
    "filepath = out_dir+\"mcmc_param_corner.pdf\"\n",
    "IFrame(filepath, width=570, height=620)"
   ]
  },
  {
   "cell_type": "markdown",
   "metadata": {},
   "source": [
    "---------"
   ]
  },
  {
   "cell_type": "markdown",
   "metadata": {},
   "source": [
    "## Reload data ##"
   ]
  },
  {
   "cell_type": "markdown",
   "metadata": {},
   "source": [
    "Helpful for:\n",
    "  - replotting\n",
    "  - reanalyzing chain (eg, jointly constraining some posteriors)\n",
    "  - ..."
   ]
  },
  {
   "cell_type": "code",
   "execution_count": 22,
   "metadata": {
    "collapsed": true
   },
   "outputs": [],
   "source": [
    "# For compatibility with Python 2.7:\n",
    "mod_in = copy.deepcopy(gal.model)\n",
    "gal.model = mod_in\n",
    "    \n",
    "# Initialize a basic dummy results class\n",
    "mcmc_results = fitting.MCMCResults(model=gal.model)\n",
    "\n",
    "# Set what the names are for reloading: using default names\n",
    "fsampler = out_dir+'mcmc_sampler.pickle'\n",
    "fresults = out_dir+'mcmc_results.pickle'\n",
    "\n",
    "mcmc_results.reload_mcmc_results(filename=fresults)\n",
    "mcmc_results.reload_sampler(filename=fsampler)"
   ]
  },
  {
   "cell_type": "markdown",
   "metadata": {},
   "source": [
    "----------"
   ]
  }
 ],
 "metadata": {
  "kernelspec": {
   "display_name": "Python 2",
   "language": "python",
   "name": "python2"
  },
  "language_info": {
   "codemirror_mode": {
    "name": "ipython",
    "version": 2
   },
   "file_extension": ".py",
   "mimetype": "text/x-python",
   "name": "python",
   "nbconvert_exporter": "python",
   "pygments_lexer": "ipython2",
   "version": "2.7.11"
  }
 },
 "nbformat": 4,
 "nbformat_minor": 0
}
