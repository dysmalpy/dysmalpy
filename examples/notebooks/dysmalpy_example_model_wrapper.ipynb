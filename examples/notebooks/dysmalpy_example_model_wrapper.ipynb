{
 "cells": [
  {
   "cell_type": "markdown",
   "metadata": {
    "collapsed": true
   },
   "source": [
    "# Example `Dysmalpy` model generation, using wrapper #\n",
    "\n",
    "**Includes the following components:**\n",
    "\n",
    " - Disk + Bulge\n",
    " - NFW halo\n",
    " - Constant velocity dispersion"
   ]
  },
  {
   "cell_type": "markdown",
   "metadata": {},
   "source": [
    "## Setup steps ##\n",
    "\n",
    "**Import modules**"
   ]
  },
  {
   "cell_type": "code",
   "execution_count": 1,
   "metadata": {},
   "outputs": [],
   "source": [
    "from __future__ import (absolute_import, division, print_function, unicode_literals)\n",
    "\n",
    "from dysmalpy.fitting_wrappers import dysmalpy_make_model, utils_io\n",
    "from dysmalpy import plotting"
   ]
  },
  {
   "cell_type": "markdown",
   "metadata": {},
   "source": [
    "\n",
    "**Setup notebook**"
   ]
  },
  {
   "cell_type": "code",
   "execution_count": 2,
   "metadata": {},
   "outputs": [],
   "source": [
    "# Setup plotting\n",
    "import matplotlib as mpl\n",
    "import matplotlib.pyplot as plt\n",
    "%matplotlib inline\n",
    "\n",
    "mpl.rcParams['figure.dpi']= 300\n",
    "mpl.rc(\"savefig\", dpi=300)"
   ]
  },
  {
   "cell_type": "markdown",
   "metadata": {},
   "source": [
    "\n",
    "**Set output path**\n",
    "\n",
    "- Note this will override the `outdir` specified in the param file. \n",
    "\n",
    "    *(This is useful for the example here. When running from command line, it's recommended to properly set the directories in the param file.)*"
   ]
  },
  {
   "cell_type": "code",
   "execution_count": 3,
   "metadata": {},
   "outputs": [],
   "source": [
    "# Where to save output files\n",
    "outdir = '/Users/sedona/data/dysmalpy_test_examples/JUPYTER_OUTPUT_MODEL_WRAPPER/'\n",
    "\n",
    "param_filename = '/Users/sedona/data/dysmalpy_test_examples/make_model_3Dcube.params'"
   ]
  },
  {
   "cell_type": "markdown",
   "metadata": {},
   "source": [
    "-------------------"
   ]
  },
  {
   "cell_type": "markdown",
   "metadata": {},
   "source": [
    "**Settings in parameter file:**"
   ]
  },
  {
   "cell_type": "code",
   "execution_count": 4,
   "metadata": {},
   "outputs": [
    {
     "name": "stdout",
     "output_type": "stream",
     "text": [
      "# Example parameters file for fitting a single object with 1D data\n",
      "# Note: DO NOT CHANGE THE NAMES IN THE 1ST COLUMN AND KEEP THE COMMAS!!\n",
      "# See README for a description of each parameter and its available options.\n",
      "\n",
      "# ******************************* OBJECT INFO **********************************\n",
      "galID,    GS4_43501    # Name of your object\n",
      "z,        1.613        # Redshift\n",
      "\n",
      "\n",
      "## GALAXY CENTER:\n",
      "# IMPORTANT: 0 indexed, so coordinates go from [0, nX-1] and [0, nY-1].\n",
      "# So if using QFitsView, will need to subtract 1 from both coords (as QFitsView goes from [1,nX] and [1,nY])\n",
      "xcenter,              None                       # Center position in cube, x coord. Default: (nX-1)/2.\n",
      "ycenter,              None                       # Center position in cube, y coord. Default: (nY-1)/2.\n",
      "\n",
      "\n",
      "# ***************************** OUTPUT *****************************************\n",
      "outdir,           GS4_43501_3D_model_cube/         # Full path for output directory\n",
      "\n",
      "\n",
      "# ***************************** OBSERVATION SETUP ******************************\n",
      "\n",
      "# Instrument Setup\n",
      "# ------------------\n",
      "pixscale,         0.125        # Pixel scale in arcsec/pixel\n",
      "fov_npix,         37           # Number of pixels on a side of model cube\n",
      "spec_type,   velocity          # DON'T CHANGE!\n",
      "spec_start,     -1000.         # Starting value for spectral axis       // generally don't change\n",
      "spec_step,         10.         # Step size for spectral axis in km/s    // generally don't change\n",
      "nspec,            201          # Number of spectral steps               // generally don't change\n",
      "\n",
      "# LSF Setup\n",
      "# ---------\n",
      "use_lsf,          True         # True/False if using an LSF\n",
      "sig_inst_res,     51.0         # Instrumental dispersion in km/s\n",
      "\n",
      "\n",
      "# PSF Setup\n",
      "# ---------\n",
      "psf_type,         Gaussian     # Gaussian, Moffat, or DoubleGaussian\n",
      "psf_fwhm,         0.55         # PSF FWHM in arcsecs\n",
      "psf_beta,         -99.         # Beta parameter for a Moffat PSF\n",
      "\n",
      "# ## ELLIPTICAL PSF:\n",
      "# psf_type,         Gaussian     # Gaussian, Moffat, or DoubleGaussian\n",
      "# psf_fwhm_major,   0.55         # PSF major axis FWHM in arcsecs\n",
      "# psf_fwhm_minor,   0.25         # PSF minor axis FWHM in arcsecs\n",
      "# psf_PA,           0.           # PA of PSF major axis, in deg E of N. (0=N, 90=E)\n",
      "# psf_beta,         -99.         # Beta parameter for a Moffat PSF\n",
      "\n",
      "# # DoubleGaussian:  settings instead of psf_fwhm\n",
      "# psf_type,         DoubleGaussian\n",
      "# psf_fwhm1,        0.16         # FWHM of PSF component 1, in arcsecs. SINFONI AO: 0.16\n",
      "# psf_fwhm2,        0.48         # FWHM of PSF component 1, in arcsecs. SINFONI AO: 0.48\n",
      "# psf_scale1,       0.368        # Flux scaling (*not* peak height) of component 1. SINFONI AO: 0.368\n",
      "# psf_scale2,       0.632        # Flux scaling (*not* peak height) of component 2. SINFONI AO: 0.632\n",
      "\n",
      "\n",
      "# **************************** SETUP MODEL *************************************\n",
      "\n",
      "# Model Settings\n",
      "# -------------\n",
      "# List of components to use:  SEPARATE WITH SPACES\n",
      "## MUST always keep:            geometry   zheight_gaus\n",
      "## RECOMMENDED:   always keep:   disk+bulge   const_disp_prof\n",
      "\n",
      "components_list,         disk+bulge   const_disp_prof   geometry   zheight_gaus  halo\n",
      "\n",
      "# possible options:\n",
      "#       disk+bulge, sersic, blackhole\n",
      "#       const_disp_prof,   geometry,   zheight_gaus,  halo,\n",
      "#       radial_flow, uniform_planar_radial_flow, uniform_bar_flow, uniform_wedge_flow,\n",
      "#       unresolved_outflow\n",
      "\n",
      "# List of components that emit light. SEPARATE WITH SPACES\n",
      "##   Current options: disk+bulge / bulge / disk [corresponding to the mass disk+bulge component],\n",
      "##              also:    light_sersic, light_gaussian_ring\n",
      "\n",
      "light_components_list,   disk\n",
      "\n",
      "# NOTE: if a separate light profile (eg light_sersic) is used,\n",
      "#       this MUST be changed to  e.g., 'light_components_list,   light_sersic'\n",
      "\n",
      "# Other kinematic / model settings:\n",
      "adiabatic_contract,  False     # Apply adiabatic contraction?\n",
      "pressure_support,    True      # Apply assymmetric drift correction?\n",
      "noord_flat,          True      # Apply Noordermeer flattenning?\n",
      "oversample,          3         # Spatial oversample factor\n",
      "oversize,            1         # Oversize factor\n",
      "\n",
      "zcalc_truncate,      True      # Truncate in zgal direction when calculating or not\n",
      "n_wholepix_z_min,    3         # Minimum number of whole pixels in zgal dir, if zcalc_truncate=True\n",
      "\n",
      "\n",
      "# ********************************************************************************\n",
      "# DISK + BULGE\n",
      "# ------------\n",
      "\n",
      "# Initial Values\n",
      "total_mass,           11.0     # Total mass of disk and bulge log(Msun)\n",
      "bt,                   0.3     # Bulge-to-Total Ratio\n",
      "r_eff_disk,           5.0     # Effective radius of disk in kpc\n",
      "n_disk,               1.0      # Sersic index for disk\n",
      "invq_disk,            5.0      # disk scale length to zheight ratio for disk\n",
      "\n",
      "n_bulge,              4.0      # Sersic index for bulge\n",
      "invq_bulge,           1.0      # disk scale length to zheight ratio for bulge\n",
      "r_eff_bulge,          1.0      # Effective radius of bulge in kpc\n",
      "\n",
      "\n",
      "\n",
      "# # ********************************************************************************\n",
      "# # BLACK HOLE\n",
      "# # ------------\n",
      "#\n",
      "# # Initial Values\n",
      "# BH_mass,             11.     # log(Msun)\n",
      "\n",
      "\n",
      "\n",
      "# # ********************************************************************************\n",
      "# # Separate light profile: (Truncated) Sersic profile\n",
      "# # ------------\n",
      "# # Initial values\n",
      "# L_tot_sersic,        1.     # arbitrary units\n",
      "# lr_eff,              4.     # kpc\n",
      "# lsersic_n,           1.     # Sersic index of light profile\n",
      "# lsersic_rinner,      0.     # [kpc] Inner truncation radius of sersic profile. 0   = no truncation\n",
      "# lsersic_router,     inf     # [kpc] Outer truncation radius of sersic profile. inf = no truncation\n",
      "\n",
      "\n",
      "# # ********************************************************************************\n",
      "# # Separate light profile: Gaussian ring\n",
      "# # ------------\n",
      "# # Initial values\n",
      "# L_tot_gaus_ring,     1.      # arbitrary units\n",
      "# r_peak_gaus_ring,    6.      # kpc\n",
      "# sigma_r_gaus_ring,   1.      # kpc\n",
      "\n",
      "\n",
      "# ********************************************************************************\n",
      "# ********************************************************************************\n",
      "# ********************************************************************************\n",
      "# DARK MATTER HALO\n",
      "# ----------------\n",
      "\n",
      "# Halo type: options: NFW / twopowerhalo / burkert / einasto / dekelzhao\n",
      "halo_profile_type,   NFW\n",
      "\n",
      "# ** NOTE **: Uncomment the section below corresponding to the selected halo type.\n",
      "\n",
      "# ********************************************************************************\n",
      "#    NFW halo\n",
      "\n",
      "# Initial Values\n",
      "mvirial,             -99        # Halo virial mass in log(Msun)\n",
      "halo_conc,           5.0        # Halo concentration parameter\n",
      "fdm,                 0.1        # Dark matter fraction at r_eff_disk\n",
      "\n",
      "# Tie the parameters?\n",
      "mvirial_tied,        True       # for NFW, mvirial_tied=True determines Mvirial from (+baryons)\n",
      "fdm_tied,            False      # for NFW, fdm_tied=True determines fDM from Mvirial (+baryons)\n",
      "# ********************************************************************************\n",
      "\n",
      "# # ********************************************************************************\n",
      "# #    Two-power halo\n",
      "#\n",
      "# # Initial Values\n",
      "# mvirial,             11.5       # Halo virial mass in log(Msun)\n",
      "# halo_conc,           5.0        # Halo concentration parameter\n",
      "# fdm,                 0.5        # Dark matter fraction at r_eff_disk\n",
      "# alpha,               1.         # TPH: inner slope. NFW has alpha=1\n",
      "# beta,                3.         # TPH: outer slope. NFW has beta=3\n",
      "#\n",
      "# # Tie the parameters?\n",
      "# fdm_tied,       True      # for non-NFW, fdm_tied=True determines fDM from other halo params (+baryons)\n",
      "#\n",
      "# # ********************************************************************************\n",
      "\n",
      "# # ********************************************************************************\n",
      "# #    Burkert halo\n",
      "#\n",
      "# # Initial Values\n",
      "# mvirial,             11.5       # Halo virial mass in log(Msun)\n",
      "# halo_conc,           5.0        # Halo concentration parameter\n",
      "# fdm,                 0.5        # Dark matter fraction at r_eff_disk\n",
      "# rB,                  10.        # Burkert: Halo core radius, in kpc\n",
      "#\n",
      "# # Tie the parameters?\n",
      "# fdm_tied,       True      # for non-NFW, fdm_tied=True determines fDM from other halo params (+baryons)\n",
      "#\n",
      "# # ********************************************************************************\n",
      "\n",
      "# # ********************************************************************************\n",
      "# #    Einasto halo\n",
      "# # Initial Values\n",
      "# mvirial,             11.5       # Halo virial mass in log(Msun)\n",
      "# halo_conc,           5.0        # Halo concentration parameter\n",
      "# fdm,                 0.5        # Dark matter fraction at r_eff_disk\n",
      "# alphaEinasto,        1.         # Einasto: Halo profile index\n",
      "#\n",
      "# # Tie the parameters?\n",
      "# fdm_tied,           True      # for non-NFW, fdm_tied=True determines fDM from other halo params (+baryons)\n",
      "#\n",
      "# # ********************************************************************************\n",
      "\n",
      "\n",
      "# # ********************************************************************************\n",
      "# #    Dekel-Zhao halo\n",
      "# # Initial Values\n",
      "# mvirial,             12.0       # Halo virial mass in log(Msun)\n",
      "# s1,                  1.5        # Inner logarithmic slope (at resolution r1=0.01*Rvir)\n",
      "# c2,                  25.0       # Concentration parameter (defined relative to c, a)\n",
      "# fdm,                 0.5        # Dark matter fraction at r_eff_disk\n",
      "#\n",
      "# # Tie the parameters?\n",
      "# fdm_tied,           True     # for non-NFW, fdm_tied=True determines fDM from other halo params (+baryons)\n",
      "#\n",
      "# # ********************************************************************************\n",
      "\n",
      "\n",
      "# ********************************************************************************\n",
      "# INTRINSIC DISPERSION PROFILE\n",
      "# ----------------------------\n",
      "\n",
      "# Initial Values\n",
      "sigma0,              39.0      # Constant intrinsic dispersion value\n",
      "\n",
      "\n",
      "\n",
      "# ********************************************************************************\n",
      "# ZHEIGHT PROFILE\n",
      "# ---------------\n",
      "\n",
      "# Initial Values\n",
      "sigmaz,              0.9      # Gaussian width of the galaxy in z, in kpc\n",
      "\n",
      "# Tie the zheight to the effective radius of the disk?\n",
      "# If set to True, make sure sigmaz_fixed is False\n",
      "zheight_tied,        True\n",
      "\n",
      "\n",
      "# GEOMETRY\n",
      "# --------\n",
      "\n",
      "# Initial Values\n",
      "inc,                 62.   # Inclination of galaxy, 0=face-on, 90=edge-on\n",
      "pa,                  142.\n",
      "xshift,              0.        # pixels\n",
      "yshift,              0.        # pixels\n",
      "vel_shift,           0.      # km/s\n",
      "\n"
     ]
    }
   ],
   "source": [
    "with open(param_filename, 'r') as f:\n",
    "    print(f.read())"
   ]
  },
  {
   "cell_type": "markdown",
   "metadata": {},
   "source": [
    "--------"
   ]
  },
  {
   "cell_type": "markdown",
   "metadata": {},
   "source": [
    "## Generate `Dysmalpy` 3D model cube ##"
   ]
  },
  {
   "cell_type": "code",
   "execution_count": 5,
   "metadata": {
    "scrolled": false
   },
   "outputs": [
    {
     "name": "stdout",
     "output_type": "stream",
     "text": [
      "------------------------------------------------------------------\n",
      " Dysmalpy model complete for: GS4_43501\n",
      "   output folder: /Users/sedona/data/dysmalpy_test_examples/JUPYTER_OUTPUT_MODEL_WRAPPER/\n",
      "------------------------------------------------------------------\n",
      " \n"
     ]
    }
   ],
   "source": [
    "dysmalpy_make_model.dysmalpy_make_model(param_filename=param_filename, \n",
    "                                        outdir=outdir, overwrite=True)"
   ]
  },
  {
   "cell_type": "markdown",
   "metadata": {},
   "source": [
    "------"
   ]
  },
  {
   "cell_type": "markdown",
   "metadata": {},
   "source": [
    "## Examine model cube ##"
   ]
  },
  {
   "cell_type": "code",
   "execution_count": null,
   "metadata": {},
   "outputs": [],
   "source": [
    "params = utils_io.read_fitting_params(fname=param_filename)\n",
    "plotting.plot_channel_maps_cube(fname=outdir+params['galID']+'_model_cube.fits', \n",
    "                                vbounds = [-312.5, 312.5],delv=25.)"
   ]
  },
  {
   "cell_type": "markdown",
   "metadata": {},
   "source": [
    "------"
   ]
  },
  {
   "cell_type": "markdown",
   "metadata": {},
   "source": [
    "## Running the model-generation wrapper ##\n",
    "\n",
    "### Windows ### \n",
    "\n",
    "For Windows environments, models are generated by running the ``make_model_dysmalpy.bat`` script and selecting the desired parameter file. \n",
    "\n",
    "### Command line usage ###\n",
    "\n",
    "To run this script from the command line (e.g, *nix environments), you will need to know the full install path to the DysmalPy fitting wrapper directory.\n",
    "\n",
    "Additionally, you will need to fully specify all output paths, etc, directly in the parameter file.\n",
    "\n",
    "The syntax for using this from the command line is as follows: "
   ]
  },
  {
   "cell_type": "markdown",
   "metadata": {},
   "source": [
    "```console\n",
    "$ python /PATH/TO/DPY/INSTALL/dysmalpy/fitting_wrappers/dysmalpy_make_model.py make_model_3Dcube.params\n",
    "```"
   ]
  },
  {
   "cell_type": "markdown",
   "metadata": {},
   "source": [
    "(Note also that `/PATH/TO/DPY/INSTALL/` must be adjusted for your specific DysmalPy install location. \n",
    "Finally, the above assumes that the python executable is within your `$PATH`. If this is not the case, you will need to specify the full path to the pythone executable as well.)"
   ]
  },
  {
   "cell_type": "markdown",
   "metadata": {},
   "source": [
    "### Within python ###\n",
    "\n",
    "Finally, this wrapper can be used from within a python session or python script. The usage is exactly as shown in this tutorial (where the wrapper is imported as `from dysmalpy.fitting_wrappers import dysmalpy_make_model`, and so on)."
   ]
  }
 ],
 "metadata": {
  "celltoolbar": "Raw Cell Format",
  "kernelspec": {
   "display_name": "Python 3 (ipykernel)",
   "language": "python",
   "name": "python3"
  },
  "language_info": {
   "codemirror_mode": {
    "name": "ipython",
    "version": 3
   },
   "file_extension": ".py",
   "mimetype": "text/x-python",
   "name": "python",
   "nbconvert_exporter": "python",
   "pygments_lexer": "ipython3",
   "version": "3.10.2"
  }
 },
 "nbformat": 4,
 "nbformat_minor": 1
}
