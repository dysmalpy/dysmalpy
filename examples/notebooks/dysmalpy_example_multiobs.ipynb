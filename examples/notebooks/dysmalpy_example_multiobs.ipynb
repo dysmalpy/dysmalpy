{
 "cells": [
  {
   "cell_type": "markdown",
   "metadata": {},
   "source": [
    "# Example `Dysmalpy` Multi-Observation Fitting (needs to be finished)"
   ]
  },
  {
   "cell_type": "markdown",
   "metadata": {},
   "source": [
    "This notebook shows the user how to do multi-observation fitting (either from data at different spatial resolution or at different wavelength ranges).\n",
    "\n",
    "**Includes the following components:**\n",
    "\n",
    " - Disk + Bulge\n",
    " - NFW halo\n",
    " - Constant velocity dispersion"
   ]
  },
  {
   "cell_type": "markdown",
   "metadata": {},
   "source": [
    "## Setup steps ##"
   ]
  },
  {
   "cell_type": "markdown",
   "metadata": {},
   "source": [
    "**Import modules**"
   ]
  },
  {
   "cell_type": "code",
   "execution_count": 6,
   "metadata": {},
   "outputs": [],
   "source": [
    "from __future__ import (absolute_import, division, print_function,\n",
    "                        unicode_literals)\n",
    "\n",
    "import dysmalpy\n",
    "from dysmalpy import galaxy\n",
    "from dysmalpy import models\n",
    "from dysmalpy import fitting\n",
    "from dysmalpy import instrument\n",
    "from dysmalpy import data_classes\n",
    "from dysmalpy import parameters\n",
    "from dysmalpy import plotting\n",
    "from dysmalpy import aperture_classes\n",
    "from dysmalpy import observation\n",
    "from dysmalpy import config\n",
    "\n",
    "import os\n",
    "import copy\n",
    "\n",
    "import numpy as np\n",
    "import astropy.units as u\n",
    "import astropy.io.fits as fits"
   ]
  },
  {
   "cell_type": "code",
   "execution_count": 7,
   "metadata": {},
   "outputs": [],
   "source": [
    "# A check for compatibility:\n",
    "import emcee\n",
    "if int(emcee.__version__[0]) >= 3:\n",
    "    ftype_sampler = 'h5'\n",
    "else:\n",
    "    ftype_sampler = 'pickle' "
   ]
  },
  {
   "cell_type": "markdown",
   "metadata": {},
   "source": [
    "**Setup notebook**"
   ]
  },
  {
   "cell_type": "code",
   "execution_count": 8,
   "metadata": {},
   "outputs": [],
   "source": [
    "# Setup plotting\n",
    "import matplotlib as mpl\n",
    "import matplotlib.pyplot as plt\n",
    "%matplotlib inline\n",
    "\n",
    "mpl.rcParams['figure.dpi']= 300\n",
    "mpl.rc(\"savefig\", dpi=300)\n",
    "\n",
    "from IPython.core.display import Image"
   ]
  },
  {
   "cell_type": "code",
   "execution_count": 9,
   "metadata": {},
   "outputs": [],
   "source": [
    "import logging\n",
    "logger = logging.getLogger('DysmalPy')\n",
    "logger.setLevel(logging.INFO)"
   ]
  },
  {
   "cell_type": "markdown",
   "metadata": {},
   "source": [
    "**Set data, output paths**"
   ]
  },
  {
   "cell_type": "code",
   "execution_count": 10,
   "metadata": {},
   "outputs": [
    {
     "name": "stdout",
     "output_type": "stream",
     "text": [
      "/Users/jespejo/Dropbox/Postdoc/dysmalpy/dysmalpy/tests/test_data/\n"
     ]
    }
   ],
   "source": [
    "# Data directory\n",
    "dir_path = os.path.abspath(dysmalpy.__path__[0])\n",
    "data_dir = os.sep.join([os.sep.join(dir_path.split(os.sep)[:-1]),'tests', 'test_data', ''])\n",
    "#'/YOUR/DATA/PATH/'\n",
    "print(data_dir)\n",
    "\n",
    "# Where to save output files\n",
    "outdir = '/Users/sedona/data/dysmalpy_test_examples/JUPYTER_OUTPUT_1D_multiobs/'\n",
    "outdir = '/Users/jespejo/Dropbox/Postdoc/Data/dysmalpy_test_examples/JUPYTER_OUTPUT_1D_multiobs/'"
   ]
  },
  {
   "cell_type": "markdown",
   "metadata": {},
   "source": [
    "-------------------"
   ]
  },
  {
   "cell_type": "markdown",
   "metadata": {},
   "source": [
    "**Load the function to tie the scale height to the disk effective radius**"
   ]
  },
  {
   "cell_type": "code",
   "execution_count": 11,
   "metadata": {},
   "outputs": [],
   "source": [
    "from dysmalpy.fitting_wrappers.tied_functions import tie_sigz_reff"
   ]
  },
  {
   "cell_type": "markdown",
   "metadata": {},
   "source": [
    "**Load the function to tie Mvirial to $f_{DM}(R_e)$**"
   ]
  },
  {
   "cell_type": "code",
   "execution_count": 12,
   "metadata": {},
   "outputs": [],
   "source": [
    "from dysmalpy.fitting_wrappers.tied_functions import tie_lmvirial_NFW"
   ]
  },
  {
   "cell_type": "markdown",
   "metadata": {
    "raw_mimetype": "text/restructuredtext"
   },
   "source": [
    ":::{admonition} Info\n",
    "Also see **fitting_wrappers.tied_functions** for more tied functions\n",
    ":::"
   ]
  },
  {
   "cell_type": "markdown",
   "metadata": {},
   "source": [
    "**Load the function to tie the two geometries together**"
   ]
  },
  {
   "cell_type": "code",
   "execution_count": 13,
   "metadata": {},
   "outputs": [],
   "source": [
    "from dysmalpy.fitting_wrappers.tied_functions import tied_geom_lambda"
   ]
  },
  {
   "cell_type": "markdown",
   "metadata": {},
   "source": [
    "----------"
   ]
  },
  {
   "cell_type": "markdown",
   "metadata": {},
   "source": [
    "## Initialize galaxy, model set, instrument"
   ]
  },
  {
   "cell_type": "code",
   "execution_count": 14,
   "metadata": {},
   "outputs": [],
   "source": [
    "gal = galaxy.Galaxy(z=1.4, name='EGS4_24985')\n",
    "mod_set = models.ModelSet()"
   ]
  },
  {
   "cell_type": "markdown",
   "metadata": {},
   "source": [
    "### Baryonic component: Combined Disk+Bulge"
   ]
  },
  {
   "cell_type": "code",
   "execution_count": 15,
   "metadata": {},
   "outputs": [],
   "source": [
    "total_mass = 11.0    # M_sun\n",
    "bt = 0.3             # Bulge-Total ratio\n",
    "r_eff_disk = 4.0     # kpc\n",
    "n_disk = 1.0\n",
    "invq_disk = 5.0\n",
    "r_eff_bulge = 1.0    # kpc\n",
    "n_bulge = 4.0\n",
    "invq_bulge = 1.0\n",
    "noord_flat = True    # Switch for applying Noordermeer flattening\n",
    "\n",
    "# Fix components\n",
    "bary_fixed = {'total_mass': False,\n",
    "              'r_eff_disk': False, #True,\n",
    "              'n_disk': True,\n",
    "              'r_eff_bulge': True,\n",
    "              'n_bulge': True,\n",
    "              'bt': True}\n",
    "\n",
    "# Set bounds\n",
    "bary_bounds = {'total_mass': (10, 13),\n",
    "               'r_eff_disk': (1.0, 30.0),\n",
    "               'n_disk': (1, 8),\n",
    "               'r_eff_bulge': (1, 5),\n",
    "               'n_bulge': (1, 8),\n",
    "               'bt': (0, 1)}\n",
    "\n",
    "bary = models.DiskBulge(total_mass=total_mass, bt=bt,\n",
    "                        r_eff_disk=r_eff_disk, n_disk=n_disk,\n",
    "                        invq_disk=invq_disk,\n",
    "                        r_eff_bulge=r_eff_bulge, n_bulge=n_bulge,\n",
    "                        invq_bulge=invq_bulge,\n",
    "                        noord_flat=noord_flat,\n",
    "                        name='disk+bulge',\n",
    "                        fixed=bary_fixed, bounds=bary_bounds)\n",
    "\n",
    "bary.r_eff_disk.prior = parameters.BoundedGaussianPrior(center=5.0, stddev=1.0)"
   ]
  },
  {
   "cell_type": "markdown",
   "metadata": {},
   "source": [
    "### Halo component"
   ]
  },
  {
   "cell_type": "code",
   "execution_count": 16,
   "metadata": {},
   "outputs": [],
   "source": [
    "mvirial = 12.5\n",
    "conc = 4.4\n",
    "fdm = 0.2\n",
    "\n",
    "halo_fixed = {'mvirial': False,\n",
    "              'conc': True, \n",
    "              'fdm':  False}\n",
    "# Mvirial will be tied -- so must set 'fixed=False' for Mvirial...\n",
    "\n",
    "halo_bounds = {'mvirial': (10, 13),\n",
    "               'conc': (1, 20),\n",
    "               'fdm': (0, 1)}\n",
    "\n",
    "halo = models.NFW(mvirial=mvirial, conc=conc, fdm=fdm, z=gal.z,\n",
    "                  fixed=halo_fixed, bounds=halo_bounds, name='halo')\n",
    "\n",
    "\n",
    "halo.mvirial.tied = tie_lmvirial_NFW"
   ]
  },
  {
   "cell_type": "markdown",
   "metadata": {},
   "source": [
    "### Dispersion profile"
   ]
  },
  {
   "cell_type": "code",
   "execution_count": 17,
   "metadata": {},
   "outputs": [],
   "source": [
    "sigma0 = 20.   # km/s\n",
    "disp_fixed = {'sigma0': False}\n",
    "disp_bounds = {'sigma0': (5, 300)}\n",
    "\n",
    "disp_prof_halpha = models.DispersionConst(sigma0=sigma0, fixed=disp_fixed,\n",
    "                                          bounds=disp_bounds, name='dispprof_Ha', tracer='halpha')\n",
    "disp_prof_co = models.DispersionConst(sigma0=sigma0, fixed=disp_fixed,\n",
    "                                          bounds=disp_bounds, name='dispprof_CO', tracer='co')"
   ]
  },
  {
   "cell_type": "markdown",
   "metadata": {},
   "source": [
    "### z-height profile"
   ]
  },
  {
   "cell_type": "code",
   "execution_count": 18,
   "metadata": {},
   "outputs": [],
   "source": [
    "sigmaz = 0.9   # kpc\n",
    "zheight_fixed = {'sigmaz': False}\n",
    "\n",
    "zheight_prof = models.ZHeightGauss(sigmaz=sigmaz, name='zheightgaus',\n",
    "                                   fixed=zheight_fixed)\n",
    "zheight_prof.sigmaz.tied = tie_sigz_reff"
   ]
  },
  {
   "cell_type": "markdown",
   "metadata": {},
   "source": [
    "### Geometry"
   ]
  },
  {
   "cell_type": "code",
   "execution_count": 19,
   "metadata": {},
   "outputs": [],
   "source": [
    "inc = 44.     # degrees\n",
    "pa = 142.     # degrees, blue-shifted side CCW from north\n",
    "xshift = 0    # pixels from center\n",
    "yshift = 0    # pixels from center\n",
    "vel_shift = 0 # velocity shift at center ; km/s\n",
    "geom_fixed = {'inc': False,\n",
    "              'pa': True,\n",
    "              'xshift': True,\n",
    "              'yshift': True,\n",
    "              'vel_shift': True}\n",
    "\n",
    "geom_bounds = {'inc': (30, 60),\n",
    "               'pa': (132, 152),\n",
    "               'xshift': (-2.5, 2.5),\n",
    "               'yshift': (-2.5, 2.5),\n",
    "               'vel_shift': (-100, 100)}\n",
    "\n",
    "geom_halpha = models.Geometry(inc=inc, pa=pa, xshift=xshift, yshift=yshift, vel_shift=vel_shift, \n",
    "                       fixed=geom_fixed, bounds=geom_bounds, \n",
    "                       name='geom_halpha', obs_name='Halpha')\n",
    "\n",
    "geom_co = models.Geometry(inc=inc, pa=pa, xshift=xshift, yshift=yshift, vel_shift=vel_shift, \n",
    "                       fixed=geom_fixed, bounds=geom_bounds, \n",
    "                       name='geom_co', obs_name='CO')\n",
    "\n",
    "geom_co.inc.tied = tied_geom_lambda('geom_halpha', 'inc')"
   ]
  },
  {
   "cell_type": "markdown",
   "metadata": {},
   "source": [
    "### Add all model components to ModelSet"
   ]
  },
  {
   "cell_type": "code",
   "execution_count": 20,
   "metadata": {},
   "outputs": [],
   "source": [
    "# Add all of the model components to the ModelSet\n",
    "mod_set.add_component(bary, light=True)\n",
    "mod_set.add_component(halo)\n",
    "mod_set.add_component(disp_prof_halpha)\n",
    "mod_set.add_component(disp_prof_co)\n",
    "mod_set.add_component(zheight_prof)\n",
    "mod_set.add_component(geom_halpha)\n",
    "mod_set.add_component(geom_co)"
   ]
  },
  {
   "cell_type": "markdown",
   "metadata": {},
   "source": [
    "### Set kinematic options for calculating velocity profile"
   ]
  },
  {
   "cell_type": "code",
   "execution_count": 21,
   "metadata": {},
   "outputs": [],
   "source": [
    "mod_set.kinematic_options.adiabatic_contract = False\n",
    "mod_set.kinematic_options.pressure_support = True"
   ]
  },
  {
   "cell_type": "markdown",
   "metadata": {},
   "source": [
    "### Set up the observation and instrument"
   ]
  },
  {
   "cell_type": "code",
   "execution_count": 22,
   "metadata": {},
   "outputs": [],
   "source": [
    "# Halpha observations\n",
    "obs_halpha = observation.Observation(name='Halpha', tracer='halpha')\n",
    "\n",
    "inst_halpha = instrument.Instrument()\n",
    "\n",
    "beamsize = 0.7*u.arcsec                 # FWHM of beam\n",
    "sig_inst = 45*u.km/u.s                   # Instrumental spectral resolution\n",
    "\n",
    "beam = instrument.GaussianBeam(major=beamsize)\n",
    "lsf = instrument.LSF(sig_inst)\n",
    "\n",
    "inst_halpha.beam = beam\n",
    "inst_halpha.lsf = lsf\n",
    "inst_halpha.pixscale = 0.25*u.arcsec           # arcsec/pixel\n",
    "inst_halpha.fov = [27, 27]                      # (nx, ny) pixels\n",
    "inst_halpha.spec_type = 'velocity'              # 'velocity' or 'wavelength'\n",
    "inst_halpha.spec_step = 10*u.km/u.s             # Spectral step\n",
    "inst_halpha.spec_start = -1000*u.km/u.s         # Starting value of spectrum\n",
    "inst_halpha.nspec = 201                         # Number of spectral pixels\n",
    "\n",
    "# Set the beam kernel so it doesn't have to be calculated every step\n",
    "inst_halpha.set_beam_kernel()\n",
    "inst_halpha.set_lsf_kernel()\n",
    "\n",
    "# Extraction information\n",
    "inst_halpha.ndim = 1                            # Dimensionality of data\n",
    "inst_halpha.moment = False                      # For 1D/2D data, if True then velocities and dispersion calculated from moments\n",
    "                                         # Default is False, meaning Gaussian extraction used\n",
    "\n",
    "# Add instrument to observation\n",
    "obs_halpha.instrument = inst_halpha"
   ]
  },
  {
   "cell_type": "code",
   "execution_count": 23,
   "metadata": {},
   "outputs": [],
   "source": [
    "# CO Observations\n",
    "obs_co = observation.Observation(name='CO', tracer='co')\n",
    "\n",
    "inst_co = instrument.Instrument()\n",
    "\n",
    "beamsize = 0.6*u.arcsec                 # FWHM of beam\n",
    "sig_inst = 19*u.km/u.s                   # Instrumental spectral resolution\n",
    "\n",
    "beam = instrument.GaussianBeam(major=beamsize)\n",
    "lsf = instrument.LSF(sig_inst)\n",
    "\n",
    "inst_co.beam = beam\n",
    "inst_co.lsf = lsf\n",
    "inst_co.pixscale = 0.25*u.arcsec           # arcsec/pixel\n",
    "inst_co.fov = [27, 27]                      # (nx, ny) pixels\n",
    "inst_co.spec_type = 'velocity'              # 'velocity' or 'wavelength'\n",
    "inst_co.spec_step = 10*u.km/u.s             # Spectral step\n",
    "inst_co.spec_start = -1000*u.km/u.s         # Starting value of spectrum\n",
    "inst_co.nspec = 201                         # Number of spectral pixels\n",
    "\n",
    "# Set the beam kernel so it doesn't have to be calculated every step\n",
    "inst_co.set_beam_kernel()\n",
    "inst_co.set_lsf_kernel()\n",
    "\n",
    "# Extraction information\n",
    "inst_co.ndim = 1                            # Dimensionality of data\n",
    "inst_co.moment = False                      # For 1D/2D data, if True then velocities and dispersion calculated from moments\n",
    "                                         # Default is False, meaning Gaussian extraction used\n",
    "\n",
    "# Add instrument to observation\n",
    "obs_co.instrument = inst_co"
   ]
  },
  {
   "cell_type": "markdown",
   "metadata": {},
   "source": [
    "### Load data"
   ]
  },
  {
   "cell_type": "markdown",
   "metadata": {},
   "source": [
    "* Load the data from file:\n",
    "  - *1D velocity, dispersion profiles and error*\n",
    "  - *A mask can be loaded / created as well*\n",
    "  \n",
    "* Put data in `Data1D` class\n",
    "\n",
    "* Add data to Observation object"
   ]
  },
  {
   "cell_type": "code",
   "execution_count": 24,
   "metadata": {},
   "outputs": [],
   "source": [
    "# Halpha Data\n",
    "f_data_1d = data_dir+'EGS4_24985_Ha_1D_profile.dat'\n",
    "dat_arr = np.loadtxt(f_data_1d)\n",
    "gs4_r = dat_arr[:,0]\n",
    "gs4_vel = dat_arr[:,1]\n",
    "gs4_disp = dat_arr[:,3]\n",
    "err_vel = dat_arr[:,2]\n",
    "err_disp = dat_arr[:,4]\n",
    "inst_corr = True                  # Flag for if the measured dispersion has been\n",
    "                                  # corrected for instrumental resolution\n",
    "    \n",
    "# Put data in Data1D data class: \n",
    "data1d_halpha = data_classes.Data1D(r=gs4_r, velocity=gs4_vel,\n",
    "                                  vel_disp=gs4_disp, vel_err=err_vel,\n",
    "                                  vel_disp_err=err_disp, inst_corr=inst_corr, \n",
    "                                  filename_velocity=f_data_1d)\n",
    "\n",
    "# Add data to Observation:\n",
    "obs_halpha.data = data1d_halpha"
   ]
  },
  {
   "cell_type": "code",
   "execution_count": 25,
   "metadata": {},
   "outputs": [],
   "source": [
    "# CO Data\n",
    "f_data_1d = data_dir+'EGS4_24985_CO_1D_profile.dat'\n",
    "dat_arr = np.loadtxt(f_data_1d)\n",
    "gs4_r = dat_arr[:,0]\n",
    "gs4_vel = dat_arr[:,1]\n",
    "gs4_disp = dat_arr[:,3]\n",
    "err_vel = dat_arr[:,2]\n",
    "err_disp = dat_arr[:,4]\n",
    "inst_corr = True                  # Flag for if the measured dispersion has been\n",
    "                                  # corrected for instrumental resolution\n",
    "    \n",
    "# Put data in Data1D data class: \n",
    "data1d_co = data_classes.Data1D(r=gs4_r, velocity=gs4_vel,\n",
    "                                  vel_disp=gs4_disp, vel_err=err_vel,\n",
    "                                  vel_disp_err=err_disp, inst_corr=inst_corr, \n",
    "                                  filename_velocity=f_data_1d)\n",
    "\n",
    "# Add data to Observation:\n",
    "obs_co.data = data1d_co"
   ]
  },
  {
   "cell_type": "code",
   "execution_count": null,
   "metadata": {},
   "outputs": [],
   "source": []
  },
  {
   "cell_type": "code",
   "execution_count": null,
   "metadata": {},
   "outputs": [],
   "source": []
  },
  {
   "cell_type": "code",
   "execution_count": null,
   "metadata": {},
   "outputs": [],
   "source": [
    "# INCOMPLETE BELOW HERE!!!"
   ]
  },
  {
   "cell_type": "markdown",
   "metadata": {},
   "source": [
    "### Define model, fit options:"
   ]
  },
  {
   "cell_type": "code",
   "execution_count": 21,
   "metadata": {},
   "outputs": [],
   "source": [
    "obs.mod_options.oversample = 1  \n",
    "# Factor by which to oversample model (eg, subpixels)\n",
    "\n",
    "obs.fit_options.fit = True             # Include this observation in the fit (T/F)\n",
    "obs.fit_options.fit_velocity = True    # 1D/2D: Fit velocity of observation (T/F)\n",
    "obs.fit_options.fit_dispersion = True  # 1D/2D: Fit dispersion of observation (T/F)\n",
    "obs.fit_options.fit_flux = False       # 1D/2D: Fit flux of observation (T/F)"
   ]
  },
  {
   "cell_type": "markdown",
   "metadata": {},
   "source": [
    "### Add the model set, observation to the Galaxy"
   ]
  },
  {
   "cell_type": "code",
   "execution_count": 22,
   "metadata": {},
   "outputs": [],
   "source": [
    "gal.model = mod_set\n",
    "gal.add_observation(obs)"
   ]
  },
  {
   "cell_type": "markdown",
   "metadata": {},
   "source": [
    "-----------------"
   ]
  },
  {
   "cell_type": "markdown",
   "metadata": {},
   "source": [
    "## MPFIT Fitting"
   ]
  },
  {
   "cell_type": "markdown",
   "metadata": {},
   "source": [
    "**Set up ``MPFITFitter`` fitter with fitting parameters**"
   ]
  },
  {
   "cell_type": "code",
   "execution_count": 23,
   "metadata": {},
   "outputs": [],
   "source": [
    "# Options passed to MPFIT:\n",
    "maxiter = 200\n",
    "\n",
    "fitter = fitting.MPFITFitter(maxiter=maxiter)"
   ]
  },
  {
   "cell_type": "markdown",
   "metadata": {},
   "source": [
    "**Set up fit/plot output options**"
   ]
  },
  {
   "cell_type": "code",
   "execution_count": 24,
   "metadata": {},
   "outputs": [],
   "source": [
    "# Output directory\n",
    "outdir_mpfit = outdir+'MPFIT/'\n",
    "\n",
    "# Output options: \n",
    "do_plotting = True  \n",
    "plot_type = 'png'\n",
    "overwrite = True\n",
    "\n",
    "output_options = config.OutputOptions(outdir=outdir_mpfit, \n",
    "                                      do_plotting=do_plotting, \n",
    "                                      plot_type=plot_type,\n",
    "                                      overwrite=overwrite)"
   ]
  },
  {
   "cell_type": "markdown",
   "metadata": {},
   "source": [
    "**Run `Dysmalpy` fitting: MPFIT**"
   ]
  },
  {
   "cell_type": "code",
   "execution_count": 25,
   "metadata": {},
   "outputs": [],
   "source": [
    "mpfit_results = fitter.fit(gal, output_options)"
   ]
  },
  {
   "cell_type": "markdown",
   "metadata": {},
   "source": [
    "### Examine MPFIT results"
   ]
  },
  {
   "cell_type": "markdown",
   "metadata": {},
   "source": [
    "#### Result plots"
   ]
  },
  {
   "cell_type": "code",
   "execution_count": 26,
   "metadata": {},
   "outputs": [],
   "source": [
    "# Look at best-fit:\n",
    "filepath = outdir_mpfit+\"GS4_43501_mpfit_bestfit_halpha_2D.{}\".format(plot_type)\n",
    "Image(filename=filepath, width=600)"
   ]
  },
  {
   "cell_type": "markdown",
   "metadata": {},
   "source": [
    "#### Directly generating result plots ####"
   ]
  },
  {
   "cell_type": "markdown",
   "metadata": {},
   "source": [
    "**Reload the galaxy, results files:**"
   ]
  },
  {
   "cell_type": "code",
   "execution_count": 27,
   "metadata": {},
   "outputs": [],
   "source": [
    "f_galmodel =       outdir_mpfit + 'GS4_43501_model.pickle'\n",
    "f_mpfit_results =  outdir_mpfit + 'GS4_43501_mpfit_results.pickle'\n",
    "\n",
    "gal, mpfit_results = fitting.reload_all_fitting(filename_galmodel=f_galmodel, \n",
    "                            filename_results=f_mpfit_results, fit_method='mpfit')"
   ]
  },
  {
   "cell_type": "markdown",
   "metadata": {},
   "source": [
    "**Plot the best-fit results:**"
   ]
  },
  {
   "cell_type": "code",
   "execution_count": 28,
   "metadata": {},
   "outputs": [],
   "source": [
    "mpfit_results.plot_results(gal)"
   ]
  },
  {
   "cell_type": "markdown",
   "metadata": {},
   "source": [
    "#### Result reports"
   ]
  },
  {
   "cell_type": "markdown",
   "metadata": {},
   "source": [
    "We now look at the results reports, which include the best-fit values and uncertainties (as well as other fitting settings and output)."
   ]
  },
  {
   "cell_type": "code",
   "execution_count": 29,
   "metadata": {},
   "outputs": [],
   "source": [
    "# Print report\n",
    "print(mpfit_results.results_report(gal=gal))"
   ]
  },
  {
   "cell_type": "markdown",
   "metadata": {},
   "source": [
    "**To <span style=\"color:DarkCyan\">directly save</span> the results report** to a file, we can use the following:\n",
    "\n",
    "(Note: by default, report files are saved as part of the fitting process)"
   ]
  },
  {
   "cell_type": "code",
   "execution_count": 30,
   "metadata": {},
   "outputs": [],
   "source": [
    "# Save report to file:\n",
    "f_mpfit_report = outdir_mpfit + 'mpfit_fit_report.txt'\n",
    "mpfit_results.results_report(gal=gal, filename=f_mpfit_report)"
   ]
  },
  {
   "cell_type": "markdown",
   "metadata": {},
   "source": [
    "-----------------"
   ]
  },
  {
   "cell_type": "markdown",
   "metadata": {},
   "source": [
    "## MCMC Fitting"
   ]
  },
  {
   "cell_type": "markdown",
   "metadata": {},
   "source": [
    "**Get a clean copy of model, obs**"
   ]
  },
  {
   "cell_type": "code",
   "execution_count": 31,
   "metadata": {},
   "outputs": [],
   "source": [
    "# gal = galaxy.Galaxy(z=1.613, name='GS4_43501')\n",
    "\n",
    "# obscopy = observation.Observation(name='halpha_2D', tracer='halpha')\n",
    "# obscopy.data = copy.deepcopy(data2d)\n",
    "# obscopy.instrument = copy.deepcopy(inst)\n",
    "# obscopy.mod_options = copy.deepcopy(obs.mod_options)\n",
    "# obscopy.fit_options = copy.deepcopy(obs.fit_options)\n",
    "\n",
    "# gal.add_observation(obscopy)\n",
    "\n",
    "gal.model = copy.deepcopy(mod_set)"
   ]
  },
  {
   "cell_type": "markdown",
   "metadata": {},
   "source": [
    "**Set up ``MCMCFitter`` fitter with fitting parameters**"
   ]
  },
  {
   "cell_type": "code",
   "execution_count": 32,
   "metadata": {},
   "outputs": [],
   "source": [
    "# Options passed to emcee\n",
    "## SHORT TEST:\n",
    "nWalkers = 20\n",
    "nCPUs = 4\n",
    "scale_param_a = 5 #3   \n",
    "# The walkers were not exploring the parameter space well with scale_param_a = 3, \n",
    "#     but were getting 'stuck'. So to improve the walker movement with larger \n",
    "#     'stretch' in the steps, we increased scale_param_a.\n",
    "nBurn = 2\n",
    "nSteps = 5\n",
    "minAF = None\n",
    "maxAF = None\n",
    "nEff = 10\n",
    "\n",
    "blob_name = 'mvirial'    # Also save 'blob' values of Mvirial, calculated at every chain step\n",
    "\n",
    "\n",
    "fitter = fitting.MCMCFitter(nWalkers=nWalkers, nCPUs=nCPUs, \n",
    "                            scale_param_a=scale_param_a, nBurn=nBurn, nSteps=nSteps, \n",
    "                            minAF=minAF, maxAF=maxAF, nEff=nEff, blob_name=blob_name)"
   ]
  },
  {
   "cell_type": "markdown",
   "metadata": {},
   "source": [
    "**Set up fit/plot output options**"
   ]
  },
  {
   "cell_type": "code",
   "execution_count": 33,
   "metadata": {},
   "outputs": [],
   "source": [
    "# Output directory\n",
    "outdir_mcmc = outdir + 'MCMC/'\n",
    "\n",
    "# Output options: \n",
    "do_plotting = True  \n",
    "plot_type = 'png'\n",
    "overwrite = True\n",
    "\n",
    "output_options = config.OutputOptions(outdir=outdir_mcmc, \n",
    "                                      do_plotting=do_plotting, \n",
    "                                      plot_type=plot_type,\n",
    "                                      overwrite=overwrite)"
   ]
  },
  {
   "cell_type": "markdown",
   "metadata": {},
   "source": [
    "**Run `Dysmalpy` fitting: MCMC**"
   ]
  },
  {
   "cell_type": "code",
   "execution_count": 34,
   "metadata": {},
   "outputs": [],
   "source": [
    "mcmc_results = fitter.fit(gal, output_options)"
   ]
  },
  {
   "cell_type": "markdown",
   "metadata": {},
   "source": [
    "### Examine MCMC results"
   ]
  },
  {
   "cell_type": "markdown",
   "metadata": {},
   "source": [
    "Of course this (very short!) example looks terrible, but it's instructive to see what's happening even if you only did a very short / few walker MCMC test:"
   ]
  },
  {
   "cell_type": "markdown",
   "metadata": {},
   "source": [
    "**Trace**\n",
    "- The individual walkers should move around in the parameter space over the chain iterations (not necessarily for every step; but there should be ***some*** exploration of the space)"
   ]
  },
  {
   "cell_type": "code",
   "execution_count": 35,
   "metadata": {},
   "outputs": [],
   "source": [
    "# Look at trace:\n",
    "filepath = outdir_mcmc+\"GS4_43501_mcmc_trace.{}\".format(plot_type)\n",
    "Image(filepath, width=600)"
   ]
  },
  {
   "cell_type": "markdown",
   "metadata": {},
   "source": [
    "**Best-fit**\n",
    "- This is a good opportunity to check that the model PA and slit PA are correct, or else the data and model curves will have opposite shapes!\n",
    "- Also, it's helpful to check that your data masking is reasonable.\n",
    "- Finally, this is a worthwhile chance to see if your \"nuisance\" geometry and spectral parameters (especially `xshift`, `yshift`, `vel_shift` have reasonable values, and if appropriate, reasonable bounds and priors.)"
   ]
  },
  {
   "cell_type": "code",
   "execution_count": 36,
   "metadata": {},
   "outputs": [],
   "source": [
    "# Look at best-fit:\n",
    "filepath = outdir_mcmc+\"GS4_43501_mcmc_bestfit_halpha_2D.{}\".format(plot_type)\n",
    "Image(filepath, width=600)"
   ]
  },
  {
   "cell_type": "markdown",
   "metadata": {},
   "source": [
    "**Sampler \"corner\" plot**\n",
    "- The \"best-fit\" MAP (by default taken to be the peak of each marginalized parameter posterior, independent of the other parameters) is marked with the solid blue line. \n",
    "  * However, the MAP can also be found by jointly analyzing two or more parameters' posterior space. <p>\n",
    "       *(&rarr; see the example in the :ref:`1D example fit <dysmalpy_example_fit_1D.ipynb>` tutorial)*\n",
    "- Check to see that your Gaussian prior centers are marked in orange in the appropriate rows/columns (if any Gaussian priors are used).\n",
    "- The vertical dashed black lines show the 2.275%, 15.865%, 84.135%, 97.725% percentile intervals for the marginalized posterior for each parameter. \n",
    "- The vertical dashed purple lines show the shortest $1\\sigma$ interval, determined from the marginalized posterior for each parameter independently. "
   ]
  },
  {
   "cell_type": "code",
   "execution_count": 37,
   "metadata": {},
   "outputs": [],
   "source": [
    "# Look at corner:\n",
    "filepath = outdir_mcmc+\"GS4_43501_mcmc_param_corner.{}\".format(plot_type)\n",
    "Image(filepath, height=620)"
   ]
  },
  {
   "cell_type": "markdown",
   "metadata": {},
   "source": [
    "---------"
   ]
  },
  {
   "cell_type": "markdown",
   "metadata": {},
   "source": [
    "## A real MCMC example ##"
   ]
  },
  {
   "cell_type": "markdown",
   "metadata": {},
   "source": [
    "In the interest of time, let's look at some results calculated previously.\n",
    "\n",
    "For this fit, we used 1000 walkers, 175 burn-in steps, and 200 steps. \n",
    "\n",
    "Using **190 threads**, it took about **21 minutes** to run the MCMC fit."
   ]
  },
  {
   "cell_type": "markdown",
   "metadata": {
    "raw_mimetype": "text/restructuredtext"
   },
   "source": [
    ":::{admonition} Note\n",
    "We used moment extraction for the model 2D profile extraction, as this \n",
    "does not seem to change the result much compared to gaussian extraction \n",
    "(as the observed maps were derived). This is likely because the extraction \n",
    "is over single pixels, so there is less complex line shape mixing \n",
    "as found in 1D extractions.\n",
    "\n",
    "If this fit is done using a gaussian extraction, exactly following \n",
    "the data extraction method, it is generally slower.\n",
    "\n",
    "When performing fits using moment extraction on data that was gaussian extracted, \n",
    "it is worth considering whether this is a reasonable thing to be doing. \n",
    "(Or at least check the final results with a gaussian extraction to see if there \n",
    "are systematic differences between the moment and gaussian maps.)\n",
    ":::"
   ]
  },
  {
   "cell_type": "code",
   "execution_count": null,
   "metadata": {},
   "outputs": [],
   "source": [
    "outdir_mcmc_full = outdir_mcmc = outdir + 'MCMC_full_run_nw1000_ns200_a5/'"
   ]
  },
  {
   "cell_type": "markdown",
   "metadata": {},
   "source": [
    "### Examine results: ###"
   ]
  },
  {
   "cell_type": "markdown",
   "metadata": {},
   "source": [
    "Helpful for:\n",
    "  - replotting\n",
    "  - reanalyzing chain (eg, jointly constraining some posteriors)\n",
    "  - ..."
   ]
  },
  {
   "cell_type": "markdown",
   "metadata": {},
   "source": [
    "**Reload the galaxy, results files:**"
   ]
  },
  {
   "cell_type": "code",
   "execution_count": null,
   "metadata": {},
   "outputs": [],
   "source": [
    "f_galmodel = outdir_mcmc_full + 'galaxy_model.pickle'\n",
    "f_mcmc_results =  outdir_mcmc_full + 'mcmc_results.pickle'\n",
    "\n",
    "#----------------------------------------\n",
    "## Fix module import\n",
    "import sys\n",
    "from dysmalpy import fitting_wrappers\n",
    "sys.modules['fitting_wrappers'] = fitting_wrappers\n",
    "#----------------------------------------\n",
    "\n",
    "gal, mcmc_results = fitting.reload_all_fitting(filename_galmodel=f_galmodel, \n",
    "                            filename_results=f_mcmc_results, fit_method='mcmc')"
   ]
  },
  {
   "cell_type": "markdown",
   "metadata": {},
   "source": [
    "**If necessary, also reload the sampler chain:**"
   ]
  },
  {
   "cell_type": "code",
   "execution_count": null,
   "metadata": {},
   "outputs": [],
   "source": [
    "f_sampler =  outdir_mcmc_full + 'mcmc_sampler.{}'.format(ftype_sampler)\n",
    "mcmc_results.reload_sampler(filename=f_sampler)"
   ]
  },
  {
   "cell_type": "markdown",
   "metadata": {},
   "source": [
    "**Plot the best-fit results:**"
   ]
  },
  {
   "cell_type": "code",
   "execution_count": null,
   "metadata": {},
   "outputs": [],
   "source": [
    "mcmc_results.plot_results(gal)"
   ]
  },
  {
   "cell_type": "markdown",
   "metadata": {},
   "source": [
    "#### Results report: ####"
   ]
  },
  {
   "cell_type": "code",
   "execution_count": null,
   "metadata": {},
   "outputs": [],
   "source": [
    "# Print report\n",
    "print(mcmc_results.results_report(gal=gal))"
   ]
  },
  {
   "cell_type": "markdown",
   "metadata": {},
   "source": [
    "**Or save results report to file:**"
   ]
  },
  {
   "cell_type": "code",
   "execution_count": null,
   "metadata": {},
   "outputs": [],
   "source": [
    "# Save report to file:\n",
    "f_mcmc_report = outdir_mcmc + 'mcmc_fit_report.txt'\n",
    "mcmc_results.results_report(gal=gal, filename=f_mcmc_report)"
   ]
  }
 ],
 "metadata": {
  "celltoolbar": "Raw Cell Format",
  "kernelspec": {
   "display_name": "Python 3 (ipykernel)",
   "language": "python",
   "name": "python3"
  },
  "language_info": {
   "codemirror_mode": {
    "name": "ipython",
    "version": 3
   },
   "file_extension": ".py",
   "mimetype": "text/x-python",
   "name": "python",
   "nbconvert_exporter": "python",
   "pygments_lexer": "ipython3",
   "version": "3.11.3"
  },
  "varInspector": {
   "cols": {
    "lenName": 16,
    "lenType": 16,
    "lenVar": 40
   },
   "kernels_config": {
    "python": {
     "delete_cmd_postfix": "",
     "delete_cmd_prefix": "del ",
     "library": "var_list.py",
     "varRefreshCmd": "print(var_dic_list())"
    },
    "r": {
     "delete_cmd_postfix": ") ",
     "delete_cmd_prefix": "rm(",
     "library": "var_list.r",
     "varRefreshCmd": "cat(var_dic_list()) "
    }
   },
   "types_to_exclude": [
    "module",
    "function",
    "builtin_function_or_method",
    "instance",
    "_Feature"
   ],
   "window_display": false
  }
 },
 "nbformat": 4,
 "nbformat_minor": 4
}
