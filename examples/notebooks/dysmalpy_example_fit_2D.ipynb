{
 "cells": [
  {
   "cell_type": "markdown",
   "metadata": {
    "collapsed": true
   },
   "source": [
    "# Example `Dysmalpy` 2D fitting #"
   ]
  },
  {
   "cell_type": "markdown",
   "metadata": {},
   "source": [
    "**Includes the following components:**\n",
    " - Disk + Bulge\n",
    " - NFW halo\n",
    " - Constant velocity dispersion"
   ]
  },
  {
   "cell_type": "markdown",
   "metadata": {},
   "source": [
    "#### First import modules ####"
   ]
  },
  {
   "cell_type": "code",
   "execution_count": 1,
   "metadata": {},
   "outputs": [],
   "source": [
    "from __future__ import (absolute_import, division, print_function,\n",
    "                        unicode_literals)\n",
    "\n",
    "from dysmalpy import galaxy\n",
    "from dysmalpy import models\n",
    "from dysmalpy import fitting\n",
    "from dysmalpy import instrument\n",
    "from dysmalpy import data_classes\n",
    "from dysmalpy import parameters\n",
    "from dysmalpy import plotting\n",
    "from dysmalpy import aperture_classes\n",
    "\n",
    "import os\n",
    "import copy\n",
    "\n",
    "import numpy as np\n",
    "import astropy.units as u\n",
    "import astropy.io.fits as fits"
   ]
  },
  {
   "cell_type": "code",
   "execution_count": 2,
   "metadata": {},
   "outputs": [],
   "source": [
    "# A check for compatibility:\n",
    "import emcee\n",
    "if np.int(emcee.__version__[0]) >= 3:\n",
    "    ftype_sampler = 'h5'\n",
    "else:\n",
    "    ftype_sampler = 'pickle' "
   ]
  },
  {
   "cell_type": "markdown",
   "metadata": {},
   "source": [
    "##### Setup notebook #####"
   ]
  },
  {
   "cell_type": "code",
   "execution_count": 3,
   "metadata": {},
   "outputs": [],
   "source": [
    "import matplotlib.pyplot as plt\n",
    "%matplotlib inline\n",
    "\n",
    "from IPython.core.display import Image"
   ]
  },
  {
   "cell_type": "code",
   "execution_count": 4,
   "metadata": {},
   "outputs": [],
   "source": [
    "import logging\n",
    "logger = logging.getLogger('DysmalPy')\n",
    "logger.setLevel(logging.INFO)"
   ]
  },
  {
   "cell_type": "markdown",
   "metadata": {},
   "source": [
    "#### Set data, output paths ####"
   ]
  },
  {
   "cell_type": "code",
   "execution_count": 5,
   "metadata": {},
   "outputs": [],
   "source": [
    "# Data directory\n",
    "data_dir = '/Users/sedona/data/dysmalpy_example_data/'\n",
    "#'/YOUR/DATA/PATH/'\n",
    "\n",
    "# Where to save output files\n",
    "#outdir  = './output_2D/'\n",
    "outdir = '/Users/sedona/data/dysmalpy_test_examples/JUPYTER_OUTPUT_2D/'"
   ]
  },
  {
   "cell_type": "markdown",
   "metadata": {},
   "source": [
    "-------------------"
   ]
  },
  {
   "cell_type": "markdown",
   "metadata": {},
   "source": [
    "##### Set function to tie scale height relative to effective radius #####"
   ]
  },
  {
   "cell_type": "code",
   "execution_count": 6,
   "metadata": {},
   "outputs": [],
   "source": [
    "def tie_sigz_reff(model_set):\n",
    " \n",
    "    reff = model_set.components['disk+bulge'].r_eff_disk.value\n",
    "    invq = model_set.components['disk+bulge'].invq_disk\n",
    "    sigz = 2.0*reff/invq/2.35482\n",
    "\n",
    "    return sigz"
   ]
  },
  {
   "cell_type": "markdown",
   "metadata": {},
   "source": [
    "##### Set function to tie Mvirial to $f_{DM}(R_e)$"
   ]
  },
  {
   "cell_type": "code",
   "execution_count": 7,
   "metadata": {},
   "outputs": [],
   "source": [
    "def tie_lmvirial_NFW(model_set):\n",
    "    comp_halo = model_set.components.__getitem__('halo')\n",
    "    comp_baryons = model_set.components.__getitem__('disk+bulge')\n",
    "    r_fdm = model_set.components['disk+bulge'].r_eff_disk.value\n",
    "    mvirial = comp_halo.calc_mvirial_from_fdm(comp_baryons, r_fdm, \n",
    "                    adiabatic_contract=model_set.kinematic_options.adiabatic_contract)\n",
    "    return mvirial"
   ]
  },
  {
   "cell_type": "markdown",
   "metadata": {},
   "source": [
    "- Also see **fitting_wrappers.utils_io** for more tied functions"
   ]
  },
  {
   "cell_type": "markdown",
   "metadata": {},
   "source": [
    "----------"
   ]
  },
  {
   "cell_type": "markdown",
   "metadata": {},
   "source": [
    "## Initialize galaxy, model set, instrument ##"
   ]
  },
  {
   "cell_type": "code",
   "execution_count": 8,
   "metadata": {},
   "outputs": [],
   "source": [
    "gal = galaxy.Galaxy(z=1.613, name='GS4_43501')\n",
    "mod_set = models.ModelSet()\n",
    "inst = instrument.Instrument()"
   ]
  },
  {
   "cell_type": "markdown",
   "metadata": {
    "collapsed": true
   },
   "source": [
    "### Baryonic component: Combined Disk+Bulge ###"
   ]
  },
  {
   "cell_type": "code",
   "execution_count": 9,
   "metadata": {},
   "outputs": [],
   "source": [
    "total_mass = 11.0    # M_sun\n",
    "bt = 0.3             # Bulge-Total ratio\n",
    "r_eff_disk = 5.0     # kpc\n",
    "n_disk = 1.0\n",
    "invq_disk = 5.0\n",
    "r_eff_bulge = 1.0    # kpc\n",
    "n_bulge = 4.0\n",
    "invq_bulge = 1.0\n",
    "noord_flat = True    # Switch for applying Noordermeer flattening\n",
    "\n",
    "# Fix components\n",
    "bary_fixed = {'total_mass': False,\n",
    "              'r_eff_disk': False, #True,\n",
    "              'n_disk': True,\n",
    "              'r_eff_bulge': True,\n",
    "              'n_bulge': True,\n",
    "              'bt': True}\n",
    "\n",
    "# Set bounds\n",
    "bary_bounds = {'total_mass': (10, 13),\n",
    "               'r_eff_disk': (1.0, 30.0),\n",
    "               'n_disk': (1, 8),\n",
    "               'r_eff_bulge': (1, 5),\n",
    "               'n_bulge': (1, 8),\n",
    "               'bt': (0, 1)}\n",
    "\n",
    "bary = models.DiskBulge(total_mass=total_mass, bt=bt,\n",
    "                        r_eff_disk=r_eff_disk, n_disk=n_disk,\n",
    "                        invq_disk=invq_disk,\n",
    "                        r_eff_bulge=r_eff_bulge, n_bulge=n_bulge,\n",
    "                        invq_bulge=invq_bulge,\n",
    "                        noord_flat=noord_flat,\n",
    "                        name='disk+bulge',\n",
    "                        fixed=bary_fixed, bounds=bary_bounds)\n",
    "\n",
    "bary.r_eff_disk.prior = parameters.BoundedGaussianPrior(center=5.0, stddev=1.0)"
   ]
  },
  {
   "cell_type": "markdown",
   "metadata": {
    "collapsed": true
   },
   "source": [
    "### Halo component ###"
   ]
  },
  {
   "cell_type": "code",
   "execution_count": 10,
   "metadata": {},
   "outputs": [],
   "source": [
    "mvirial = 12.0\n",
    "conc = 5.0\n",
    "fdm = 0.5\n",
    "\n",
    "halo_fixed = {'mvirial': False,\n",
    "              'conc': True, \n",
    "              'fdm':  False}\n",
    "# Mvirial will be tied -- so must set 'fixed=False' for Mvirial...\n",
    "\n",
    "halo_bounds = {'mvirial': (10, 13),\n",
    "               'conc': (1, 20),\n",
    "               'fdm': (0, 1)}\n",
    "\n",
    "halo = models.NFW(mvirial=mvirial, conc=conc, fdm=fdm, z=gal.z,\n",
    "                  fixed=halo_fixed, bounds=halo_bounds, name='halo')\n",
    "\n",
    "\n",
    "halo.mvirial.tied = tie_lmvirial_NFW"
   ]
  },
  {
   "cell_type": "markdown",
   "metadata": {
    "collapsed": true
   },
   "source": [
    "### Dispersion profile ###"
   ]
  },
  {
   "cell_type": "code",
   "execution_count": 11,
   "metadata": {},
   "outputs": [],
   "source": [
    "sigma0 = 39.   # km/s\n",
    "disp_fixed = {'sigma0': False}\n",
    "disp_bounds = {'sigma0': (5, 300)}\n",
    "\n",
    "disp_prof = models.DispersionConst(sigma0=sigma0, fixed=disp_fixed,\n",
    "                                          bounds=disp_bounds, name='dispprof')"
   ]
  },
  {
   "cell_type": "markdown",
   "metadata": {
    "collapsed": true
   },
   "source": [
    "### z-height profile ###"
   ]
  },
  {
   "cell_type": "code",
   "execution_count": 12,
   "metadata": {},
   "outputs": [],
   "source": [
    "sigmaz = 0.9   # kpc\n",
    "zheight_fixed = {'sigmaz': False}\n",
    "\n",
    "zheight_prof = models.ZHeightGauss(sigmaz=sigmaz, name='zheightgaus',\n",
    "                                   fixed=zheight_fixed)\n",
    "zheight_prof.sigmaz.tied = tie_sigz_reff"
   ]
  },
  {
   "cell_type": "markdown",
   "metadata": {
    "collapsed": true
   },
   "source": [
    "### Geometry ###"
   ]
  },
  {
   "cell_type": "code",
   "execution_count": 13,
   "metadata": {},
   "outputs": [],
   "source": [
    "inc = 62.     # degrees\n",
    "pa = 142.     # degrees, blue-shifted side CCW from north\n",
    "xshift = 0    # pixels from center\n",
    "yshift = 0    # pixels from center\n",
    "vel_shift = 0 # velocity shift at center ; km/s\n",
    "geom_fixed = {'inc': False,\n",
    "              'pa': True,\n",
    "              'xshift': False,\n",
    "              'yshift': False,\n",
    "              'vel_shift': False}\n",
    "\n",
    "geom_bounds = {'inc': (0, 90),\n",
    "               'pa': (90, 180),\n",
    "               'xshift': (-2.5, 2.5),\n",
    "               'yshift': (-2.5, 2.5),\n",
    "               'vel_shift': (-100, 100)}\n",
    "\n",
    "geom = models.Geometry(inc=inc, pa=pa, xshift=xshift, yshift=yshift, vel_shift=vel_shift, \n",
    "                       fixed=geom_fixed, bounds=geom_bounds, name='geom')"
   ]
  },
  {
   "cell_type": "markdown",
   "metadata": {
    "collapsed": true
   },
   "source": [
    "## Add all model components to ModelSet ##"
   ]
  },
  {
   "cell_type": "code",
   "execution_count": 14,
   "metadata": {},
   "outputs": [],
   "source": [
    "# Add all of the model components to the ModelSet\n",
    "mod_set.add_component(bary, light=True)\n",
    "mod_set.add_component(halo)\n",
    "mod_set.add_component(disp_prof)\n",
    "mod_set.add_component(zheight_prof)\n",
    "mod_set.add_component(geom)"
   ]
  },
  {
   "cell_type": "markdown",
   "metadata": {
    "collapsed": true
   },
   "source": [
    "### Set kinematic options for calculating velocity profile ###"
   ]
  },
  {
   "cell_type": "code",
   "execution_count": 15,
   "metadata": {},
   "outputs": [],
   "source": [
    "mod_set.kinematic_options.adiabatic_contract = False\n",
    "mod_set.kinematic_options.pressure_support = True"
   ]
  },
  {
   "cell_type": "markdown",
   "metadata": {
    "collapsed": true
   },
   "source": [
    "### Set up the instrument ###"
   ]
  },
  {
   "cell_type": "code",
   "execution_count": 16,
   "metadata": {},
   "outputs": [],
   "source": [
    "beamsize = 0.55*u.arcsec                 # FWHM of beam\n",
    "sig_inst = 45*u.km/u.s                   # Instrumental spectral resolution\n",
    "\n",
    "beam = instrument.GaussianBeam(major=beamsize)\n",
    "lsf = instrument.LSF(sig_inst)\n",
    "\n",
    "inst.beam = beam\n",
    "inst.lsf = lsf\n",
    "inst.pixscale = 0.125*u.arcsec           # arcsec/pixel\n",
    "inst.fov = [27, 27]                      # (nx, ny) pixels\n",
    "inst.spec_type = 'velocity'              # 'velocity' or 'wavelength'\n",
    "inst.spec_step = 10*u.km/u.s             # Spectral step\n",
    "inst.spec_start = -1000*u.km/u.s         # Starting value of spectrum\n",
    "inst.nspec = 201                         # Number of spectral pixels\n",
    "\n",
    "# Set the beam kernel so it doesn't have to be calculated every step\n",
    "inst.set_beam_kernel()\n",
    "inst.set_lsf_kernel()"
   ]
  },
  {
   "cell_type": "markdown",
   "metadata": {},
   "source": [
    "## Add the model set, instrument to the Galaxy ##"
   ]
  },
  {
   "cell_type": "code",
   "execution_count": 17,
   "metadata": {},
   "outputs": [],
   "source": [
    "gal.model = mod_set\n",
    "gal.instrument = inst"
   ]
  },
  {
   "cell_type": "markdown",
   "metadata": {},
   "source": [
    "## Load data ##"
   ]
  },
  {
   "cell_type": "markdown",
   "metadata": {},
   "source": [
    "* Load the data from file:\n",
    "  - *2D velocity, dispersion maps and error*\n",
    "  - *A mask can be loaded / created as well*\n",
    "  \n",
    "* Put data in `Data2D` class\n",
    "\n",
    "* Add data to Galaxy object"
   ]
  },
  {
   "cell_type": "code",
   "execution_count": 18,
   "metadata": {},
   "outputs": [],
   "source": [
    "gal_vel = fits.getdata(data_dir+'GS4_43501_Ha_vm.fits')\n",
    "gal_disp = fits.getdata(data_dir+'GS4_43501_Ha_dm.fits')\n",
    "\n",
    "err_vel = fits.getdata(data_dir+'GS4_43501_Ha_vm_err.fits')\n",
    "err_disp = fits.getdata(data_dir+'GS4_43501_Ha_dm_err.fits')\n",
    "\n",
    "mask = fits.getdata(data_dir+'GS4_43501_Ha_m.fits')\n",
    "\n",
    "#gal_disp[(gal_disp > 1000.) | (~np.isfinite(gal_disp))] = -1e6\n",
    "#mask[(gs4_disp < 0)] = 0\n",
    "\n",
    "inst_corr = True                  # Flag for if the measured dispersion has been\n",
    "                                  # corrected for instrumental resolution\n",
    "\n",
    "# Mask NaNs:\n",
    "mask[~np.isfinite(gal_vel)] = 0\n",
    "gal_vel[~np.isfinite(gal_vel)] = 0.\n",
    "\n",
    "mask[~np.isfinite(err_vel)] = 0\n",
    "err_vel[~np.isfinite(err_vel)] = 0.\n",
    "\n",
    "mask[~np.isfinite(gal_disp)] = 0\n",
    "gal_disp[~np.isfinite(gal_disp)] = 0.\n",
    "\n",
    "mask[~np.isfinite(err_disp)] = 0\n",
    "err_disp[~np.isfinite(err_disp)] = 0.\n",
    "    \n",
    "\n",
    "# Put data in Data2D data class: \n",
    "#    ** specifies data pixscale as well **\n",
    "data2d = data_classes.Data2D(pixscale=inst.pixscale.value, velocity=gal_vel,\n",
    "                                  vel_disp=gal_disp, vel_err=err_vel,\n",
    "                                  vel_disp_err=err_disp, mask=mask, \n",
    "                                  inst_corr=inst_corr)\n",
    "\n",
    "# Add data to Galaxy object:\n",
    "#gal.data = data2d\n",
    "gal.data = copy.deepcopy(data2d)"
   ]
  },
  {
   "cell_type": "markdown",
   "metadata": {},
   "source": [
    "-----------------"
   ]
  },
  {
   "cell_type": "markdown",
   "metadata": {},
   "source": [
    "# MPFIT Fitting #"
   ]
  },
  {
   "cell_type": "markdown",
   "metadata": {},
   "source": [
    "## MPFIT fitting parameters: ##"
   ]
  },
  {
   "cell_type": "code",
   "execution_count": 19,
   "metadata": {},
   "outputs": [],
   "source": [
    "# Options passed to MPFIT:\n",
    "##maxiter = 200\n",
    "maxiter = 300\n",
    "\n",
    "# Other options:\n",
    "do_plotting = True       # Plot bestfit, corner, trace or not\n",
    "oversample = 1           # Factor by which to oversample model (eg, subpixels)\n",
    "fitdispersion = True     # Fit dispersion profile in addition to velocity\n",
    "\n",
    "outdir_mpfit = outdir+'MPFIT/'\n",
    "\n",
    "# Choose plot filetype:\n",
    "plot_type = 'png'"
   ]
  },
  {
   "cell_type": "markdown",
   "metadata": {},
   "source": [
    "## Run `Dysmalpy` fitting: MPFIT ##"
   ]
  },
  {
   "cell_type": "code",
   "execution_count": 20,
   "metadata": {},
   "outputs": [
    {
     "name": "stderr",
     "output_type": "stream",
     "text": [
      "INFO:DysmalPy:Making path=/Users/sedona/data/dysmalpy_test_examples/JUPYTER_OUTPUT_2D/MPFIT/\n",
      "INFO:DysmalPy:*************************************\n",
      "INFO:DysmalPy: Fitting: GS4_43501 using MPFIT\n",
      "INFO:DysmalPy:\n",
      "mvirial_tied: <function tie_lmvirial_NFW at 0x1a25882950>\n",
      "INFO:DysmalPy:nSubpixels: 1\n",
      "INFO:DysmalPy:\n",
      "MPFIT Fitting:\n",
      "Start: 2020-10-20 21:22:37.769627\n",
      "\n",
      "INFO:DysmalPy:Iter 1  CHI-SQUARE = 26647.73218  DOF = 404\n",
      "   disk+bulge:total_mass = 11  \n",
      "   disk+bulge:r_eff_disk = 5  \n",
      "   halo:fdm = 0.5  \n",
      "   dispprof:sigma0 = 39  \n",
      "   geom:inc = 62  \n",
      "   geom:xshift = 0  \n",
      "   geom:yshift = 0  \n",
      "   geom:vel_shift = 0  \n",
      "\n",
      "INFO:DysmalPy:Iter 2  CHI-SQUARE = 3024.312796  DOF = 404\n",
      "   disk+bulge:total_mass = 10.64842768  \n",
      "   disk+bulge:r_eff_disk = 2.650050557  \n",
      "   halo:fdm = 0.2244696351  \n",
      "   dispprof:sigma0 = 40.67299243  \n",
      "   geom:inc = 79.08989903  \n",
      "   geom:xshift = -0.008024195813  \n",
      "   geom:yshift = 0.01010131699  \n",
      "   geom:vel_shift = 25.01520909  \n",
      "\n",
      "INFO:DysmalPy:Iter 3  CHI-SQUARE = 1565.089145  DOF = 404\n",
      "   disk+bulge:total_mass = 10.53181467  \n",
      "   disk+bulge:r_eff_disk = 2.141832445  \n",
      "   halo:fdm = 0.263661141  \n",
      "   dispprof:sigma0 = 41.40416703  \n",
      "   geom:inc = 63.55148472  \n",
      "   geom:xshift = -0.003292147889  \n",
      "   geom:yshift = -0.01912284866  \n",
      "   geom:vel_shift = 23.94223577  \n",
      "\n",
      "INFO:DysmalPy:Iter 4  CHI-SQUARE = 1561.392437  DOF = 404\n",
      "   disk+bulge:total_mass = 10.61822909  \n",
      "   disk+bulge:r_eff_disk = 2.018800203  \n",
      "   halo:fdm = 0.2302713216  \n",
      "   dispprof:sigma0 = 42.49247022  \n",
      "   geom:inc = 53.21401873  \n",
      "   geom:xshift = -0.003291662906  \n",
      "   geom:yshift = -0.01912215827  \n",
      "   geom:vel_shift = 23.1039447  \n",
      "\n"
     ]
    },
    {
     "ename": "KeyboardInterrupt",
     "evalue": "",
     "output_type": "error",
     "traceback": [
      "\u001b[0;31m---------------------------------------------------------------------------\u001b[0m",
      "\u001b[0;31mKeyboardInterrupt\u001b[0m                         Traceback (most recent call last)",
      "\u001b[0;32m<ipython-input-20-f917578b18c9>\u001b[0m in \u001b[0;36m<module>\u001b[0;34m\u001b[0m\n\u001b[1;32m      4\u001b[0m                                         \u001b[0mdo_plotting\u001b[0m\u001b[0;34m=\u001b[0m\u001b[0mdo_plotting\u001b[0m\u001b[0;34m,\u001b[0m\u001b[0;34m\u001b[0m\u001b[0;34m\u001b[0m\u001b[0m\n\u001b[1;32m      5\u001b[0m                                         \u001b[0moutdir\u001b[0m\u001b[0;34m=\u001b[0m\u001b[0moutdir_mpfit\u001b[0m\u001b[0;34m,\u001b[0m\u001b[0;34m\u001b[0m\u001b[0;34m\u001b[0m\u001b[0m\n\u001b[0;32m----> 6\u001b[0;31m                                         plot_type=plot_type)\n\u001b[0m",
      "\u001b[0;32m~/software_public/dysmalpy/dysmalpy/fitting.py\u001b[0m in \u001b[0;36mfit_mpfit\u001b[0;34m(gal, oversample, oversize, fitdispersion, fitflux, use_weights, profile1d_type, model_key_re, model_key_halo, maxiter, do_plotting, save_model, save_bestfit_cube, save_data, outdir, f_model, f_cube, f_plot_bestfit, f_results, f_vel_ascii, f_log, blob_name, plot_type, overwrite)\u001b[0m\n\u001b[1;32m   1252\u001b[0m \u001b[0;34m\u001b[0m\u001b[0m\n\u001b[1;32m   1253\u001b[0m     m = mpfit(mpfit_chisq, parinfo=parinfo, functkw=fa, maxiter=maxiter,\n\u001b[0;32m-> 1254\u001b[0;31m               iterfunct=mpfit_printer, iterkw={'logger': logger})\n\u001b[0m\u001b[1;32m   1255\u001b[0m \u001b[0;34m\u001b[0m\u001b[0m\n\u001b[1;32m   1256\u001b[0m     \u001b[0mend\u001b[0m \u001b[0;34m=\u001b[0m \u001b[0mtime\u001b[0m\u001b[0;34m.\u001b[0m\u001b[0mtime\u001b[0m\u001b[0;34m(\u001b[0m\u001b[0;34m)\u001b[0m\u001b[0;34m\u001b[0m\u001b[0;34m\u001b[0m\u001b[0m\n",
      "\u001b[0;32m~/software_public/dysmalpy/dysmalpy/extern/mpfit.py\u001b[0m in \u001b[0;36m__init__\u001b[0;34m(self, fcn, xall, functkw, parinfo, ftol, xtol, gtol, damp, maxiter, factor, nprint, iterfunct, iterkw, nocovar, rescale, autoderivative, quiet, diag, epsfcn, debug)\u001b[0m\n\u001b[1;32m   1065\u001b[0m                           \u001b[0mepsfcn\u001b[0m\u001b[0;34m=\u001b[0m\u001b[0mepsfcn\u001b[0m\u001b[0;34m,\u001b[0m\u001b[0;34m\u001b[0m\u001b[0;34m\u001b[0m\u001b[0m\n\u001b[1;32m   1066\u001b[0m                           \u001b[0mautoderivative\u001b[0m\u001b[0;34m=\u001b[0m\u001b[0mautoderivative\u001b[0m\u001b[0;34m,\u001b[0m \u001b[0mdstep\u001b[0m\u001b[0;34m=\u001b[0m\u001b[0mdstep\u001b[0m\u001b[0;34m,\u001b[0m\u001b[0;34m\u001b[0m\u001b[0;34m\u001b[0m\u001b[0m\n\u001b[0;32m-> 1067\u001b[0;31m                           functkw=functkw, ifree=ifree, xall=self.params)\n\u001b[0m\u001b[1;32m   1068\u001b[0m             \u001b[0;32mif\u001b[0m \u001b[0mfjac\u001b[0m \u001b[0;32mis\u001b[0m \u001b[0;32mNone\u001b[0m\u001b[0;34m:\u001b[0m\u001b[0;34m\u001b[0m\u001b[0;34m\u001b[0m\u001b[0m\n\u001b[1;32m   1069\u001b[0m                 \u001b[0mself\u001b[0m\u001b[0;34m.\u001b[0m\u001b[0merrmsg\u001b[0m \u001b[0;34m=\u001b[0m \u001b[0;34m'WARNING: premature termination by FDJAC2'\u001b[0m\u001b[0;34m\u001b[0m\u001b[0;34m\u001b[0m\u001b[0m\n",
      "\u001b[0;32m~/software_public/dysmalpy/dysmalpy/extern/mpfit.py\u001b[0m in \u001b[0;36mfdjac2\u001b[0;34m(self, fcn, x, fvec, step, ulimited, ulimit, dside, epsfcn, autoderivative, functkw, xall, ifree, dstep)\u001b[0m\n\u001b[1;32m   1579\u001b[0m             \u001b[0mxp\u001b[0m \u001b[0;34m=\u001b[0m \u001b[0mxall\u001b[0m\u001b[0;34m.\u001b[0m\u001b[0mcopy\u001b[0m\u001b[0;34m(\u001b[0m\u001b[0;34m)\u001b[0m\u001b[0;34m\u001b[0m\u001b[0;34m\u001b[0m\u001b[0m\n\u001b[1;32m   1580\u001b[0m             \u001b[0mxp\u001b[0m\u001b[0;34m[\u001b[0m\u001b[0mifree\u001b[0m\u001b[0;34m[\u001b[0m\u001b[0mj\u001b[0m\u001b[0;34m]\u001b[0m\u001b[0;34m]\u001b[0m \u001b[0;34m=\u001b[0m \u001b[0mxp\u001b[0m\u001b[0;34m[\u001b[0m\u001b[0mifree\u001b[0m\u001b[0;34m[\u001b[0m\u001b[0mj\u001b[0m\u001b[0;34m]\u001b[0m\u001b[0;34m]\u001b[0m \u001b[0;34m+\u001b[0m \u001b[0mh\u001b[0m\u001b[0;34m[\u001b[0m\u001b[0mj\u001b[0m\u001b[0;34m]\u001b[0m\u001b[0;34m\u001b[0m\u001b[0;34m\u001b[0m\u001b[0m\n\u001b[0;32m-> 1581\u001b[0;31m             \u001b[0;34m[\u001b[0m\u001b[0mstatus\u001b[0m\u001b[0;34m,\u001b[0m \u001b[0mfp\u001b[0m\u001b[0;34m]\u001b[0m \u001b[0;34m=\u001b[0m \u001b[0mself\u001b[0m\u001b[0;34m.\u001b[0m\u001b[0mcall\u001b[0m\u001b[0;34m(\u001b[0m\u001b[0mfcn\u001b[0m\u001b[0;34m,\u001b[0m \u001b[0mxp\u001b[0m\u001b[0;34m,\u001b[0m \u001b[0mfunctkw\u001b[0m\u001b[0;34m)\u001b[0m\u001b[0;34m\u001b[0m\u001b[0;34m\u001b[0m\u001b[0m\n\u001b[0m\u001b[1;32m   1582\u001b[0m             \u001b[0;32mif\u001b[0m \u001b[0mstatus\u001b[0m \u001b[0;34m<\u001b[0m \u001b[0;36m0\u001b[0m\u001b[0;34m:\u001b[0m\u001b[0;34m\u001b[0m\u001b[0;34m\u001b[0m\u001b[0m\n\u001b[1;32m   1583\u001b[0m                 \u001b[0;32mreturn\u001b[0m \u001b[0;32mNone\u001b[0m\u001b[0;34m\u001b[0m\u001b[0;34m\u001b[0m\u001b[0m\n",
      "\u001b[0;32m~/software_public/dysmalpy/dysmalpy/extern/mpfit.py\u001b[0m in \u001b[0;36mcall\u001b[0;34m(self, fcn, x, functkw, fjac)\u001b[0m\n\u001b[1;32m   1483\u001b[0m         \u001b[0mself\u001b[0m\u001b[0;34m.\u001b[0m\u001b[0mnfev\u001b[0m \u001b[0;34m=\u001b[0m \u001b[0mself\u001b[0m\u001b[0;34m.\u001b[0m\u001b[0mnfev\u001b[0m \u001b[0;34m+\u001b[0m \u001b[0;36m1\u001b[0m\u001b[0;34m\u001b[0m\u001b[0;34m\u001b[0m\u001b[0m\n\u001b[1;32m   1484\u001b[0m         \u001b[0;32mif\u001b[0m \u001b[0mfjac\u001b[0m \u001b[0;32mis\u001b[0m \u001b[0;32mNone\u001b[0m\u001b[0;34m:\u001b[0m\u001b[0;34m\u001b[0m\u001b[0;34m\u001b[0m\u001b[0m\n\u001b[0;32m-> 1485\u001b[0;31m             \u001b[0;34m[\u001b[0m\u001b[0mstatus\u001b[0m\u001b[0;34m,\u001b[0m \u001b[0mf\u001b[0m\u001b[0;34m]\u001b[0m \u001b[0;34m=\u001b[0m \u001b[0mfcn\u001b[0m\u001b[0;34m(\u001b[0m\u001b[0mx\u001b[0m\u001b[0;34m,\u001b[0m \u001b[0mfjac\u001b[0m\u001b[0;34m=\u001b[0m\u001b[0mfjac\u001b[0m\u001b[0;34m,\u001b[0m \u001b[0;34m**\u001b[0m\u001b[0mfunctkw\u001b[0m\u001b[0;34m)\u001b[0m\u001b[0;34m\u001b[0m\u001b[0;34m\u001b[0m\u001b[0m\n\u001b[0m\u001b[1;32m   1486\u001b[0m             \u001b[0;32mif\u001b[0m \u001b[0mself\u001b[0m\u001b[0;34m.\u001b[0m\u001b[0mdamp\u001b[0m \u001b[0;34m>\u001b[0m \u001b[0;36m0\u001b[0m\u001b[0;34m:\u001b[0m\u001b[0;34m\u001b[0m\u001b[0;34m\u001b[0m\u001b[0m\n\u001b[1;32m   1487\u001b[0m                 \u001b[0;31m# Apply the damping if requested.  This replaces the residuals\u001b[0m\u001b[0;34m\u001b[0m\u001b[0;34m\u001b[0m\u001b[0;34m\u001b[0m\u001b[0m\n",
      "\u001b[0;32m~/software_public/dysmalpy/dysmalpy/fitting.py\u001b[0m in \u001b[0;36mmpfit_chisq\u001b[0;34m(theta, fjac, gal, fitdispersion, fitflux, profile1d_type, oversample, oversize, use_weights)\u001b[0m\n\u001b[1;32m   2621\u001b[0m \u001b[0;34m\u001b[0m\u001b[0m\n\u001b[1;32m   2622\u001b[0m     \u001b[0mgal\u001b[0m\u001b[0;34m.\u001b[0m\u001b[0mmodel\u001b[0m\u001b[0;34m.\u001b[0m\u001b[0mupdate_parameters\u001b[0m\u001b[0;34m(\u001b[0m\u001b[0mtheta\u001b[0m\u001b[0;34m)\u001b[0m\u001b[0;34m\u001b[0m\u001b[0;34m\u001b[0m\u001b[0m\n\u001b[0;32m-> 2623\u001b[0;31m     \u001b[0mgal\u001b[0m\u001b[0;34m.\u001b[0m\u001b[0mcreate_model_data\u001b[0m\u001b[0;34m(\u001b[0m\u001b[0mprofile1d_type\u001b[0m\u001b[0;34m=\u001b[0m\u001b[0mprofile1d_type\u001b[0m\u001b[0;34m,\u001b[0m \u001b[0moversize\u001b[0m\u001b[0;34m=\u001b[0m\u001b[0moversize\u001b[0m\u001b[0;34m,\u001b[0m \u001b[0moversample\u001b[0m\u001b[0;34m=\u001b[0m\u001b[0moversample\u001b[0m\u001b[0;34m)\u001b[0m\u001b[0;34m\u001b[0m\u001b[0;34m\u001b[0m\u001b[0m\n\u001b[0m\u001b[1;32m   2624\u001b[0m \u001b[0;34m\u001b[0m\u001b[0m\n\u001b[1;32m   2625\u001b[0m     \u001b[0;32mif\u001b[0m \u001b[0mgal\u001b[0m\u001b[0;34m.\u001b[0m\u001b[0mdata\u001b[0m\u001b[0;34m.\u001b[0m\u001b[0mndim\u001b[0m \u001b[0;34m==\u001b[0m \u001b[0;36m3\u001b[0m\u001b[0;34m:\u001b[0m\u001b[0;34m\u001b[0m\u001b[0;34m\u001b[0m\u001b[0m\n",
      "\u001b[0;32m~/software_public/dysmalpy/dysmalpy/galaxy.py\u001b[0m in \u001b[0;36mcreate_model_data\u001b[0;34m(self, ndim_final, nx_sky, ny_sky, rstep, spec_type, spec_step, spec_start, nspec, line_center, spec_unit, aper_centers, aper_dist, slit_width, slit_pa, profile1d_type, from_instrument, from_data, oversample, oversize, debug, aperture_radius, pix_perp, pix_parallel, pix_length, skip_downsample, partial_aperture_weight, xcenter, ycenter)\u001b[0m\n\u001b[1;32m    444\u001b[0m \u001b[0;34m\u001b[0m\u001b[0m\n\u001b[1;32m    445\u001b[0m                             best_fit = fitter(mod, self.model_cube.data.spectral_axis.to(u.km/u.s).value, \n\u001b[0;32m--> 446\u001b[0;31m                                         self.model_cube.data.unmasked_data[:,i,j].value)\n\u001b[0m\u001b[1;32m    447\u001b[0m \u001b[0;34m\u001b[0m\u001b[0m\n\u001b[1;32m    448\u001b[0m                             \u001b[0mvel\u001b[0m\u001b[0;34m[\u001b[0m\u001b[0mi\u001b[0m\u001b[0;34m,\u001b[0m\u001b[0mj\u001b[0m\u001b[0;34m]\u001b[0m \u001b[0;34m=\u001b[0m \u001b[0mbest_fit\u001b[0m\u001b[0;34m.\u001b[0m\u001b[0mmean\u001b[0m\u001b[0;34m.\u001b[0m\u001b[0mvalue\u001b[0m\u001b[0;34m\u001b[0m\u001b[0;34m\u001b[0m\u001b[0m\n",
      "\u001b[0;32m/Applications/anaconda/envs/py36_apy_v401/lib/python3.6/site-packages/astropy/modeling/fitting.py\u001b[0m in \u001b[0;36mwrapper\u001b[0;34m(self, model, x, y, z, **kwargs)\u001b[0m\n\u001b[1;32m    173\u001b[0m         \u001b[0;32melse\u001b[0m\u001b[0;34m:\u001b[0m\u001b[0;34m\u001b[0m\u001b[0;34m\u001b[0m\u001b[0m\n\u001b[1;32m    174\u001b[0m \u001b[0;34m\u001b[0m\u001b[0m\n\u001b[0;32m--> 175\u001b[0;31m             \u001b[0;32mreturn\u001b[0m \u001b[0mfunc\u001b[0m\u001b[0;34m(\u001b[0m\u001b[0mself\u001b[0m\u001b[0;34m,\u001b[0m \u001b[0mmodel\u001b[0m\u001b[0;34m,\u001b[0m \u001b[0mx\u001b[0m\u001b[0;34m,\u001b[0m \u001b[0my\u001b[0m\u001b[0;34m,\u001b[0m \u001b[0mz\u001b[0m\u001b[0;34m=\u001b[0m\u001b[0mz\u001b[0m\u001b[0;34m,\u001b[0m \u001b[0;34m**\u001b[0m\u001b[0mkwargs\u001b[0m\u001b[0;34m)\u001b[0m\u001b[0;34m\u001b[0m\u001b[0;34m\u001b[0m\u001b[0m\n\u001b[0m\u001b[1;32m    176\u001b[0m \u001b[0;34m\u001b[0m\u001b[0m\n\u001b[1;32m    177\u001b[0m     \u001b[0;32mreturn\u001b[0m \u001b[0mwrapper\u001b[0m\u001b[0;34m\u001b[0m\u001b[0;34m\u001b[0m\u001b[0m\n",
      "\u001b[0;32m/Applications/anaconda/envs/py36_apy_v401/lib/python3.6/site-packages/astropy/modeling/fitting.py\u001b[0m in \u001b[0;36m__call__\u001b[0;34m(self, model, x, y, z, weights, maxiter, acc, epsilon, estimate_jacobian)\u001b[0m\n\u001b[1;32m    895\u001b[0m         \u001b[0;31m# now try to compute the true covariance matrix\u001b[0m\u001b[0;34m\u001b[0m\u001b[0;34m\u001b[0m\u001b[0;34m\u001b[0m\u001b[0m\n\u001b[1;32m    896\u001b[0m         \u001b[0;32mif\u001b[0m \u001b[0;34m(\u001b[0m\u001b[0mlen\u001b[0m\u001b[0;34m(\u001b[0m\u001b[0my\u001b[0m\u001b[0;34m)\u001b[0m \u001b[0;34m>\u001b[0m \u001b[0mlen\u001b[0m\u001b[0;34m(\u001b[0m\u001b[0minit_values\u001b[0m\u001b[0;34m)\u001b[0m\u001b[0;34m)\u001b[0m \u001b[0;32mand\u001b[0m \u001b[0mcov_x\u001b[0m \u001b[0;32mis\u001b[0m \u001b[0;32mnot\u001b[0m \u001b[0;32mNone\u001b[0m\u001b[0;34m:\u001b[0m\u001b[0;34m\u001b[0m\u001b[0;34m\u001b[0m\u001b[0m\n\u001b[0;32m--> 897\u001b[0;31m             \u001b[0msum_sqrs\u001b[0m \u001b[0;34m=\u001b[0m \u001b[0mnp\u001b[0m\u001b[0;34m.\u001b[0m\u001b[0msum\u001b[0m\u001b[0;34m(\u001b[0m\u001b[0mself\u001b[0m\u001b[0;34m.\u001b[0m\u001b[0mobjective_function\u001b[0m\u001b[0;34m(\u001b[0m\u001b[0mfitparams\u001b[0m\u001b[0;34m,\u001b[0m \u001b[0;34m*\u001b[0m\u001b[0mfarg\u001b[0m\u001b[0;34m)\u001b[0m\u001b[0;34m**\u001b[0m\u001b[0;36m2\u001b[0m\u001b[0;34m)\u001b[0m\u001b[0;34m\u001b[0m\u001b[0;34m\u001b[0m\u001b[0m\n\u001b[0m\u001b[1;32m    898\u001b[0m             \u001b[0mdof\u001b[0m \u001b[0;34m=\u001b[0m \u001b[0mlen\u001b[0m\u001b[0;34m(\u001b[0m\u001b[0my\u001b[0m\u001b[0;34m)\u001b[0m \u001b[0;34m-\u001b[0m \u001b[0mlen\u001b[0m\u001b[0;34m(\u001b[0m\u001b[0minit_values\u001b[0m\u001b[0;34m)\u001b[0m\u001b[0;34m\u001b[0m\u001b[0;34m\u001b[0m\u001b[0m\n\u001b[1;32m    899\u001b[0m             \u001b[0mself\u001b[0m\u001b[0;34m.\u001b[0m\u001b[0mfit_info\u001b[0m\u001b[0;34m[\u001b[0m\u001b[0;34m'param_cov'\u001b[0m\u001b[0;34m]\u001b[0m \u001b[0;34m=\u001b[0m \u001b[0mcov_x\u001b[0m \u001b[0;34m*\u001b[0m \u001b[0msum_sqrs\u001b[0m \u001b[0;34m/\u001b[0m \u001b[0mdof\u001b[0m\u001b[0;34m\u001b[0m\u001b[0;34m\u001b[0m\u001b[0m\n",
      "\u001b[0;32m/Applications/anaconda/envs/py36_apy_v401/lib/python3.6/site-packages/astropy/modeling/fitting.py\u001b[0m in \u001b[0;36mobjective_function\u001b[0;34m(self, fps, *args)\u001b[0m\n\u001b[1;32m    818\u001b[0m         \u001b[0mmodel\u001b[0m \u001b[0;34m=\u001b[0m \u001b[0margs\u001b[0m\u001b[0;34m[\u001b[0m\u001b[0;36m0\u001b[0m\u001b[0;34m]\u001b[0m\u001b[0;34m\u001b[0m\u001b[0;34m\u001b[0m\u001b[0m\n\u001b[1;32m    819\u001b[0m         \u001b[0mweights\u001b[0m \u001b[0;34m=\u001b[0m \u001b[0margs\u001b[0m\u001b[0;34m[\u001b[0m\u001b[0;36m1\u001b[0m\u001b[0;34m]\u001b[0m\u001b[0;34m\u001b[0m\u001b[0;34m\u001b[0m\u001b[0m\n\u001b[0;32m--> 820\u001b[0;31m         \u001b[0m_fitter_to_model_params\u001b[0m\u001b[0;34m(\u001b[0m\u001b[0mmodel\u001b[0m\u001b[0;34m,\u001b[0m \u001b[0mfps\u001b[0m\u001b[0;34m)\u001b[0m\u001b[0;34m\u001b[0m\u001b[0;34m\u001b[0m\u001b[0m\n\u001b[0m\u001b[1;32m    821\u001b[0m         \u001b[0mmeas\u001b[0m \u001b[0;34m=\u001b[0m \u001b[0margs\u001b[0m\u001b[0;34m[\u001b[0m\u001b[0;34m-\u001b[0m\u001b[0;36m1\u001b[0m\u001b[0;34m]\u001b[0m\u001b[0;34m\u001b[0m\u001b[0;34m\u001b[0m\u001b[0m\n\u001b[1;32m    822\u001b[0m         \u001b[0;32mif\u001b[0m \u001b[0mweights\u001b[0m \u001b[0;32mis\u001b[0m \u001b[0;32mNone\u001b[0m\u001b[0;34m:\u001b[0m\u001b[0;34m\u001b[0m\u001b[0;34m\u001b[0m\u001b[0m\n",
      "\u001b[0;32m/Applications/anaconda/envs/py36_apy_v401/lib/python3.6/site-packages/astropy/modeling/fitting.py\u001b[0m in \u001b[0;36m_fitter_to_model_params\u001b[0;34m(model, fps)\u001b[0m\n\u001b[1;32m   1300\u001b[0m     \"\"\"\n\u001b[1;32m   1301\u001b[0m \u001b[0;34m\u001b[0m\u001b[0m\n\u001b[0;32m-> 1302\u001b[0;31m     \u001b[0m_\u001b[0m\u001b[0;34m,\u001b[0m \u001b[0mfit_param_indices\u001b[0m \u001b[0;34m=\u001b[0m \u001b[0m_model_to_fit_params\u001b[0m\u001b[0;34m(\u001b[0m\u001b[0mmodel\u001b[0m\u001b[0;34m)\u001b[0m\u001b[0;34m\u001b[0m\u001b[0;34m\u001b[0m\u001b[0m\n\u001b[0m\u001b[1;32m   1303\u001b[0m \u001b[0;34m\u001b[0m\u001b[0m\n\u001b[1;32m   1304\u001b[0m     \u001b[0mhas_tied\u001b[0m \u001b[0;34m=\u001b[0m \u001b[0many\u001b[0m\u001b[0;34m(\u001b[0m\u001b[0mmodel\u001b[0m\u001b[0;34m.\u001b[0m\u001b[0mtied\u001b[0m\u001b[0;34m.\u001b[0m\u001b[0mvalues\u001b[0m\u001b[0;34m(\u001b[0m\u001b[0;34m)\u001b[0m\u001b[0;34m)\u001b[0m\u001b[0;34m\u001b[0m\u001b[0;34m\u001b[0m\u001b[0m\n",
      "\u001b[0;32m/Applications/anaconda/envs/py36_apy_v401/lib/python3.6/site-packages/astropy/modeling/fitting.py\u001b[0m in \u001b[0;36m_model_to_fit_params\u001b[0;34m(model)\u001b[0m\n\u001b[1;32m   1369\u001b[0m \u001b[0;34m\u001b[0m\u001b[0m\n\u001b[1;32m   1370\u001b[0m     \u001b[0mfitparam_indices\u001b[0m \u001b[0;34m=\u001b[0m \u001b[0mlist\u001b[0m\u001b[0;34m(\u001b[0m\u001b[0mrange\u001b[0m\u001b[0;34m(\u001b[0m\u001b[0mlen\u001b[0m\u001b[0;34m(\u001b[0m\u001b[0mmodel\u001b[0m\u001b[0;34m.\u001b[0m\u001b[0mparam_names\u001b[0m\u001b[0;34m)\u001b[0m\u001b[0;34m)\u001b[0m\u001b[0;34m)\u001b[0m\u001b[0;34m\u001b[0m\u001b[0;34m\u001b[0m\u001b[0m\n\u001b[0;32m-> 1371\u001b[0;31m     \u001b[0;32mif\u001b[0m \u001b[0many\u001b[0m\u001b[0;34m(\u001b[0m\u001b[0mmodel\u001b[0m\u001b[0;34m.\u001b[0m\u001b[0mfixed\u001b[0m\u001b[0;34m.\u001b[0m\u001b[0mvalues\u001b[0m\u001b[0;34m(\u001b[0m\u001b[0;34m)\u001b[0m\u001b[0;34m)\u001b[0m \u001b[0;32mor\u001b[0m \u001b[0many\u001b[0m\u001b[0;34m(\u001b[0m\u001b[0mmodel\u001b[0m\u001b[0;34m.\u001b[0m\u001b[0mtied\u001b[0m\u001b[0;34m.\u001b[0m\u001b[0mvalues\u001b[0m\u001b[0;34m(\u001b[0m\u001b[0;34m)\u001b[0m\u001b[0;34m)\u001b[0m\u001b[0;34m:\u001b[0m\u001b[0;34m\u001b[0m\u001b[0;34m\u001b[0m\u001b[0m\n\u001b[0m\u001b[1;32m   1372\u001b[0m         \u001b[0mparams\u001b[0m \u001b[0;34m=\u001b[0m \u001b[0mlist\u001b[0m\u001b[0;34m(\u001b[0m\u001b[0mmodel\u001b[0m\u001b[0;34m.\u001b[0m\u001b[0mparameters\u001b[0m\u001b[0;34m)\u001b[0m\u001b[0;34m\u001b[0m\u001b[0;34m\u001b[0m\u001b[0m\n\u001b[1;32m   1373\u001b[0m         \u001b[0mparam_metrics\u001b[0m \u001b[0;34m=\u001b[0m \u001b[0mmodel\u001b[0m\u001b[0;34m.\u001b[0m\u001b[0m_param_metrics\u001b[0m\u001b[0;34m\u001b[0m\u001b[0;34m\u001b[0m\u001b[0m\n",
      "\u001b[0;32m/Applications/anaconda/envs/py36_apy_v401/lib/python3.6/site-packages/astropy/modeling/core.py\u001b[0m in \u001b[0;36mtied\u001b[0;34m(self)\u001b[0m\n\u001b[1;32m   1073\u001b[0m         \"\"\"\n\u001b[1;32m   1074\u001b[0m \u001b[0;34m\u001b[0m\u001b[0m\n\u001b[0;32m-> 1075\u001b[0;31m         \u001b[0;32mreturn\u001b[0m \u001b[0m_ConstraintsDict\u001b[0m\u001b[0;34m(\u001b[0m\u001b[0mself\u001b[0m\u001b[0;34m,\u001b[0m \u001b[0;34m'tied'\u001b[0m\u001b[0;34m)\u001b[0m\u001b[0;34m\u001b[0m\u001b[0;34m\u001b[0m\u001b[0m\n\u001b[0m\u001b[1;32m   1076\u001b[0m \u001b[0;34m\u001b[0m\u001b[0m\n\u001b[1;32m   1077\u001b[0m     \u001b[0;34m@\u001b[0m\u001b[0mproperty\u001b[0m\u001b[0;34m\u001b[0m\u001b[0;34m\u001b[0m\u001b[0m\n",
      "\u001b[0;32m/Applications/anaconda/envs/py36_apy_v401/lib/python3.6/site-packages/astropy/modeling/utils.py\u001b[0m in \u001b[0;36m__init__\u001b[0;34m(self, model, constraint_type)\u001b[0m\n\u001b[1;32m    746\u001b[0m             \u001b[0mparam\u001b[0m \u001b[0;34m=\u001b[0m \u001b[0mgetattr\u001b[0m\u001b[0;34m(\u001b[0m\u001b[0mmodel\u001b[0m\u001b[0;34m,\u001b[0m \u001b[0mname\u001b[0m\u001b[0;34m)\u001b[0m\u001b[0;34m\u001b[0m\u001b[0;34m\u001b[0m\u001b[0m\n\u001b[1;32m    747\u001b[0m             \u001b[0mc\u001b[0m\u001b[0;34m[\u001b[0m\u001b[0mname\u001b[0m\u001b[0;34m]\u001b[0m \u001b[0;34m=\u001b[0m \u001b[0mgetattr\u001b[0m\u001b[0;34m(\u001b[0m\u001b[0mparam\u001b[0m\u001b[0;34m,\u001b[0m \u001b[0mconstraint_type\u001b[0m\u001b[0;34m)\u001b[0m\u001b[0;34m\u001b[0m\u001b[0;34m\u001b[0m\u001b[0m\n\u001b[0;32m--> 748\u001b[0;31m         \u001b[0msuper\u001b[0m\u001b[0;34m(\u001b[0m\u001b[0;34m)\u001b[0m\u001b[0;34m.\u001b[0m\u001b[0m__init__\u001b[0m\u001b[0;34m(\u001b[0m\u001b[0mc\u001b[0m\u001b[0;34m)\u001b[0m\u001b[0;34m\u001b[0m\u001b[0;34m\u001b[0m\u001b[0m\n\u001b[0m\u001b[1;32m    749\u001b[0m \u001b[0;34m\u001b[0m\u001b[0m\n\u001b[1;32m    750\u001b[0m     \u001b[0;32mdef\u001b[0m \u001b[0m__setitem__\u001b[0m\u001b[0;34m(\u001b[0m\u001b[0mself\u001b[0m\u001b[0;34m,\u001b[0m \u001b[0mkey\u001b[0m\u001b[0;34m,\u001b[0m \u001b[0mval\u001b[0m\u001b[0;34m)\u001b[0m\u001b[0;34m:\u001b[0m\u001b[0;34m\u001b[0m\u001b[0;34m\u001b[0m\u001b[0m\n",
      "\u001b[0;32m/Applications/anaconda/envs/py36_apy_v401/lib/python3.6/collections/__init__.py\u001b[0m in \u001b[0;36m__init__\u001b[0;34m(*args, **kwargs)\u001b[0m\n\u001b[1;32m    980\u001b[0m         \u001b[0mself\u001b[0m\u001b[0;34m.\u001b[0m\u001b[0mdata\u001b[0m \u001b[0;34m=\u001b[0m \u001b[0;34m{\u001b[0m\u001b[0;34m}\u001b[0m\u001b[0;34m\u001b[0m\u001b[0;34m\u001b[0m\u001b[0m\n\u001b[1;32m    981\u001b[0m         \u001b[0;32mif\u001b[0m \u001b[0mdict\u001b[0m \u001b[0;32mis\u001b[0m \u001b[0;32mnot\u001b[0m \u001b[0;32mNone\u001b[0m\u001b[0;34m:\u001b[0m\u001b[0;34m\u001b[0m\u001b[0;34m\u001b[0m\u001b[0m\n\u001b[0;32m--> 982\u001b[0;31m             \u001b[0mself\u001b[0m\u001b[0;34m.\u001b[0m\u001b[0mupdate\u001b[0m\u001b[0;34m(\u001b[0m\u001b[0mdict\u001b[0m\u001b[0;34m)\u001b[0m\u001b[0;34m\u001b[0m\u001b[0;34m\u001b[0m\u001b[0m\n\u001b[0m\u001b[1;32m    983\u001b[0m         \u001b[0;32mif\u001b[0m \u001b[0mlen\u001b[0m\u001b[0;34m(\u001b[0m\u001b[0mkwargs\u001b[0m\u001b[0;34m)\u001b[0m\u001b[0;34m:\u001b[0m\u001b[0;34m\u001b[0m\u001b[0;34m\u001b[0m\u001b[0m\n\u001b[1;32m    984\u001b[0m             \u001b[0mself\u001b[0m\u001b[0;34m.\u001b[0m\u001b[0mupdate\u001b[0m\u001b[0;34m(\u001b[0m\u001b[0mkwargs\u001b[0m\u001b[0;34m)\u001b[0m\u001b[0;34m\u001b[0m\u001b[0;34m\u001b[0m\u001b[0m\n",
      "\u001b[0;32m/Applications/anaconda/envs/py36_apy_v401/lib/python3.6/_collections_abc.py\u001b[0m in \u001b[0;36mupdate\u001b[0;34m(*args, **kwds)\u001b[0m\n\u001b[1;32m    837\u001b[0m         \u001b[0;32mif\u001b[0m \u001b[0margs\u001b[0m\u001b[0;34m:\u001b[0m\u001b[0;34m\u001b[0m\u001b[0;34m\u001b[0m\u001b[0m\n\u001b[1;32m    838\u001b[0m             \u001b[0mother\u001b[0m \u001b[0;34m=\u001b[0m \u001b[0margs\u001b[0m\u001b[0;34m[\u001b[0m\u001b[0;36m0\u001b[0m\u001b[0;34m]\u001b[0m\u001b[0;34m\u001b[0m\u001b[0;34m\u001b[0m\u001b[0m\n\u001b[0;32m--> 839\u001b[0;31m             \u001b[0;32mif\u001b[0m \u001b[0misinstance\u001b[0m\u001b[0;34m(\u001b[0m\u001b[0mother\u001b[0m\u001b[0;34m,\u001b[0m \u001b[0mMapping\u001b[0m\u001b[0;34m)\u001b[0m\u001b[0;34m:\u001b[0m\u001b[0;34m\u001b[0m\u001b[0;34m\u001b[0m\u001b[0m\n\u001b[0m\u001b[1;32m    840\u001b[0m                 \u001b[0;32mfor\u001b[0m \u001b[0mkey\u001b[0m \u001b[0;32min\u001b[0m \u001b[0mother\u001b[0m\u001b[0;34m:\u001b[0m\u001b[0;34m\u001b[0m\u001b[0;34m\u001b[0m\u001b[0m\n\u001b[1;32m    841\u001b[0m                     \u001b[0mself\u001b[0m\u001b[0;34m[\u001b[0m\u001b[0mkey\u001b[0m\u001b[0;34m]\u001b[0m \u001b[0;34m=\u001b[0m \u001b[0mother\u001b[0m\u001b[0;34m[\u001b[0m\u001b[0mkey\u001b[0m\u001b[0;34m]\u001b[0m\u001b[0;34m\u001b[0m\u001b[0;34m\u001b[0m\u001b[0m\n",
      "\u001b[0;32m/Applications/anaconda/envs/py36_apy_v401/lib/python3.6/abc.py\u001b[0m in \u001b[0;36m__instancecheck__\u001b[0;34m(cls, instance)\u001b[0m\n\u001b[1;32m    182\u001b[0m         \u001b[0;31m# Inline the cache checking\u001b[0m\u001b[0;34m\u001b[0m\u001b[0;34m\u001b[0m\u001b[0;34m\u001b[0m\u001b[0m\n\u001b[1;32m    183\u001b[0m         \u001b[0msubclass\u001b[0m \u001b[0;34m=\u001b[0m \u001b[0minstance\u001b[0m\u001b[0;34m.\u001b[0m\u001b[0m__class__\u001b[0m\u001b[0;34m\u001b[0m\u001b[0;34m\u001b[0m\u001b[0m\n\u001b[0;32m--> 184\u001b[0;31m         \u001b[0;32mif\u001b[0m \u001b[0msubclass\u001b[0m \u001b[0;32min\u001b[0m \u001b[0mcls\u001b[0m\u001b[0;34m.\u001b[0m\u001b[0m_abc_cache\u001b[0m\u001b[0;34m:\u001b[0m\u001b[0;34m\u001b[0m\u001b[0;34m\u001b[0m\u001b[0m\n\u001b[0m\u001b[1;32m    185\u001b[0m             \u001b[0;32mreturn\u001b[0m \u001b[0;32mTrue\u001b[0m\u001b[0;34m\u001b[0m\u001b[0;34m\u001b[0m\u001b[0m\n\u001b[1;32m    186\u001b[0m         \u001b[0msubtype\u001b[0m \u001b[0;34m=\u001b[0m \u001b[0mtype\u001b[0m\u001b[0;34m(\u001b[0m\u001b[0minstance\u001b[0m\u001b[0;34m)\u001b[0m\u001b[0;34m\u001b[0m\u001b[0;34m\u001b[0m\u001b[0m\n",
      "\u001b[0;32m/Applications/anaconda/envs/py36_apy_v401/lib/python3.6/_weakrefset.py\u001b[0m in \u001b[0;36m__contains__\u001b[0;34m(self, item)\u001b[0m\n\u001b[1;32m     73\u001b[0m         \u001b[0;32mexcept\u001b[0m \u001b[0mTypeError\u001b[0m\u001b[0;34m:\u001b[0m\u001b[0;34m\u001b[0m\u001b[0;34m\u001b[0m\u001b[0m\n\u001b[1;32m     74\u001b[0m             \u001b[0;32mreturn\u001b[0m \u001b[0;32mFalse\u001b[0m\u001b[0;34m\u001b[0m\u001b[0;34m\u001b[0m\u001b[0m\n\u001b[0;32m---> 75\u001b[0;31m         \u001b[0;32mreturn\u001b[0m \u001b[0mwr\u001b[0m \u001b[0;32min\u001b[0m \u001b[0mself\u001b[0m\u001b[0;34m.\u001b[0m\u001b[0mdata\u001b[0m\u001b[0;34m\u001b[0m\u001b[0;34m\u001b[0m\u001b[0m\n\u001b[0m\u001b[1;32m     76\u001b[0m \u001b[0;34m\u001b[0m\u001b[0m\n\u001b[1;32m     77\u001b[0m     \u001b[0;32mdef\u001b[0m \u001b[0m__reduce__\u001b[0m\u001b[0;34m(\u001b[0m\u001b[0mself\u001b[0m\u001b[0;34m)\u001b[0m\u001b[0;34m:\u001b[0m\u001b[0;34m\u001b[0m\u001b[0;34m\u001b[0m\u001b[0m\n",
      "\u001b[0;31mKeyboardInterrupt\u001b[0m: "
     ]
    }
   ],
   "source": [
    "mpfit_results = fitting.fit_mpfit(gal, oversample=oversample,\n",
    "                                        fitdispersion=fitdispersion,\n",
    "                                        maxiter=maxiter,\n",
    "                                        do_plotting=do_plotting,\n",
    "                                        outdir=outdir_mpfit,\n",
    "                                        plot_type=plot_type, overwrite=True)"
   ]
  },
  {
   "cell_type": "markdown",
   "metadata": {},
   "source": [
    "## Examine MPFIT results ##"
   ]
  },
  {
   "cell_type": "code",
   "execution_count": null,
   "metadata": {},
   "outputs": [],
   "source": [
    "# Look at best-fit:\n",
    "filepath = outdir_mpfit+\"mpfit_best_fit.{}\".format(plot_type)\n",
    "Image(filename=filepath, width=600, height=570)"
   ]
  },
  {
   "cell_type": "markdown",
   "metadata": {},
   "source": [
    "#### Reload the galaxy, results files:"
   ]
  },
  {
   "cell_type": "code",
   "execution_count": null,
   "metadata": {},
   "outputs": [],
   "source": [
    "f_galmodel =       outdir_mpfit + 'galaxy_model.pickle'\n",
    "f_mpfit_results =  outdir_mpfit + 'mpfit_results.pickle'\n",
    "\n",
    "gal, mpfit_results = fitting.reload_all_fitting_mpfit(filename_galmodel=f_galmodel, \n",
    "                            filename_results=f_mpfit_results)"
   ]
  },
  {
   "cell_type": "markdown",
   "metadata": {},
   "source": [
    "#### Plot the best-fit results:"
   ]
  },
  {
   "cell_type": "code",
   "execution_count": null,
   "metadata": {},
   "outputs": [],
   "source": [
    "mpfit_results.plot_results(gal, fitdispersion=fitdispersion, \n",
    "                          oversample=oversample,\n",
    "                          f_plot_bestfit=None)"
   ]
  },
  {
   "cell_type": "markdown",
   "metadata": {},
   "source": [
    "### Print results report:"
   ]
  },
  {
   "cell_type": "code",
   "execution_count": null,
   "metadata": {},
   "outputs": [],
   "source": [
    "# Print report\n",
    "print(mpfit_results.results_report(gal=gal))"
   ]
  },
  {
   "cell_type": "markdown",
   "metadata": {},
   "source": [
    "### Or save results report to file:"
   ]
  },
  {
   "cell_type": "code",
   "execution_count": null,
   "metadata": {},
   "outputs": [],
   "source": [
    "# Save report to file:\n",
    "f_mpfit_report = outdir_mpfit + 'mpfit_fit_report.txt'\n",
    "mpfit_results.results_report(gal=gal, filename=f_mpfit_report)"
   ]
  },
  {
   "cell_type": "markdown",
   "metadata": {},
   "source": [
    "-----------------"
   ]
  },
  {
   "cell_type": "markdown",
   "metadata": {},
   "source": [
    "# MCMC Fitting #"
   ]
  },
  {
   "cell_type": "markdown",
   "metadata": {},
   "source": [
    "##### Get a clean copy of model, instrument"
   ]
  },
  {
   "cell_type": "code",
   "execution_count": null,
   "metadata": {},
   "outputs": [],
   "source": [
    "gal            = galaxy.Galaxy(z=1.613, name='GS4_43501')\n",
    "gal.data       = copy.deepcopy(data2d)\n",
    "gal.model      = copy.deepcopy(mod_set)\n",
    "gal.instrument = copy.deepcopy(inst)"
   ]
  },
  {
   "cell_type": "markdown",
   "metadata": {},
   "source": [
    "### MCMC fitting parameters ###"
   ]
  },
  {
   "cell_type": "markdown",
   "metadata": {},
   "source": [
    "Set parameters for fitting: \n",
    "   - Passing options to `emcee`\n",
    "   - Other calculation options"
   ]
  },
  {
   "cell_type": "code",
   "execution_count": null,
   "metadata": {},
   "outputs": [],
   "source": [
    "# Options passed to emcee\n",
    "# SHORT TEST:\n",
    "nwalkers = 20\n",
    "ncpus = 4\n",
    "scale_param_a = 3\n",
    "nburn = 2\n",
    "nsteps = 20 #5\n",
    "minaf = None\n",
    "maxaf = None\n",
    "neff = 10\n",
    "\n",
    "# Other options\n",
    "do_plotting = True       # Plot bestfit, corner, trace or not\n",
    "oversample = 1           # Factor by which to oversample model (eg, subpixels)\n",
    "fitdispersion = True     # Fit dispersion profile in addition to velocity\n",
    "\n",
    "blob_name = 'mvirial'    # Also save 'blob' values of Mvirial, calculated at every chain step\n",
    "\n",
    "outdir_mcmc = outdir + 'MCMC/'\n",
    "\n",
    "# Choose plot filetype:\n",
    "plot_type = 'png'"
   ]
  },
  {
   "cell_type": "markdown",
   "metadata": {},
   "source": [
    "-------"
   ]
  },
  {
   "cell_type": "markdown",
   "metadata": {},
   "source": [
    "## Run `Dysmalpy` fitting: MCMC ##"
   ]
  },
  {
   "cell_type": "code",
   "execution_count": null,
   "metadata": {},
   "outputs": [],
   "source": [
    "mcmc_results = fitting.fit(gal, nWalkers=nwalkers, nCPUs=ncpus,\n",
    "                               scale_param_a=scale_param_a, nBurn=nburn,\n",
    "                               nSteps=nsteps, minAF=minaf, maxAF=maxaf,\n",
    "                               nEff=neff, do_plotting=do_plotting,\n",
    "                               oversample=oversample, outdir=outdir_mcmc,\n",
    "                               fitdispersion=fitdispersion,\n",
    "                               blob_name=blob_name, \n",
    "                               plot_type=plot_type, overwrite=True)"
   ]
  },
  {
   "cell_type": "markdown",
   "metadata": {},
   "source": [
    "## Examine MCMC results ##"
   ]
  },
  {
   "cell_type": "code",
   "execution_count": null,
   "metadata": {},
   "outputs": [],
   "source": [
    "# Look at trace:\n",
    "filepath = outdir_mcmc+\"mcmc_trace.{}\".format(plot_type)\n",
    "Image(filepath, width=600, height=400)"
   ]
  },
  {
   "cell_type": "code",
   "execution_count": null,
   "metadata": {},
   "outputs": [],
   "source": [
    "# Look at best-fit:\n",
    "filepath = outdir_mcmc+\"mcmc_best_fit.{}\".format(plot_type)\n",
    "Image(filepath, width=600, height=570)"
   ]
  },
  {
   "cell_type": "code",
   "execution_count": null,
   "metadata": {},
   "outputs": [],
   "source": [
    "# Look at corner:\n",
    "filepath = outdir_mcmc+\"mcmc_param_corner.{}\".format(plot_type)\n",
    "Image(filepath, width=570, height=620)"
   ]
  },
  {
   "cell_type": "markdown",
   "metadata": {},
   "source": [
    "---------"
   ]
  },
  {
   "cell_type": "markdown",
   "metadata": {},
   "source": [
    "# Look at a real MCMC example:"
   ]
  },
  {
   "cell_type": "markdown",
   "metadata": {},
   "source": [
    "In the interest of time, let's look at the results calculated previously.\n",
    "\n",
    "For this fit, using **NNN cores**, it took **NNN hours** total to run the MCMC fit."
   ]
  },
  {
   "cell_type": "code",
   "execution_count": null,
   "metadata": {},
   "outputs": [],
   "source": [
    "outdir_mcmc_full = outdir_mcmc = outdir + 'MCMC_full_run/'"
   ]
  },
  {
   "cell_type": "markdown",
   "metadata": {},
   "source": [
    "## Load and examine results: ##"
   ]
  },
  {
   "cell_type": "markdown",
   "metadata": {},
   "source": [
    "Helpful for:\n",
    "  - replotting\n",
    "  - reanalyzing chain (eg, jointly constraining some posteriors)\n",
    "  - ..."
   ]
  },
  {
   "cell_type": "markdown",
   "metadata": {},
   "source": [
    "#### Reload the galaxy, results files:"
   ]
  },
  {
   "cell_type": "code",
   "execution_count": null,
   "metadata": {},
   "outputs": [],
   "source": [
    "f_galmodel = outdir_mcmc_full + 'galaxy_model.pickle'\n",
    "f_mcmc_results =  outdir_mcmc_full + 'mcmc_results.pickle'\n",
    "\n",
    "gal, mcmc_results = fitting.reload_all_fitting(filename_galmodel=f_galmodel, \n",
    "                            filename_mcmc_results=f_mcmc_results)"
   ]
  },
  {
   "cell_type": "markdown",
   "metadata": {},
   "source": [
    "#### If necessary, also reload the sampler chain:"
   ]
  },
  {
   "cell_type": "code",
   "execution_count": null,
   "metadata": {},
   "outputs": [],
   "source": [
    "f_sampler =  outdir_mcmc_full + 'mcmc_sampler.{}'.format(ftype_sampler)\n",
    "mcmc_results.reload_sampler(filename=f_sampler)"
   ]
  },
  {
   "cell_type": "markdown",
   "metadata": {},
   "source": [
    "#### Plot the best-fit results:"
   ]
  },
  {
   "cell_type": "code",
   "execution_count": null,
   "metadata": {},
   "outputs": [],
   "source": [
    "mcmc_results.plot_results(gal, fitdispersion=fitdispersion, \n",
    "                          oversample=oversample,\n",
    "                          f_plot_param_corner=None, \n",
    "                          f_plot_bestfit=None, f_plot_trace=None)"
   ]
  },
  {
   "cell_type": "markdown",
   "metadata": {},
   "source": [
    "### Print results report:"
   ]
  },
  {
   "cell_type": "code",
   "execution_count": null,
   "metadata": {},
   "outputs": [],
   "source": [
    "# Print report\n",
    "print(mcmc_results.results_report(gal=gal))"
   ]
  },
  {
   "cell_type": "markdown",
   "metadata": {},
   "source": [
    "### Or save results report to file:"
   ]
  },
  {
   "cell_type": "code",
   "execution_count": null,
   "metadata": {},
   "outputs": [],
   "source": [
    "# Save report to file:\n",
    "f_mcmc_report = outdir_mcmc + 'mcmc_fit_report.txt'\n",
    "mcmc_results.results_report(gal=gal, filename=f_mcmc_report)"
   ]
  },
  {
   "cell_type": "markdown",
   "metadata": {},
   "source": [
    "------"
   ]
  }
 ],
 "metadata": {
  "kernelspec": {
   "display_name": "Python 3",
   "language": "python",
   "name": "python3"
  },
  "language_info": {
   "codemirror_mode": {
    "name": "ipython",
    "version": 3
   },
   "file_extension": ".py",
   "mimetype": "text/x-python",
   "name": "python",
   "nbconvert_exporter": "python",
   "pygments_lexer": "ipython3",
   "version": "3.6.8"
  }
 },
 "nbformat": 4,
 "nbformat_minor": 1
}
