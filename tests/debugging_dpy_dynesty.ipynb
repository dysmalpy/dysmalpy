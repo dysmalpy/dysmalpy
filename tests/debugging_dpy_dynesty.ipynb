{
 "cells": [
  {
   "cell_type": "code",
   "execution_count": 1,
   "id": "939f52c5",
   "metadata": {},
   "outputs": [],
   "source": [
    "import test_fitting\n",
    "from importlib import reload"
   ]
  },
  {
   "cell_type": "code",
   "execution_count": 2,
   "id": "90a4df41",
   "metadata": {},
   "outputs": [],
   "source": [
    "import matplotlib as mpl\n",
    "import matplotlib.pyplot as plt\n",
    "%matplotlib inline\n",
    "\n",
    "mpl.rcParams['figure.dpi']= 300\n",
    "mpl.rc(\"savefig\", dpi=300)"
   ]
  },
  {
   "cell_type": "code",
   "execution_count": 3,
   "id": "a7a70e5c",
   "metadata": {},
   "outputs": [],
   "source": [
    "tfw = test_fitting.TestFittingWrappers"
   ]
  },
  {
   "cell_type": "code",
   "execution_count": 4,
   "id": "5a287e69",
   "metadata": {},
   "outputs": [],
   "source": [
    "# tfw.test_1D_mcmc(tfw)"
   ]
  },
  {
   "cell_type": "code",
   "execution_count": null,
   "id": "a707ff53",
   "metadata": {},
   "outputs": [],
   "source": []
  },
  {
   "cell_type": "code",
   "execution_count": 5,
   "id": "84791f8e",
   "metadata": {},
   "outputs": [
    {
     "name": "stdout",
     "output_type": "stream",
     "text": [
      "TEMP!!!\n",
      "------------------------------------------------------------------\n",
      " Fitting already complete for: GS4_43501\n",
      "   make new output folder or remove previous fitting files\n",
      "------------------------------------------------------------------\n",
      " \n",
      "TEST!!!!\n"
     ]
    }
   ],
   "source": [
    "tfw.test_1D_nested(tfw)"
   ]
  },
  {
   "cell_type": "code",
   "execution_count": 6,
   "id": "083e6042",
   "metadata": {},
   "outputs": [],
   "source": [
    "# %debug"
   ]
  },
  {
   "cell_type": "code",
   "execution_count": null,
   "id": "885f2ee4",
   "metadata": {},
   "outputs": [],
   "source": []
  }
 ],
 "metadata": {
  "kernelspec": {
   "display_name": "Python 3 (ipykernel)",
   "language": "python",
   "name": "python3"
  },
  "language_info": {
   "codemirror_mode": {
    "name": "ipython",
    "version": 3
   },
   "file_extension": ".py",
   "mimetype": "text/x-python",
   "name": "python",
   "nbconvert_exporter": "python",
   "pygments_lexer": "ipython3",
   "version": "3.10.2"
  }
 },
 "nbformat": 4,
 "nbformat_minor": 5
}
