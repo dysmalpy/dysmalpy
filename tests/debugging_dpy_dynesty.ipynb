{
 "cells": [
  {
   "cell_type": "code",
   "execution_count": 1,
   "id": "939f52c5",
   "metadata": {},
   "outputs": [],
   "source": [
    "import test_fitting\n",
    "from importlib import reload"
   ]
  },
  {
   "cell_type": "code",
   "execution_count": 2,
   "id": "faca4d91",
   "metadata": {},
   "outputs": [],
   "source": [
    "import matplotlib as mpl\n",
    "import matplotlib.pyplot as plt\n",
    "%matplotlib inline\n",
    "\n",
    "mpl.rcParams['figure.dpi']= 300\n",
    "mpl.rc(\"savefig\", dpi=300)"
   ]
  },
  {
   "cell_type": "code",
   "execution_count": 3,
   "id": "a7a70e5c",
   "metadata": {},
   "outputs": [],
   "source": [
    "tfw = test_fitting.TestFittingWrappers"
   ]
  },
  {
   "cell_type": "code",
   "execution_count": 4,
   "id": "5a287e69",
   "metadata": {},
   "outputs": [
    {
     "name": "stderr",
     "output_type": "stream",
     "text": [
      "WARNING:root:Too few points to create valid contours\n",
      "WARNING:root:Too few points to create valid contours\n",
      "WARNING:root:Too few points to create valid contours\n",
      "WARNING:DysmalPy:Using spherical approximation to get menc from vcirc!\n",
      "WARNING:DysmalPy:Using spherical approximation to get menc from vcirc!\n"
     ]
    },
    {
     "name": "stdout",
     "output_type": "stream",
     "text": [
      "------------------------------------------------------------------\n",
      " Dysmalpy MCMC fitting complete for: GS4_43501\n",
      "   output folder: /Users/sedona/software_public/dysmalpy/tests/test_data/PYTEST_OUTPUT/GS4_43501_1D_out_mcmc/\n",
      "------------------------------------------------------------------\n",
      " \n"
     ]
    }
   ],
   "source": [
    "tfw.test_1D_mcmc(tfw)"
   ]
  },
  {
   "cell_type": "code",
   "execution_count": 5,
   "id": "5ae3caa5",
   "metadata": {},
   "outputs": [
    {
     "name": "stderr",
     "output_type": "stream",
     "text": [
      "ERROR:root:No traceback has been produced, nothing to debug.\n"
     ]
    }
   ],
   "source": [
    "%debug"
   ]
  },
  {
   "cell_type": "code",
   "execution_count": null,
   "id": "66862a32",
   "metadata": {},
   "outputs": [],
   "source": []
  },
  {
   "cell_type": "code",
   "execution_count": null,
   "id": "84791f8e",
   "metadata": {},
   "outputs": [
    {
     "name": "stderr",
     "output_type": "stream",
     "text": [
      "44it [01:24,  2.69s/it, batch: 0 | bound: 0 | nc: 6 | ncall: 144 | eff(%): 26.036 | loglstar:   -inf < -654.460 <    inf | logz: -660.098 +/-  0.470 | dlogz: 661.466 >  0.010]   "
     ]
    }
   ],
   "source": [
    "tfw.test_1D_nested(tfw)"
   ]
  },
  {
   "cell_type": "code",
   "execution_count": null,
   "id": "1683bce4",
   "metadata": {},
   "outputs": [],
   "source": [
    "%debug"
   ]
  },
  {
   "cell_type": "code",
   "execution_count": null,
   "id": "083e6042",
   "metadata": {},
   "outputs": [],
   "source": []
  },
  {
   "cell_type": "code",
   "execution_count": null,
   "id": "214dbfcf",
   "metadata": {},
   "outputs": [],
   "source": []
  }
 ],
 "metadata": {
  "kernelspec": {
   "display_name": "Python 3 (ipykernel)",
   "language": "python",
   "name": "python3"
  },
  "language_info": {
   "codemirror_mode": {
    "name": "ipython",
    "version": 3
   },
   "file_extension": ".py",
   "mimetype": "text/x-python",
   "name": "python",
   "nbconvert_exporter": "python",
   "pygments_lexer": "ipython3",
   "version": "3.10.2"
  }
 },
 "nbformat": 4,
 "nbformat_minor": 5
}
