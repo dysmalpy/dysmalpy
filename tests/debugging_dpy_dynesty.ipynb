{
 "cells": [
  {
   "cell_type": "code",
   "execution_count": 1,
   "id": "939f52c5",
   "metadata": {},
   "outputs": [],
   "source": [
    "import test_fitting\n",
    "from importlib import reload"
   ]
  },
  {
   "cell_type": "code",
   "execution_count": 2,
   "id": "a7a70e5c",
   "metadata": {},
   "outputs": [],
   "source": [
    "tfw = test_fitting.TestFittingWrappers"
   ]
  },
  {
   "cell_type": "code",
   "execution_count": 3,
   "id": "84791f8e",
   "metadata": {},
   "outputs": [
    {
     "name": "stderr",
     "output_type": "stream",
     "text": [
      "126it [08:40,  4.13s/it, batch: 0 | bound: 1 | nc: 1 | ncall: 1015 | eff(%): 12.414 | loglstar:   -inf < -54.617 <    inf | logz: -62.381 +/-  0.459 | dlogz:  1.002 >  0.010]     \n"
     ]
    },
    {
     "ename": "LinAlgError",
     "evalue": "2-th leading minor of the array is not positive definite",
     "output_type": "error",
     "traceback": [
      "\u001b[0;31m---------------------------------------------------------------------------\u001b[0m",
      "\u001b[0;31mLinAlgError\u001b[0m                               Traceback (most recent call last)",
      "Input \u001b[0;32mIn [3]\u001b[0m, in \u001b[0;36m<cell line: 1>\u001b[0;34m()\u001b[0m\n\u001b[0;32m----> 1\u001b[0m \u001b[43mtfw\u001b[49m\u001b[38;5;241;43m.\u001b[39;49m\u001b[43mtest_1D_nested\u001b[49m\u001b[43m(\u001b[49m\u001b[43mtfw\u001b[49m\u001b[43m)\u001b[49m\n",
      "File \u001b[0;32m~/software_public/dysmalpy/tests/test_fitting.py:190\u001b[0m, in \u001b[0;36mTestFittingWrappers.test_1D_nested\u001b[0;34m(self)\u001b[0m\n\u001b[1;32m    187\u001b[0m params \u001b[38;5;241m=\u001b[39m read_params(param_filename\u001b[38;5;241m=\u001b[39mparam_filename)\n\u001b[1;32m    188\u001b[0m outdir_full \u001b[38;5;241m=\u001b[39m _dir_tests_data\u001b[38;5;241m+\u001b[39mparams[\u001b[38;5;124m'\u001b[39m\u001b[38;5;124moutdir\u001b[39m\u001b[38;5;124m'\u001b[39m]\n\u001b[0;32m--> 190\u001b[0m \u001b[43mrun_fit\u001b[49m\u001b[43m(\u001b[49m\u001b[43mparam_filename\u001b[49m\u001b[38;5;241;43m=\u001b[39;49m\u001b[43mparam_filename\u001b[49m\u001b[43m)\u001b[49m\n\u001b[1;32m    192\u001b[0m \u001b[38;5;66;03m# Make sure all files exist:\u001b[39;00m\n\u001b[1;32m    193\u001b[0m list_files \u001b[38;5;241m=\u001b[39m expected_output_files_1D(params[\u001b[38;5;124m'\u001b[39m\u001b[38;5;124mgalID\u001b[39m\u001b[38;5;124m'\u001b[39m], param_filename\u001b[38;5;241m=\u001b[39mparam_filename,\n\u001b[1;32m    194\u001b[0m                     fit_method\u001b[38;5;241m=\u001b[39mparams[\u001b[38;5;124m'\u001b[39m\u001b[38;5;124mfit_method\u001b[39m\u001b[38;5;124m'\u001b[39m])\n",
      "File \u001b[0;32m~/software_public/dysmalpy/tests/test_fitting.py:40\u001b[0m, in \u001b[0;36mrun_fit\u001b[0;34m(param_filename)\u001b[0m\n\u001b[1;32m     37\u001b[0m     shutil\u001b[38;5;241m.\u001b[39mrmtree(outdir, ignore_errors\u001b[38;5;241m=\u001b[39m\u001b[38;5;28;01mTrue\u001b[39;00m)\n\u001b[1;32m     39\u001b[0m \u001b[38;5;66;03m# Run fit\u001b[39;00m\n\u001b[0;32m---> 40\u001b[0m \u001b[43mdysmalpy_fit_single\u001b[49m\u001b[38;5;241;43m.\u001b[39;49m\u001b[43mdysmalpy_fit_single\u001b[49m\u001b[43m(\u001b[49m\u001b[43mparam_filename\u001b[49m\u001b[38;5;241;43m=\u001b[39;49m\u001b[43mparam_filename_full\u001b[49m\u001b[43m)\u001b[49m\n",
      "File \u001b[0;32m~/software_public/dysmalpy/dysmalpy/fitting_wrappers/dysmalpy_fit_single.py:145\u001b[0m, in \u001b[0;36mdysmalpy_fit_single\u001b[0;34m(param_filename, datadir, outdir, data_loader, plot_type, overwrite)\u001b[0m\n\u001b[1;32m    142\u001b[0m fitter \u001b[38;5;241m=\u001b[39m utils_io\u001b[38;5;241m.\u001b[39msetup_fitter(params\u001b[38;5;241m=\u001b[39mparams)\n\u001b[1;32m    144\u001b[0m \u001b[38;5;66;03m# Fit\u001b[39;00m\n\u001b[0;32m--> 145\u001b[0m results \u001b[38;5;241m=\u001b[39m \u001b[43mfitter\u001b[49m\u001b[38;5;241;43m.\u001b[39;49m\u001b[43mfit\u001b[49m\u001b[43m(\u001b[49m\u001b[43mgal\u001b[49m\u001b[43m,\u001b[49m\u001b[43m \u001b[49m\u001b[43moutput_options\u001b[49m\u001b[43m)\u001b[49m\n\u001b[1;32m    147\u001b[0m \u001b[38;5;66;03m# Make component plot:\u001b[39;00m\n\u001b[1;32m    148\u001b[0m \u001b[38;5;28;01mif\u001b[39;00m output_options\u001b[38;5;241m.\u001b[39mdo_plotting:\n",
      "File \u001b[0;32m~/software_public/dysmalpy/dysmalpy/fitting/nested_sampling.py:218\u001b[0m, in \u001b[0;36mNestedFitter.fit\u001b[0;34m(self, gal, output_options)\u001b[0m\n\u001b[1;32m    215\u001b[0m         nestedResults\u001b[38;5;241m.\u001b[39moversample_factor_chisq[obs_name] \u001b[38;5;241m=\u001b[39m obs\u001b[38;5;241m.\u001b[39mdata\u001b[38;5;241m.\u001b[39moversample_factor_chisq\n\u001b[1;32m    217\u001b[0m \u001b[38;5;66;03m# Do all analysis, plotting, saving:\u001b[39;00m\n\u001b[0;32m--> 218\u001b[0m \u001b[43mnestedResults\u001b[49m\u001b[38;5;241;43m.\u001b[39;49m\u001b[43manalyze_plot_save_results\u001b[49m\u001b[43m(\u001b[49m\u001b[43mgal\u001b[49m\u001b[43m,\u001b[49m\u001b[43m \u001b[49m\u001b[43moutput_options\u001b[49m\u001b[38;5;241;43m=\u001b[39;49m\u001b[43moutput_options\u001b[49m\u001b[43m)\u001b[49m\n\u001b[1;32m    220\u001b[0m \u001b[38;5;66;03m# --------------------------------\u001b[39;00m\n\u001b[1;32m    221\u001b[0m \u001b[38;5;66;03m# Clean up logger:\u001b[39;00m\n\u001b[1;32m    222\u001b[0m \u001b[38;5;28;01mif\u001b[39;00m output_options\u001b[38;5;241m.\u001b[39mf_log \u001b[38;5;129;01mis\u001b[39;00m \u001b[38;5;129;01mnot\u001b[39;00m \u001b[38;5;28;01mNone\u001b[39;00m:\n",
      "File \u001b[0;32m~/software_public/dysmalpy/dysmalpy/fitting/base.py:292\u001b[0m, in \u001b[0;36mBayesianFitResults.analyze_plot_save_results\u001b[0;34m(self, gal, output_options)\u001b[0m\n\u001b[1;32m    289\u001b[0m     \u001b[38;5;28mself\u001b[39m\u001b[38;5;241m.\u001b[39msave_chain_ascii(filename\u001b[38;5;241m=\u001b[39moutput_options\u001b[38;5;241m.\u001b[39mf_chain_ascii, overwrite\u001b[38;5;241m=\u001b[39moutput_options\u001b[38;5;241m.\u001b[39moverwrite)\n\u001b[1;32m    291\u001b[0m \u001b[38;5;66;03m# Get the best-fit values, uncertainty bounds from marginalized posteriors\u001b[39;00m\n\u001b[0;32m--> 292\u001b[0m \u001b[38;5;28;43mself\u001b[39;49m\u001b[38;5;241;43m.\u001b[39;49m\u001b[43manalyze_posterior_dist\u001b[49m\u001b[43m(\u001b[49m\u001b[43mgal\u001b[49m\u001b[38;5;241;43m=\u001b[39;49m\u001b[43mgal\u001b[49m\u001b[43m)\u001b[49m\n\u001b[1;32m    294\u001b[0m \u001b[38;5;66;03m# Update theta to best-fit:\u001b[39;00m\n\u001b[1;32m    295\u001b[0m gal\u001b[38;5;241m.\u001b[39mmodel\u001b[38;5;241m.\u001b[39mupdate_parameters(\u001b[38;5;28mself\u001b[39m\u001b[38;5;241m.\u001b[39mbestfit_parameters)\n",
      "File \u001b[0;32m~/software_public/dysmalpy/dysmalpy/fitting/base.py:486\u001b[0m, in \u001b[0;36mBayesianFitResults.analyze_posterior_dist\u001b[0;34m(self, gal)\u001b[0m\n\u001b[1;32m    484\u001b[0m linked_posterior_ind_arr \u001b[38;5;241m=\u001b[39m fit_utils\u001b[38;5;241m.\u001b[39mget_linked_posterior_indices(\u001b[38;5;28mself\u001b[39m)\n\u001b[1;32m    485\u001b[0m guess \u001b[38;5;241m=\u001b[39m param_bestfit\u001b[38;5;241m.\u001b[39mcopy()\n\u001b[0;32m--> 486\u001b[0m bestfit_theta_linked \u001b[38;5;241m=\u001b[39m \u001b[43mfit_utils\u001b[49m\u001b[38;5;241;43m.\u001b[39;49m\u001b[43mget_linked_posterior_peak_values\u001b[49m\u001b[43m(\u001b[49m\u001b[38;5;28;43mself\u001b[39;49m\u001b[38;5;241;43m.\u001b[39;49m\u001b[43msampler\u001b[49m\u001b[38;5;241;43m.\u001b[39;49m\u001b[43msamples\u001b[49m\u001b[43m,\u001b[49m\n\u001b[1;32m    487\u001b[0m \u001b[43m                \u001b[49m\u001b[43mguess\u001b[49m\u001b[38;5;241;43m=\u001b[39;49m\u001b[43mguess\u001b[49m\u001b[43m,\u001b[49m\u001b[43m \u001b[49m\u001b[43mlinked_posterior_ind_arr\u001b[49m\u001b[38;5;241;43m=\u001b[39;49m\u001b[43mlinked_posterior_ind_arr\u001b[49m\u001b[43m,\u001b[49m\n\u001b[1;32m    488\u001b[0m \u001b[43m                \u001b[49m\u001b[43mnPostBins\u001b[49m\u001b[38;5;241;43m=\u001b[39;49m\u001b[38;5;28;43mself\u001b[39;49m\u001b[38;5;241;43m.\u001b[39;49m\u001b[43mnPostBins\u001b[49m\u001b[43m)\u001b[49m\n\u001b[1;32m    490\u001b[0m \u001b[38;5;28;01mfor\u001b[39;00m k \u001b[38;5;129;01min\u001b[39;00m \u001b[38;5;28mrange\u001b[39m(\u001b[38;5;28mlen\u001b[39m(linked_posterior_ind_arr)):\n\u001b[1;32m    491\u001b[0m     \u001b[38;5;28;01mfor\u001b[39;00m j \u001b[38;5;129;01min\u001b[39;00m \u001b[38;5;28mrange\u001b[39m(\u001b[38;5;28mlen\u001b[39m(linked_posterior_ind_arr[k])):\n",
      "File \u001b[0;32m~/software_public/dysmalpy/dysmalpy/fitting/utils.py:365\u001b[0m, in \u001b[0;36mget_linked_posterior_peak_values\u001b[0;34m(flatchain, guess, linked_posterior_ind_arr, nPostBins)\u001b[0m\n\u001b[1;32m    362\u001b[0m bestfit_theta_linked \u001b[38;5;241m=\u001b[39m np\u001b[38;5;241m.\u001b[39marray([])\n\u001b[1;32m    364\u001b[0m \u001b[38;5;28;01mfor\u001b[39;00m k \u001b[38;5;129;01min\u001b[39;00m \u001b[38;5;28mrange\u001b[39m(\u001b[38;5;28mlen\u001b[39m(linked_posterior_ind_arr)):\n\u001b[0;32m--> 365\u001b[0m     bestfit_thetas \u001b[38;5;241m=\u001b[39m \u001b[43mfind_peak_gaussian_KDE_multiD\u001b[49m\u001b[43m(\u001b[49m\u001b[43mflatchain\u001b[49m\u001b[43m,\u001b[49m\u001b[43m \u001b[49m\u001b[43mlinked_posterior_ind_arr\u001b[49m\u001b[43m[\u001b[49m\u001b[43mk\u001b[49m\u001b[43m]\u001b[49m\u001b[43m,\u001b[49m\n\u001b[1;32m    366\u001b[0m \u001b[43m            \u001b[49m\u001b[43mguess\u001b[49m\u001b[43m[\u001b[49m\u001b[43mlinked_posterior_ind_arr\u001b[49m\u001b[43m[\u001b[49m\u001b[43mk\u001b[49m\u001b[43m]\u001b[49m\u001b[43m]\u001b[49m\u001b[43m)\u001b[49m\n\u001b[1;32m    367\u001b[0m     \u001b[38;5;28;01mif\u001b[39;00m \u001b[38;5;28mlen\u001b[39m(bestfit_theta_linked) \u001b[38;5;241m>\u001b[39m\u001b[38;5;241m=\u001b[39m \u001b[38;5;241m1\u001b[39m:\n\u001b[1;32m    368\u001b[0m         bestfit_theta_linked \u001b[38;5;241m=\u001b[39m np\u001b[38;5;241m.\u001b[39mstack(bestfit_theta_linked, np\u001b[38;5;241m.\u001b[39marray([bestfit_thetas]) )\n",
      "File \u001b[0;32m~/software_public/dysmalpy/dysmalpy/fitting/utils.py:318\u001b[0m, in \u001b[0;36mfind_peak_gaussian_KDE_multiD\u001b[0;34m(flatchain, linked_inds, initval, weights)\u001b[0m\n\u001b[1;32m    315\u001b[0m     \u001b[38;5;28;01mraise\u001b[39;00m \u001b[38;5;167;01mValueError\u001b[39;00m(\u001b[38;5;124m\"\u001b[39m\u001b[38;5;124mTEST\u001b[39m\u001b[38;5;124m\"\u001b[39m)\n\u001b[1;32m    317\u001b[0m \u001b[38;5;66;03m# nparams = len(linked_inds)\u001b[39;00m\n\u001b[0;32m--> 318\u001b[0m kern \u001b[38;5;241m=\u001b[39m \u001b[43mgaussian_kde\u001b[49m\u001b[43m(\u001b[49m\u001b[43mflatchain\u001b[49m\u001b[43m[\u001b[49m\u001b[43m:\u001b[49m\u001b[43m,\u001b[49m\u001b[43mlinked_inds\u001b[49m\u001b[43m]\u001b[49m\u001b[38;5;241;43m.\u001b[39;49m\u001b[43mT\u001b[49m\u001b[43m,\u001b[49m\u001b[43m \u001b[49m\u001b[43mweights\u001b[49m\u001b[38;5;241;43m=\u001b[39;49m\u001b[43mweights\u001b[49m\u001b[43m)\u001b[49m\n\u001b[1;32m    319\u001b[0m peakvals \u001b[38;5;241m=\u001b[39m fmin(\u001b[38;5;28;01mlambda\u001b[39;00m x: \u001b[38;5;241m-\u001b[39mkern(x), initval,disp\u001b[38;5;241m=\u001b[39m\u001b[38;5;28;01mFalse\u001b[39;00m)\n\u001b[1;32m    321\u001b[0m \u001b[38;5;28;01mreturn\u001b[39;00m peakvals\n",
      "File \u001b[0;32m~/opt/anaconda3/envs/py310/lib/python3.10/site-packages/scipy/stats/_kde.py:207\u001b[0m, in \u001b[0;36mgaussian_kde.__init__\u001b[0;34m(self, dataset, bw_method, weights)\u001b[0m\n\u001b[1;32m    204\u001b[0m         \u001b[38;5;28;01mraise\u001b[39;00m \u001b[38;5;167;01mValueError\u001b[39;00m(\u001b[38;5;124m\"\u001b[39m\u001b[38;5;124m`weights` input should be of length n\u001b[39m\u001b[38;5;124m\"\u001b[39m)\n\u001b[1;32m    205\u001b[0m     \u001b[38;5;28mself\u001b[39m\u001b[38;5;241m.\u001b[39m_neff \u001b[38;5;241m=\u001b[39m \u001b[38;5;241m1\u001b[39m\u001b[38;5;241m/\u001b[39m\u001b[38;5;28msum\u001b[39m(\u001b[38;5;28mself\u001b[39m\u001b[38;5;241m.\u001b[39m_weights\u001b[38;5;241m*\u001b[39m\u001b[38;5;241m*\u001b[39m\u001b[38;5;241m2\u001b[39m)\n\u001b[0;32m--> 207\u001b[0m \u001b[38;5;28;43mself\u001b[39;49m\u001b[38;5;241;43m.\u001b[39;49m\u001b[43mset_bandwidth\u001b[49m\u001b[43m(\u001b[49m\u001b[43mbw_method\u001b[49m\u001b[38;5;241;43m=\u001b[39;49m\u001b[43mbw_method\u001b[49m\u001b[43m)\u001b[49m\n",
      "File \u001b[0;32m~/opt/anaconda3/envs/py310/lib/python3.10/site-packages/scipy/stats/_kde.py:555\u001b[0m, in \u001b[0;36mgaussian_kde.set_bandwidth\u001b[0;34m(self, bw_method)\u001b[0m\n\u001b[1;32m    551\u001b[0m     msg \u001b[38;5;241m=\u001b[39m \u001b[38;5;124m\"\u001b[39m\u001b[38;5;124m`bw_method` should be \u001b[39m\u001b[38;5;124m'\u001b[39m\u001b[38;5;124mscott\u001b[39m\u001b[38;5;124m'\u001b[39m\u001b[38;5;124m, \u001b[39m\u001b[38;5;124m'\u001b[39m\u001b[38;5;124msilverman\u001b[39m\u001b[38;5;124m'\u001b[39m\u001b[38;5;124m, a scalar \u001b[39m\u001b[38;5;124m\"\u001b[39m \\\n\u001b[1;32m    552\u001b[0m           \u001b[38;5;124m\"\u001b[39m\u001b[38;5;124mor a callable.\u001b[39m\u001b[38;5;124m\"\u001b[39m\n\u001b[1;32m    553\u001b[0m     \u001b[38;5;28;01mraise\u001b[39;00m \u001b[38;5;167;01mValueError\u001b[39;00m(msg)\n\u001b[0;32m--> 555\u001b[0m \u001b[38;5;28;43mself\u001b[39;49m\u001b[38;5;241;43m.\u001b[39;49m\u001b[43m_compute_covariance\u001b[49m\u001b[43m(\u001b[49m\u001b[43m)\u001b[49m\n",
      "File \u001b[0;32m~/opt/anaconda3/envs/py310/lib/python3.10/site-packages/scipy/stats/_kde.py:571\u001b[0m, in \u001b[0;36mgaussian_kde._compute_covariance\u001b[0;34m(self)\u001b[0m\n\u001b[1;32m    569\u001b[0m \u001b[38;5;28mself\u001b[39m\u001b[38;5;241m.\u001b[39mcovariance \u001b[38;5;241m=\u001b[39m \u001b[38;5;28mself\u001b[39m\u001b[38;5;241m.\u001b[39m_data_covariance \u001b[38;5;241m*\u001b[39m \u001b[38;5;28mself\u001b[39m\u001b[38;5;241m.\u001b[39mfactor\u001b[38;5;241m*\u001b[39m\u001b[38;5;241m*\u001b[39m\u001b[38;5;241m2\u001b[39m\n\u001b[1;32m    570\u001b[0m \u001b[38;5;28mself\u001b[39m\u001b[38;5;241m.\u001b[39minv_cov \u001b[38;5;241m=\u001b[39m \u001b[38;5;28mself\u001b[39m\u001b[38;5;241m.\u001b[39m_data_inv_cov \u001b[38;5;241m/\u001b[39m \u001b[38;5;28mself\u001b[39m\u001b[38;5;241m.\u001b[39mfactor\u001b[38;5;241m*\u001b[39m\u001b[38;5;241m*\u001b[39m\u001b[38;5;241m2\u001b[39m\n\u001b[0;32m--> 571\u001b[0m L \u001b[38;5;241m=\u001b[39m \u001b[43mlinalg\u001b[49m\u001b[38;5;241;43m.\u001b[39;49m\u001b[43mcholesky\u001b[49m\u001b[43m(\u001b[49m\u001b[38;5;28;43mself\u001b[39;49m\u001b[38;5;241;43m.\u001b[39;49m\u001b[43mcovariance\u001b[49m\u001b[38;5;241;43m*\u001b[39;49m\u001b[38;5;241;43m2\u001b[39;49m\u001b[38;5;241;43m*\u001b[39;49m\u001b[43mpi\u001b[49m\u001b[43m)\u001b[49m\n\u001b[1;32m    572\u001b[0m \u001b[38;5;28mself\u001b[39m\u001b[38;5;241m.\u001b[39mlog_det \u001b[38;5;241m=\u001b[39m \u001b[38;5;241m2\u001b[39m\u001b[38;5;241m*\u001b[39mnp\u001b[38;5;241m.\u001b[39mlog(np\u001b[38;5;241m.\u001b[39mdiag(L))\u001b[38;5;241m.\u001b[39msum()\n",
      "File \u001b[0;32m~/opt/anaconda3/envs/py310/lib/python3.10/site-packages/scipy/linalg/_decomp_cholesky.py:88\u001b[0m, in \u001b[0;36mcholesky\u001b[0;34m(a, lower, overwrite_a, check_finite)\u001b[0m\n\u001b[1;32m     45\u001b[0m \u001b[38;5;28;01mdef\u001b[39;00m \u001b[38;5;21mcholesky\u001b[39m(a, lower\u001b[38;5;241m=\u001b[39m\u001b[38;5;28;01mFalse\u001b[39;00m, overwrite_a\u001b[38;5;241m=\u001b[39m\u001b[38;5;28;01mFalse\u001b[39;00m, check_finite\u001b[38;5;241m=\u001b[39m\u001b[38;5;28;01mTrue\u001b[39;00m):\n\u001b[1;32m     46\u001b[0m \u001b[38;5;250m    \u001b[39m\u001b[38;5;124;03m\"\"\"\u001b[39;00m\n\u001b[1;32m     47\u001b[0m \u001b[38;5;124;03m    Compute the Cholesky decomposition of a matrix.\u001b[39;00m\n\u001b[1;32m     48\u001b[0m \n\u001b[0;32m   (...)\u001b[0m\n\u001b[1;32m     86\u001b[0m \n\u001b[1;32m     87\u001b[0m \u001b[38;5;124;03m    \"\"\"\u001b[39;00m\n\u001b[0;32m---> 88\u001b[0m     c, lower \u001b[38;5;241m=\u001b[39m \u001b[43m_cholesky\u001b[49m\u001b[43m(\u001b[49m\u001b[43ma\u001b[49m\u001b[43m,\u001b[49m\u001b[43m \u001b[49m\u001b[43mlower\u001b[49m\u001b[38;5;241;43m=\u001b[39;49m\u001b[43mlower\u001b[49m\u001b[43m,\u001b[49m\u001b[43m \u001b[49m\u001b[43moverwrite_a\u001b[49m\u001b[38;5;241;43m=\u001b[39;49m\u001b[43moverwrite_a\u001b[49m\u001b[43m,\u001b[49m\u001b[43m \u001b[49m\u001b[43mclean\u001b[49m\u001b[38;5;241;43m=\u001b[39;49m\u001b[38;5;28;43;01mTrue\u001b[39;49;00m\u001b[43m,\u001b[49m\n\u001b[1;32m     89\u001b[0m \u001b[43m                         \u001b[49m\u001b[43mcheck_finite\u001b[49m\u001b[38;5;241;43m=\u001b[39;49m\u001b[43mcheck_finite\u001b[49m\u001b[43m)\u001b[49m\n\u001b[1;32m     90\u001b[0m     \u001b[38;5;28;01mreturn\u001b[39;00m c\n",
      "File \u001b[0;32m~/opt/anaconda3/envs/py310/lib/python3.10/site-packages/scipy/linalg/_decomp_cholesky.py:37\u001b[0m, in \u001b[0;36m_cholesky\u001b[0;34m(a, lower, overwrite_a, clean, check_finite)\u001b[0m\n\u001b[1;32m     35\u001b[0m c, info \u001b[38;5;241m=\u001b[39m potrf(a1, lower\u001b[38;5;241m=\u001b[39mlower, overwrite_a\u001b[38;5;241m=\u001b[39moverwrite_a, clean\u001b[38;5;241m=\u001b[39mclean)\n\u001b[1;32m     36\u001b[0m \u001b[38;5;28;01mif\u001b[39;00m info \u001b[38;5;241m>\u001b[39m \u001b[38;5;241m0\u001b[39m:\n\u001b[0;32m---> 37\u001b[0m     \u001b[38;5;28;01mraise\u001b[39;00m LinAlgError(\u001b[38;5;124m\"\u001b[39m\u001b[38;5;132;01m%d\u001b[39;00m\u001b[38;5;124m-th leading minor of the array is not positive \u001b[39m\u001b[38;5;124m\"\u001b[39m\n\u001b[1;32m     38\u001b[0m                       \u001b[38;5;124m\"\u001b[39m\u001b[38;5;124mdefinite\u001b[39m\u001b[38;5;124m\"\u001b[39m \u001b[38;5;241m%\u001b[39m info)\n\u001b[1;32m     39\u001b[0m \u001b[38;5;28;01mif\u001b[39;00m info \u001b[38;5;241m<\u001b[39m \u001b[38;5;241m0\u001b[39m:\n\u001b[1;32m     40\u001b[0m     \u001b[38;5;28;01mraise\u001b[39;00m \u001b[38;5;167;01mValueError\u001b[39;00m(\u001b[38;5;124m'\u001b[39m\u001b[38;5;124mLAPACK reported an illegal value in \u001b[39m\u001b[38;5;132;01m{}\u001b[39;00m\u001b[38;5;124m-th argument\u001b[39m\u001b[38;5;124m'\u001b[39m\n\u001b[1;32m     41\u001b[0m                      \u001b[38;5;124m'\u001b[39m\u001b[38;5;124mon entry to \u001b[39m\u001b[38;5;124m\"\u001b[39m\u001b[38;5;124mPOTRF\u001b[39m\u001b[38;5;124m\"\u001b[39m\u001b[38;5;124m.\u001b[39m\u001b[38;5;124m'\u001b[39m\u001b[38;5;241m.\u001b[39mformat(\u001b[38;5;241m-\u001b[39minfo))\n",
      "\u001b[0;31mLinAlgError\u001b[0m: 2-th leading minor of the array is not positive definite"
     ]
    }
   ],
   "source": [
    "tfw.test_1D_nested(tfw)"
   ]
  },
  {
   "cell_type": "code",
   "execution_count": null,
   "id": "1683bce4",
   "metadata": {},
   "outputs": [],
   "source": [
    "%debug"
   ]
  },
  {
   "cell_type": "code",
   "execution_count": null,
   "id": "083e6042",
   "metadata": {},
   "outputs": [],
   "source": []
  },
  {
   "cell_type": "code",
   "execution_count": null,
   "id": "5a287e69",
   "metadata": {},
   "outputs": [],
   "source": []
  }
 ],
 "metadata": {
  "kernelspec": {
   "display_name": "Python 3 (ipykernel)",
   "language": "python",
   "name": "python3"
  },
  "language_info": {
   "codemirror_mode": {
    "name": "ipython",
    "version": 3
   },
   "file_extension": ".py",
   "mimetype": "text/x-python",
   "name": "python",
   "nbconvert_exporter": "python",
   "pygments_lexer": "ipython3",
   "version": "3.10.2"
  }
 },
 "nbformat": 4,
 "nbformat_minor": 5
}
