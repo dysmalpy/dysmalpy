{
 "cells": [
  {
   "cell_type": "markdown",
   "metadata": {},
   "source": [
    "# Elliptical PSF to fitting wrappers"
   ]
  },
  {
   "cell_type": "code",
   "execution_count": 2,
   "metadata": {},
   "outputs": [],
   "source": [
    "from __future__ import (absolute_import, division, print_function,\n",
    "                        unicode_literals)\n",
    "\n",
    "from dysmalpy import instrument\n",
    "from dysmalpy import fitting\n",
    "from dysmalpy.fitting_wrappers import dysmalpy_fit_single\n",
    "from dysmalpy.fitting_wrappers import utils_io"
   ]
  },
  {
   "cell_type": "code",
   "execution_count": 12,
   "metadata": {},
   "outputs": [],
   "source": [
    "import matplotlib.pyplot as plt\n",
    "%matplotlib inline\n",
    "\n",
    "from IPython.core.display import Image"
   ]
  },
  {
   "cell_type": "code",
   "execution_count": 94,
   "metadata": {},
   "outputs": [],
   "source": [
    "from importlib import reload"
   ]
  },
  {
   "cell_type": "code",
   "execution_count": 129,
   "metadata": {},
   "outputs": [
    {
     "data": {
      "text/plain": [
       "<module 'dysmalpy.instrument' from '/Users/sedona/software_public/dysmalpy/dysmalpy/instrument.py'>"
      ]
     },
     "execution_count": 129,
     "metadata": {},
     "output_type": "execute_result"
    }
   ],
   "source": [
    "reload(instrument)"
   ]
  },
  {
   "cell_type": "code",
   "execution_count": 130,
   "metadata": {},
   "outputs": [],
   "source": [
    "inst = instrument.Instrument()"
   ]
  },
  {
   "cell_type": "code",
   "execution_count": 131,
   "metadata": {},
   "outputs": [
    {
     "data": {
      "text/plain": [
       "<matplotlib.image.AxesImage at 0x1a24475630>"
      ]
     },
     "execution_count": 131,
     "metadata": {},
     "output_type": "execute_result"
    },
    {
     "data": {
      "image/png": "[encoded data removed]",
      "text/plain": [
       "<Figure size 432x288 with 1 Axes>"
      ]
     },
     "metadata": {},
     "output_type": "display_data"
    }
   ],
   "source": [
    "params = {'pixscale': 0.05, \n",
    "          'fov_npix': 37,\n",
    "          'spec_type': 'velocity', \n",
    "          'spec_start': -1000., \n",
    "          'spec_step': 10., \n",
    "          'nspec': 201, \n",
    "          'psf_type': 'Gaussian', \n",
    "          'psf_fwhm_major': 0.8, \n",
    "          'psf_fwhm_minor': 0.2, \n",
    "          'psf_PA': -72.4, \n",
    "          'psf_beta': 2., \n",
    "          'use_lsf': True, \n",
    "          'sig_inst_res': 36.1}\n",
    "\n",
    "inst = utils_io.setup_instrument_params(inst=inst, params=params)\n",
    "\n",
    "plt.imshow(inst._beam_kernel[0,:,:], origin='lower')"
   ]
  },
  {
   "cell_type": "code",
   "execution_count": 137,
   "metadata": {},
   "outputs": [
    {
     "data": {
      "text/plain": [
       "<matplotlib.image.AxesImage at 0x1a24d62be0>"
      ]
     },
     "execution_count": 137,
     "metadata": {},
     "output_type": "execute_result"
    },
    {
     "data": {
      "image/png": "[encoded data removed]",
      "text/plain": [
       "<Figure size 432x288 with 1 Axes>"
      ]
     },
     "metadata": {},
     "output_type": "display_data"
    }
   ],
   "source": [
    "params = {'pixscale': 0.05, \n",
    "          'fov_npix': 37,\n",
    "          'spec_type': 'velocity', \n",
    "          'spec_start': -1000., \n",
    "          'spec_step': 10., \n",
    "          'nspec': 201, \n",
    "          'psf_type': 'Moffat', \n",
    "          'psf_fwhm_major': 0.8, \n",
    "          'psf_fwhm_minor': 0.2, \n",
    "          'psf_PA': -72.4, \n",
    "          'psf_beta': 2., \n",
    "          'use_lsf': True, \n",
    "          'sig_inst_res': 36.1}\n",
    "\n",
    "inst = utils_io.setup_instrument_params(inst=inst, params=params)\n",
    "\n",
    "plt.imshow(inst._beam_kernel[0,:,:], origin='lower')"
   ]
  },
  {
   "cell_type": "code",
   "execution_count": 143,
   "metadata": {},
   "outputs": [
    {
     "data": {
      "text/plain": [
       "<matplotlib.image.AxesImage at 0x1a253ba080>"
      ]
     },
     "execution_count": 143,
     "metadata": {},
     "output_type": "execute_result"
    },
    {
     "data": {
      "image/png": "[encoded data removed]",
      "text/plain": [
       "<Figure size 432x288 with 1 Axes>"
      ]
     },
     "metadata": {},
     "output_type": "display_data"
    }
   ],
   "source": [
    "params = {'pixscale': 0.05, \n",
    "          'fov_npix': 37,\n",
    "          'spec_type': 'velocity', \n",
    "          'spec_start': -1000., \n",
    "          'spec_step': 10., \n",
    "          'nspec': 201, \n",
    "          'psf_type': 'DoubleGaussian', \n",
    "          'psf_fwhm1_major': 0.15,\n",
    "          'psf_fwhm1_minor': 0.075, \n",
    "          'psf_fwhm2_major': 0.8, \n",
    "          'psf_fwhm2_minor': 0.2, \n",
    "          'psf_PA1': 40., \n",
    "          'psf_PA2': -72.4, \n",
    "          'psf_scale1': 0.1,\n",
    "          'psf_scale2': 0.9, \n",
    "          'use_lsf': True, \n",
    "          'sig_inst_res': 36.1}\n",
    "\n",
    "inst = utils_io.setup_instrument_params(inst=inst, params=params)\n",
    "\n",
    "plt.imshow(inst._beam_kernel[0,:,:], origin='lower')"
   ]
  },
  {
   "cell_type": "code",
   "execution_count": null,
   "metadata": {},
   "outputs": [],
   "source": []
  }
 ],
 "metadata": {
  "kernelspec": {
   "display_name": "Python 3",
   "language": "python",
   "name": "python3"
  },
  "language_info": {
   "codemirror_mode": {
    "name": "ipython",
    "version": 3
   },
   "file_extension": ".py",
   "mimetype": "text/x-python",
   "name": "python",
   "nbconvert_exporter": "python",
   "pygments_lexer": "ipython3",
   "version": "3.6.8"
  },
  "varInspector": {
   "cols": {
    "lenName": 16,
    "lenType": 16,
    "lenVar": 40
   },
   "kernels_config": {
    "python": {
     "delete_cmd_postfix": "",
     "delete_cmd_prefix": "del ",
     "library": "var_list.py",
     "varRefreshCmd": "print(var_dic_list())"
    },
    "r": {
     "delete_cmd_postfix": ") ",
     "delete_cmd_prefix": "rm(",
     "library": "var_list.r",
     "varRefreshCmd": "cat(var_dic_list()) "
    }
   },
   "types_to_exclude": [
    "module",
    "function",
    "builtin_function_or_method",
    "instance",
    "_Feature"
   ],
   "window_display": false
  }
 },
 "nbformat": 4,
 "nbformat_minor": 1
}
